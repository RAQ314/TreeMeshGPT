{
  "cells": [
    {
      "cell_type": "code",
      "execution_count": 1,
      "metadata": {
        "id": "4I8HKF9qP3RQ"
      },
      "outputs": [
        {
          "name": "stdout",
          "output_type": "stream",
          "text": [
            "Jupyter environment detected. Enabling Open3D WebVisualizer.\n",
            "[Open3D INFO] WebRTC GUI backend enabled.\n",
            "[Open3D INFO] WebRTCWindowSystem: HTTP handshake server disabled.\n"
          ]
        }
      ],
      "source": [
        "from model.treemeshgpt_inference import TreeMeshGPT\n",
        "import os\n",
        "import numpy as np\n",
        "import open3d as o3d\n",
        "import torch\n",
        "from accelerate import Accelerator\n",
        "from pathlib import Path\n",
        "from fns import center_vertices, normalize_vertices_scale, quantize_verts, dequantize_verts\n",
        "import trimesh\n",
        "import pyvista as pv\n",
        "from utils.utils import GenerateAreaToRemesh, SaveAreaToRemeshInOBJ, ExtractRingsAroundTriangles"
      ]
    },
    {
      "cell_type": "code",
      "execution_count": 2,
      "metadata": {},
      "outputs": [],
      "source": [
        "VERSION = \"7bit\"\n",
        "CKPT_PATH = \"./checkpoints/treemeshgpt_7bit.pt\"\n",
        "\n",
        "OUTPUT_DIR=\"./output\"\n",
        "\n",
        "DECIMATION_TARGET_NFACES = 5000\n",
        "SAMPLING = \"uniform\" if VERSION == \"7bit\" else \"fps\"\n",
        "\n",
        "if not os.path.exists(\"./output\") :\n",
        "  os.mkdir(\"./output\")"
      ]
    },
    {
      "cell_type": "code",
      "execution_count": null,
      "metadata": {},
      "outputs": [],
      "source": [
        "NB_SAMPLES = 8192\n",
        "\n",
        "# MESH_PATH = \"demo/Mesh2.obj\"\n",
        "# TRIANGLES_TO_REMESH=[ 107, 106, 105, 104, 103, 102,\n",
        "#                       117, 116, 115, 114, 113, 112,\n",
        "#                       127, 126, 125, 124, 123, 122 ]\n",
        "# CONTEXT_RING=1\n",
        "\n",
        "# MESH_PATH=\"./demo/objaverse_pig_CC0.obj\"\n",
        "# TRIANGLES_TO_REMESH=[2299]  #Ear\n",
        "# TRIANGLES_TO_REMESH=[1399]  #Back\n",
        "# mesh = o3d.io.read_triangle_mesh(MESH_PATH)\n",
        "# TRIANGLES_TO_REMESH=ExtractRingsAroundTriangles(mesh, TRIANGLES_TO_REMESH, iMaxRingSize=3)\n",
        "# CONTEXT_RING=-1\n",
        "\n",
        "# MESH_PATH=\"./demo/objaverse_pig_CC0_Decim_2k.obj\"\n",
        "# TRIANGLES_TO_REMESH=[1594]  #Back\n",
        "# mesh = o3d.io.read_triangle_mesh(MESH_PATH)\n",
        "# TRIANGLES_TO_REMESH=ExtractRingsAroundTriangles(mesh, TRIANGLES_TO_REMESH, iMaxRingSize=1)\n",
        "# CONTEXT_RING=-1\n",
        "\n",
        "MESH_PATH=\"./demo/objaverse_pig_CC0_Decim_2k_norm7.obj\"\n",
        "TRIANGLES_TO_REMESH=[1593]  #Back\n",
        "mesh = o3d.io.read_triangle_mesh(MESH_PATH)\n",
        "TRIANGLES_TO_REMESH=ExtractRingsAroundTriangles(mesh, TRIANGLES_TO_REMESH, iMaxRingSize=1)\n",
        "CONTEXT_RING=-1"
      ]
    },
    {
      "cell_type": "code",
      "execution_count": 6,
      "metadata": {
        "colab": {
          "base_uri": "https://localhost:8080/"
        },
        "id": "tSSg1z1rVzGZ",
        "outputId": "42c374cd-402e-4676-f653-83169368c9bb"
      },
      "outputs": [
        {
          "name": "stdout",
          "output_type": "stream",
          "text": [
            "Sampled 8192 points on the submesh\n",
            "18 boundary edges on local area\n"
          ]
        },
        {
          "ename": "RuntimeError",
          "evalue": "[Open3D Error] (class std::shared_ptr<class open3d::geometry::HalfEdgeTriangleMesh> __cdecl open3d::geometry::HalfEdgeTriangleMesh::CreateFromTriangleMesh(const class open3d::geometry::TriangleMesh &)) D:\\a\\Open3D\\Open3D\\cpp\\open3d\\geometry\\HalfEdgeTriangleMesh.cpp:239: ComputeHalfEdges failed. Invalid vertex.\n",
          "output_type": "error",
          "traceback": [
            "\u001b[31m---------------------------------------------------------------------------\u001b[39m",
            "\u001b[31mRuntimeError\u001b[39m                              Traceback (most recent call last)",
            "\u001b[36mCell\u001b[39m\u001b[36m \u001b[39m\u001b[32mIn[6]\u001b[39m\u001b[32m, line 27\u001b[39m\n\u001b[32m     24\u001b[39m o3d.io.write_triangle_mesh(OUTPUT_DIR+\u001b[33m\"\u001b[39m\u001b[33m/\u001b[39m\u001b[33m\"\u001b[39m+\u001b[33m\"\u001b[39m\u001b[33mnormalized_\u001b[39m\u001b[33m\"\u001b[39m+os.path.split(MESH_PATH)[\u001b[32m1\u001b[39m], mesh)\n\u001b[32m     26\u001b[39m \u001b[38;5;66;03m#--- Extract boundary to remesh\u001b[39;00m\n\u001b[32m---> \u001b[39m\u001b[32m27\u001b[39m submesh, remeshBoundary, sampledPoints=\u001b[43mGenerateAreaToRemesh\u001b[49m\u001b[43m(\u001b[49m\u001b[43mmesh\u001b[49m\u001b[43m,\u001b[49m\u001b[43m \u001b[49m\u001b[43mTRIANGLES_TO_REMESH\u001b[49m\u001b[43m,\u001b[49m\u001b[43m \u001b[49m\u001b[43miMaxRingSize\u001b[49m\u001b[43m=\u001b[49m\u001b[43mCONTEXT_RING\u001b[49m\u001b[43m,\u001b[49m\u001b[43m \u001b[49m\u001b[43miNbSamples\u001b[49m\u001b[43m=\u001b[49m\u001b[43mNB_SAMPLES\u001b[49m\u001b[43m)\u001b[49m\n\u001b[32m     29\u001b[39m \u001b[38;5;66;03m#Debug : Save area to remesh in OBJ\u001b[39;00m\n\u001b[32m     30\u001b[39m SaveAreaToRemeshInOBJ(submesh, remeshBoundary, OUTPUT_DIR+\u001b[33m\"\u001b[39m\u001b[33m/\u001b[39m\u001b[33m\"\u001b[39m+\u001b[33m\"\u001b[39m\u001b[33marea2remesh_\u001b[39m\u001b[33m\"\u001b[39m+os.path.split(MESH_PATH)[\u001b[32m1\u001b[39m], iSampledPoints=sampledPoints)\n",
            "\u001b[36mFile \u001b[39m\u001b[32md:\\dev\\TreeMeshGPT-RAQ\\utils\\utils.py:147\u001b[39m, in \u001b[36mGenerateAreaToRemesh\u001b[39m\u001b[34m(iInputMesh, iTrianglesIndicesToRemove, iMaxRingSize, iNbSamples)\u001b[39m\n\u001b[32m    144\u001b[39m o3d.io.write_triangle_mesh(\u001b[33m\"\u001b[39m\u001b[33md:/tmp/subMesh_AfterRemove.obj\u001b[39m\u001b[33m\"\u001b[39m, subMesh)\n\u001b[32m    146\u001b[39m \u001b[38;5;66;03m#Extract boundary to remesh as chained list of vertices indices\u001b[39;00m\n\u001b[32m--> \u001b[39m\u001b[32m147\u001b[39m halfedgeSubMesh=\u001b[43mo3d\u001b[49m\u001b[43m.\u001b[49m\u001b[43mgeometry\u001b[49m\u001b[43m.\u001b[49m\u001b[43mHalfEdgeTriangleMesh\u001b[49m\u001b[43m.\u001b[49m\u001b[43mcreate_from_triangle_mesh\u001b[49m\u001b[43m(\u001b[49m\u001b[43msubMesh\u001b[49m\u001b[43m)\u001b[49m\n\u001b[32m    148\u001b[39m finalBoundaryHalfEdgesIndices=halfedgeSubMesh.boundary_half_edges_from_vertex(mapVertices[boundaryEdgesOfArea.pop()[\u001b[32m0\u001b[39m]])\n\u001b[32m    150\u001b[39m finalBoundaryVertices=[]\n",
            "\u001b[31mRuntimeError\u001b[39m: [Open3D Error] (class std::shared_ptr<class open3d::geometry::HalfEdgeTriangleMesh> __cdecl open3d::geometry::HalfEdgeTriangleMesh::CreateFromTriangleMesh(const class open3d::geometry::TriangleMesh &)) D:\\a\\Open3D\\Open3D\\cpp\\open3d\\geometry\\HalfEdgeTriangleMesh.cpp:239: ComputeHalfEdges failed. Invalid vertex.\n"
          ]
        }
      ],
      "source": [
        "#--- Load and normalize mesh\n",
        "mesh = o3d.io.read_triangle_mesh(MESH_PATH)\n",
        "vertices = np.asarray(mesh.vertices)\n",
        "vertices = center_vertices(vertices)\n",
        "vertices = normalize_vertices_scale(vertices)\n",
        "vertices = np.clip(vertices, a_min=-0.5, a_max = 0.5)\n",
        "triangles = np.asarray(mesh.triangles)\n",
        "\n",
        "#Quantize/dequantize vertices\n",
        "o3d.io.write_triangle_mesh(OUTPUT_DIR+\"/\"+\"BeforeQuantize_\"+os.path.split(MESH_PATH)[1], mesh)\n",
        "vertices=quantize_verts(vertices, 7)\n",
        "vertices=dequantize_verts(vertices, 7)\n",
        "o3d.io.write_triangle_mesh(OUTPUT_DIR+\"/\"+\"AfterQuantize_\"+os.path.split(MESH_PATH)[1], mesh)\n",
        "\n",
        "mesh = o3d.geometry.TriangleMesh()\n",
        "mesh.vertices = o3d.utility.Vector3dVector(vertices)\n",
        "mesh.triangles = o3d.utility.Vector3iVector(triangles)\n",
        "mesh.remove_duplicated_vertices()\n",
        "mesh.remove_duplicated_triangles()\n",
        "mesh.remove_degenerate_triangles()\n",
        "mesh.remove_unreferenced_vertices()\n",
        "\n",
        "#Debug : save normalized mesh\n",
        "o3d.io.write_triangle_mesh(OUTPUT_DIR+\"/\"+\"normalized_\"+os.path.split(MESH_PATH)[1], mesh)\n",
        "\n",
        "#--- Extract boundary to remesh\n",
        "submesh, remeshBoundary, sampledPoints=GenerateAreaToRemesh(mesh, TRIANGLES_TO_REMESH, iMaxRingSize=CONTEXT_RING, iNbSamples=NB_SAMPLES)\n",
        "\n",
        "#Debug : Save area to remesh in OBJ\n",
        "SaveAreaToRemeshInOBJ(submesh, remeshBoundary, OUTPUT_DIR+\"/\"+\"area2remesh_\"+os.path.split(MESH_PATH)[1], iSampledPoints=sampledPoints)\n",
        "o3d.io.write_point_cloud(OUTPUT_DIR+\"/\"+\"Sampling_\"+os.path.split(MESH_PATH)[1]+\".xyz\", sampledPoints)\n",
        "\n",
        "#Check number of faces\n",
        "print(\"Number of faces to remesh: \", len(submesh.triangles))\n",
        "if len(submesh.triangles) >= DECIMATION_TARGET_NFACES:\n",
        "    raise Exception(\"@@@@ Number of faces to remesh is larger than target number of faces\")"
      ]
    },
    {
      "cell_type": "code",
      "execution_count": null,
      "metadata": {
        "id": "us6-7u4VULt5"
      },
      "outputs": [],
      "source": [
        "#Point cloud sampling structures\n",
        "pc_array = np.asarray(sampledPoints.points)\n",
        "pc = torch.tensor(pc_array).unsqueeze(0).float().cuda()\n",
        "\n",
        "#Halfedge mesh\n",
        "halfEdgeTriangularMesh=o3d.geometry.HalfEdgeTriangleMesh.create_from_triangle_mesh(submesh)"
      ]
    },
    {
      "cell_type": "code",
      "execution_count": null,
      "metadata": {
        "id": "1-o0138gTzeK"
      },
      "outputs": [],
      "source": [
        "# Set up model\n",
        "transformer = TreeMeshGPT(quant_bit = 7 if VERSION == \"7bit\" else 9, max_seq_len=13000) # can set higher max_seq_len if GPU is L4 or A100\n",
        "transformer.load(CKPT_PATH)\n",
        "accelerator = Accelerator(mixed_precision=\"fp16\")\n",
        "transformer = accelerator.prepare(transformer)"
      ]
    },
    {
      "cell_type": "code",
      "execution_count": null,
      "metadata": {
        "colab": {
          "base_uri": "https://localhost:8080/"
        },
        "id": "SihYiRocVO1c",
        "outputId": "87bf4332-6ecd-475c-c8bb-ebf5fb62beaa"
      },
      "outputs": [],
      "source": [
        "# Generation\n",
        "with accelerator.autocast(), torch.no_grad():\n",
        "    out_faces = transformer.generate_completion(halfEdgeTriangularMesh, remeshBoundary, pc, n = 0.25)"
      ]
    },
    {
      "cell_type": "code",
      "execution_count": null,
      "metadata": {
        "id": "b9anVC8oWmwU"
      },
      "outputs": [],
      "source": [
        "vertices = out_faces.view(-1, 3).cpu().numpy()\n",
        "n = vertices.shape[0]\n",
        "faces = torch.arange(1, n + 1).view(-1, 3).numpy()\n",
        "\n",
        "with open(OUTPUT_DIR+\"/\"+\"GeneratedVertices_\"+os.path.split(MESH_PATH)[1], \"w\") as file :\n",
        "  for vertex in vertices :\n",
        "    file.write(f\"v  {vertex[0]}  {vertex[1]}  {vertex[2]}\\n\")\n",
        "\n",
        "if min(min(faces.tolist())) == 1:\n",
        "    faces = (np.array(faces) - 1)\n",
        "\n",
        "# Remove collapsed triangles and duplicates\n",
        "p0 = vertices[faces[:, 0]]\n",
        "p1 = vertices[faces[:, 1]]\n",
        "p2 = vertices[faces[:, 2]]\n",
        "collapsed_mask = np.all(p0 == p1, axis=1) | np.all(p0 == p2, axis=1) | np.all(p1 == p2, axis=1)\n",
        "faces = faces[~collapsed_mask]\n",
        "faces = faces.tolist()\n",
        "scene_mesh = trimesh.Trimesh(vertices=vertices, faces=faces, force=\"mesh\",\n",
        "                        merge_primitives=True)\n",
        "scene_mesh.merge_vertices()\n",
        "scene_mesh.update_faces(scene_mesh.nondegenerate_faces())\n",
        "scene_mesh.update_faces(scene_mesh.unique_faces())\n",
        "scene_mesh.remove_unreferenced_vertices()\n",
        "scene_mesh.fix_normals()"
      ]
    },
    {
      "cell_type": "code",
      "execution_count": null,
      "metadata": {
        "id": "4OlaXmWZVSEQ"
      },
      "outputs": [],
      "source": [
        "del out_faces\n",
        "torch.cuda.empty_cache()"
      ]
    },
    {
      "cell_type": "code",
      "execution_count": null,
      "metadata": {
        "colab": {
          "base_uri": "https://localhost:8080/",
          "height": 542
        },
        "id": "ALIutxzSW2DU",
        "outputId": "fafab7ce-8194-4653-f473-6ca357370ac6"
      },
      "outputs": [],
      "source": [
        "# Plot mesh from: https://colab.research.google.com/drive/1CR_HDvJ2AnjJV3Bf5vwP70K0hx3RcdMb?usp=sharing#scrollTo=kXi90AcckMF5\n",
        "\n",
        "triangles = np.asarray(scene_mesh.faces)\n",
        "vertices = np.asarray(scene_mesh.vertices)\n",
        "colors = None\n",
        "\n",
        "mesh = o3d.geometry.TriangleMesh()\n",
        "mesh.vertices = o3d.utility.Vector3dVector(vertices)\n",
        "mesh.triangles = o3d.utility.Vector3iVector(triangles)\n",
        "\n",
        "if not mesh.has_vertex_normals(): mesh.compute_vertex_normals()\n",
        "if not mesh.has_triangle_normals(): mesh.compute_triangle_normals()\n",
        "\n",
        "if mesh.has_triangle_normals():\n",
        "    colors = (0.5, 0.5, 0.5) + np.asarray(mesh.triangle_normals) * 0.5\n",
        "    colors = tuple(map(tuple, colors))\n",
        "else:\n",
        "    colors = (1.0, 0.0, 0.0)\n",
        "\n",
        "import plotly.graph_objects as go\n",
        "\n",
        "fig = go.Figure(\n",
        "    data=[\n",
        "        go.Mesh3d(\n",
        "            x=vertices[:,0],\n",
        "            y=vertices[:,1],\n",
        "            z=vertices[:,2],\n",
        "            i=triangles[:,0],\n",
        "            j=triangles[:,1],\n",
        "            k=triangles[:,2],\n",
        "            facecolor=colors,\n",
        "            opacity=0.50)\n",
        "    ],\n",
        "    layout=dict(\n",
        "        scene=dict(\n",
        "            xaxis=dict(visible=False),\n",
        "            yaxis=dict(visible=False),\n",
        "            zaxis=dict(visible=False)\n",
        "        )\n",
        "    )\n",
        ")\n",
        "fig.show()"
      ]
    },
    {
      "cell_type": "code",
      "execution_count": null,
      "metadata": {
        "colab": {
          "base_uri": "https://localhost:8080/",
          "height": 105
        },
        "id": "sSfelqVcYbXF",
        "outputId": "ad04b074-a6b2-464c-e8d7-981eec402744"
      },
      "outputs": [],
      "source": [
        "# Save mesh if necessary\n",
        "outputFilePath=\"./output/out_\"+os.path.split(MESH_PATH)[1]\n",
        "scene_mesh.export(outputFilePath)\n"
      ]
    },
    {
      "cell_type": "code",
      "execution_count": null,
      "metadata": {
        "id": "aoVn3MajeiDB"
      },
      "outputs": [],
      "source": []
    }
  ],
  "metadata": {
    "accelerator": "GPU",
    "colab": {
      "gpuType": "T4",
      "provenance": []
    },
    "kernelspec": {
      "display_name": "Python 3",
      "name": "python3"
    },
    "language_info": {
      "codemirror_mode": {
        "name": "ipython",
        "version": 3
      },
      "file_extension": ".py",
      "mimetype": "text/x-python",
      "name": "python",
      "nbconvert_exporter": "python",
      "pygments_lexer": "ipython3",
      "version": "3.11.13"
    }
  },
  "nbformat": 4,
  "nbformat_minor": 0
}
