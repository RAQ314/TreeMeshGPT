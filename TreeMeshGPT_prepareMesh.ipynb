{
 "cells": [
  {
   "cell_type": "code",
   "execution_count": null,
   "id": "ced1006f",
   "metadata": {},
   "outputs": [],
   "source": [
    "import os\n",
    "import numpy as np\n",
    "import open3d as o3d\n",
    "from fns import center_vertices, normalize_vertices_scale, quantize_verts, dequantize_verts, prepare_halfedge_mesh\n",
    "from utils.utils import SaveOBJ"
   ]
  },
  {
   "cell_type": "code",
   "execution_count": null,
   "id": "e20d7c69",
   "metadata": {},
   "outputs": [],
   "source": [
    "OUTPUT_DIR=\"./output\"\n",
    "\n",
    "if not os.path.exists(\"./output\") :\n",
    "  os.mkdir(\"./output\")"
   ]
  },
  {
   "cell_type": "code",
   "execution_count": null,
   "id": "d06b99c9",
   "metadata": {},
   "outputs": [],
   "source": [
    "MESH_PATH=\"./demo/NewMesh1_Tri.obj\"\n"
   ]
  },
  {
   "cell_type": "code",
   "execution_count": null,
   "id": "72c64138",
   "metadata": {},
   "outputs": [],
   "source": [
    "#--- Load and normalize mesh\n",
    "mesh = o3d.io.read_triangle_mesh(MESH_PATH)\n",
    "\n",
    "coordFrame= o3d.geometry.TriangleMesh.create_coordinate_frame()\n",
    "rotation=coordFrame.get_rotation_matrix_from_xyz((np.pi/2, -np.pi/2, 0))\n",
    "mesh.rotate(rotation, center=(0, 0, 0))\n",
    "\n",
    "vertices = np.asarray(mesh.vertices)\n",
    "vertices = center_vertices(vertices)\n",
    "vertices = normalize_vertices_scale(vertices)\n",
    "vertices = np.clip(vertices, a_min=-0.5, a_max = 0.5)\n",
    "triangles = np.asarray(mesh.triangles)\n",
    "\n",
    "#Quantize/dequantize vertices\n",
    "o3d.io.write_triangle_mesh(OUTPUT_DIR+\"/\"+\"BeforeQuantize_\"+os.path.split(MESH_PATH)[1], mesh)\n",
    "vertices=quantize_verts(vertices, 7)\n",
    "vertices=dequantize_verts(vertices, 7)\n",
    "o3d.io.write_triangle_mesh(OUTPUT_DIR+\"/\"+\"AfterQuantize_\"+os.path.split(MESH_PATH)[1], mesh)\n",
    "\n",
    "mesh = o3d.geometry.TriangleMesh()\n",
    "mesh.vertices = o3d.utility.Vector3dVector(vertices)\n",
    "mesh.triangles = o3d.utility.Vector3iVector(triangles)\n",
    "mesh.remove_duplicated_vertices()\n",
    "mesh.remove_duplicated_triangles()\n",
    "mesh.remove_degenerate_triangles()\n",
    "mesh.remove_unreferenced_vertices()\n",
    "\n",
    "#Debug : save normalized mesh\n",
    "o3d.io.write_triangle_mesh(OUTPUT_DIR+\"/\"+\"normalized_\"+os.path.split(MESH_PATH)[1], mesh)\n",
    "\n",
    "#--- Sort mesh elements\n",
    "sortedHalfedgeMesh, _, _ = prepare_halfedge_mesh(np.asarray(mesh.vertices), np.asarray(mesh.triangles))\n",
    "\n",
    "#Debug : save sorted mesh\n",
    "o3d.io.write_triangle_mesh(OUTPUT_DIR+\"/\"+\"sorted_\"+os.path.split(MESH_PATH)[1], mesh)\n",
    "SaveOBJ(mesh.vertices, mesh.triangles, OUTPUT_DIR+\"/\"+\"sortedColored_\"+os.path.split(MESH_PATH)[1]+\".obj\", True)\n",
    "\n",
    "# #--- Extract boundary to remesh\n",
    "# submesh, remeshBoundary, sampledPoints=GenerateAreaToRemesh(mesh, TRIANGLES_TO_REMESH, iMaxRingSize=CONTEXT_RING, iNbSamples=NB_SAMPLING_POINTS)\n",
    "\n",
    "# #Debug : Save area to remesh in OBJ\n",
    "# SaveAreaToRemeshInOBJ(submesh, remeshBoundary, OUTPUT_DIR+\"/\"+\"area2remesh_\"+os.path.split(MESH_PATH)[1], iSampledPoints=sampledPoints)\n",
    "# o3d.io.write_point_cloud(OUTPUT_DIR+\"/\"+\"Sampling_\"+os.path.split(MESH_PATH)[1]+\".xyz\", sampledPoints)\n",
    "\n",
    "# #Check number of faces\n",
    "# print(\"Number of faces to remesh: \", len(submesh.triangles))\n",
    "# if len(submesh.triangles) >= DECIMATION_TARGET_NFACES:\n",
    "#     raise Exception(\"@@@@ Number of faces to remesh is larger than target number of faces\")"
   ]
  },
  {
   "cell_type": "code",
   "execution_count": null,
   "id": "9d3be6f3",
   "metadata": {},
   "outputs": [],
   "source": []
  }
 ],
 "metadata": {
  "kernelspec": {
   "display_name": "Python 3",
   "language": "python",
   "name": "python3"
  },
  "language_info": {
   "codemirror_mode": {
    "name": "ipython",
    "version": 3
   },
   "file_extension": ".py",
   "mimetype": "text/x-python",
   "name": "python",
   "nbconvert_exporter": "python",
   "pygments_lexer": "ipython3",
   "version": "3.11.13"
  }
 },
 "nbformat": 4,
 "nbformat_minor": 5
}
