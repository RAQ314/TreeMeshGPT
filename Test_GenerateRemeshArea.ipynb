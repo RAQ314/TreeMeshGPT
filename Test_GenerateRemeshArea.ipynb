{
 "cells": [
  {
   "cell_type": "code",
   "execution_count": 3,
   "id": "b5589778",
   "metadata": {},
   "outputs": [],
   "source": [
    "import os\n",
    "import numpy as np\n",
    "import open3d as o3d\n",
    "from utils.utils import *\n",
    "\n",
    "if not os.path.exists(\"./output\") :\n",
    "  os.makedirs(\"./output\")"
   ]
  },
  {
   "cell_type": "markdown",
   "id": "a94ff605",
   "metadata": {},
   "source": [
    "### Test 1"
   ]
  },
  {
   "cell_type": "code",
   "execution_count": 4,
   "id": "ffe7f0a7",
   "metadata": {},
   "outputs": [
    {
     "name": "stdout",
     "output_type": "stream",
     "text": [
      "Sampled 200 points on the submesh\n",
      "12 boundary edges on local area\n",
      "[Open3D INFO] Skipping non-triangle primitive geometry of type: 2\n"
     ]
    }
   ],
   "source": [
    "#--- Input : mesh + list of triangles to remove\n",
    "inputMeshPath=\"./demo/Mesh2.obj\"\n",
    "trianglesToRemesh=[107, 106, 105, 104, 103, 102,\n",
    "                   117, 116, 115, 114, 113, 112,\n",
    "                   127, 126, 125, 124, 123, 122 ]\n",
    "\n",
    "#--- Load mesh\n",
    "mesh=o3d.io.read_triangle_mesh(inputMeshPath)\n",
    "\n",
    "#--- Extract local area to remesh\n",
    "submesh, remeshBoundary, sampledPoints=GenerateAreaToRemesh(mesh, trianglesToRemesh, iNbSamples=200)\n",
    "\n",
    "#--- Save area to remesh in OBJ\n",
    "outputPath=\"./output/Test1_AreaToRemesh.obj\"\n",
    "SaveAreaToRemeshInOBJ(submesh, remeshBoundary, outputPath, iSampledPoints=sampledPoints)\n",
    "\n",
    "#--- Test read\n",
    "unstreamedSubMesh, unstreamedBoundary, unstreamedSamplePoints=LoadAreaToRemeshFromOBJ(outputPath)\n",
    "\n",
    "#Check if the loaded data is the same as the original\n",
    "assert np.allclose(np.asarray(unstreamedSubMesh.vertices), np.asarray(submesh.vertices))\n",
    "assert np.allclose(np.asarray(unstreamedSubMesh.triangles), np.asarray(submesh.triangles))\n",
    "assert np.allclose(np.asarray(unstreamedBoundary), np.asarray(remeshBoundary))\n",
    "assert np.allclose(np.asarray(unstreamedSamplePoints.points), np.asarray(sampledPoints.points))"
   ]
  },
  {
   "cell_type": "markdown",
   "id": "383ad362",
   "metadata": {},
   "source": [
    "### Test 2"
   ]
  },
  {
   "cell_type": "code",
   "execution_count": null,
   "id": "a3460be0",
   "metadata": {},
   "outputs": [
    {
     "name": "stdout",
     "output_type": "stream",
     "text": [
      "Sampled 200 points on the submesh\n",
      "12 boundary edges on local area\n"
     ]
    }
   ],
   "source": [
    "#--- Input : mesh + list of triangles to remove\n",
    "inputMeshPath=\"./demo/Mesh2.obj\"\n",
    "trianglesToRemesh=[107, 106, 105, 104, 103, 102,\n",
    "                   117, 116, 115, 114, 113, 112,\n",
    "                   127, 126, 125, 124, 123, 122 ]\n",
    "\n",
    "#--- Load mesh\n",
    "mesh=o3d.io.read_triangle_mesh(inputMeshPath)\n",
    "\n",
    "#--- Extract local area to remesh\n",
    "submesh, remeshBoundary, sampledPoints=GenerateAreaToRemesh(mesh, trianglesToRemesh, iMaxRingSize=2, iNbSamples=200)\n",
    "\n",
    "#--- Save area to remesh in OBJ\n",
    "outputPath=\"./output/Test2_AreaToRemesh.obj\"\n",
    "SaveAreaToRemeshInOBJ(submesh, remeshBoundary, outputPath, iSampledPoints=sampledPoints)\n",
    "\n",
    "#--- Test read\n",
    "unstreamedSubMesh, unstreamedBoundary, unstreamedSamplePoints=LoadAreaToRemeshFromOBJ(outputPath)\n",
    "\n",
    "#Check if the loaded data is the same as the original\n",
    "assert np.allclose(np.asarray(unstreamedSubMesh.vertices), np.asarray(submesh.vertices))\n",
    "assert np.allclose(np.asarray(unstreamedSubMesh.triangles), np.asarray(submesh.triangles))\n",
    "assert np.allclose(np.asarray(unstreamedBoundary), np.asarray(remeshBoundary))\n",
    "assert np.allclose(np.asarray(unstreamedSamplePoints.points), np.asarray(sampledPoints.points))"
   ]
  }
 ],
 "metadata": {
  "kernelspec": {
   "display_name": "Python 3",
   "language": "python",
   "name": "python3"
  },
  "language_info": {
   "codemirror_mode": {
    "name": "ipython",
    "version": 3
   },
   "file_extension": ".py",
   "mimetype": "text/x-python",
   "name": "python",
   "nbconvert_exporter": "python",
   "pygments_lexer": "ipython3",
   "version": "3.11.13"
  }
 },
 "nbformat": 4,
 "nbformat_minor": 5
}
