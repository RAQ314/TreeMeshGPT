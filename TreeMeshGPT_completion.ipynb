{
  "cells": [
    {
      "cell_type": "code",
      "execution_count": 1,
      "metadata": {
        "id": "4I8HKF9qP3RQ"
      },
      "outputs": [
        {
          "name": "stdout",
          "output_type": "stream",
          "text": [
            "Jupyter environment detected. Enabling Open3D WebVisualizer.\n",
            "[Open3D INFO] WebRTC GUI backend enabled.\n",
            "[Open3D INFO] WebRTCWindowSystem: HTTP handshake server disabled.\n"
          ]
        }
      ],
      "source": [
        "from model.treemeshgpt_inference import TreeMeshGPT\n",
        "import os\n",
        "import numpy as np\n",
        "import open3d as o3d\n",
        "import torch\n",
        "from accelerate import Accelerator\n",
        "from pathlib import Path\n",
        "from fns import center_vertices, normalize_vertices_scale, quantize_verts, dequantize_verts\n",
        "import trimesh\n",
        "import pyvista as pv\n",
        "from utils.utils import GenerateAreaToRemesh, SaveAreaToRemeshInOBJ, ExtractRingsAroundTriangles, SaveOBJ\n",
        "from tokenizer import prepare_halfedge_mesh\n",
        "import random"
      ]
    },
    {
      "cell_type": "code",
      "execution_count": 2,
      "metadata": {},
      "outputs": [],
      "source": [
        "VERSION = \"7bit\"\n",
        "CKPT_PATH = \"./checkpoints/treemeshgpt_7bit.pt\"\n",
        "\n",
        "OUTPUT_DIR=\"./output\"\n",
        "\n",
        "DECIMATION_TARGET_NFACES = 5000\n",
        "SAMPLING = \"uniform\" if VERSION == \"7bit\" else \"fps\"\n",
        "\n",
        "TORCH_DEVICE=\"cuda:1\"\n",
        "\n",
        "if not os.path.exists(\"./output\") :\n",
        "  os.mkdir(\"./output\")"
      ]
    },
    {
      "cell_type": "code",
      "execution_count": 3,
      "metadata": {},
      "outputs": [],
      "source": [
        "# #Set cuda device\n",
        "# torch.device(TORCH_DEVICE)\n",
        "\n",
        "# # Define the seed value\n",
        "# seed = 42\n",
        "\n",
        "# # Set seed for PyTorch\n",
        "# torch.manual_seed(seed)\n",
        "\n",
        "# # Set seed for CUDA (if using GPUs)\n",
        "# torch.cuda.manual_seed(seed)\n",
        "# torch.cuda.manual_seed_all(seed)  # For multi-GPU setups\n",
        "\n",
        "# # Set seed for Python's random module\n",
        "# random.seed(seed)\n",
        "\n",
        "# # Set seed for NumPy\n",
        "# np.random.seed(seed)\n",
        "\n",
        "# # Ensure deterministic behavior for PyTorch operations\n",
        "# torch.backends.cudnn.deterministic = True\n",
        "# torch.backends.cudnn.benchmark = False"
      ]
    },
    {
      "cell_type": "code",
      "execution_count": 4,
      "metadata": {},
      "outputs": [],
      "source": [
        "NB_SAMPLING_POINTS=8192\n",
        "\n",
        "# MESH_PATH = \"demo/Mesh2.obj\"\n",
        "# TRIANGLES_TO_REMESH=[ 107, 106, 105, 104, 103, 102,\n",
        "#                       117, 116, 115, 114, 113, 112,\n",
        "#                       127, 126, 125, 124, 123, 122 ]\n",
        "# CONTEXT_RING=-1\n",
        "\n",
        "# # Model \"demo/objaverse_pig.obj\", remove back -> OK\n",
        "# MESH_PATH=\"demo/objaverse_pig.obj\"\n",
        "# TRIANGLES_TO_REMESH=[ 3052, 3053, 3062, 3063, 1409, 1408, 1398, 1399, 1388, 1389, 3042, 3043 ]\n",
        "# CONTEXT_RING=-1\n",
        "\n",
        "# # Model \"demo/objaverse_pig.obj\", remove ear -> free boundaries\n",
        "# MESH_PATH=\"demo/objaverse_pig.obj\"\n",
        "# mesh = o3d.io.read_triangle_mesh(MESH_PATH)\n",
        "# TRIANGLES_TO_REMESH=ExtractRingsAroundTriangles(mesh, [2298], iMaxRingSize=2)\n",
        "# CONTEXT_RING=-1\n",
        "\n",
        "# MESH_PATH=\"./demo/objaverse_pig_CC0.obj\"\n",
        "# #TRIANGLES_TO_REMESH=[2299]  #Ear\n",
        "# TRIANGLES_TO_REMESH=[1399]  #Back\n",
        "# mesh = o3d.io.read_triangle_mesh(MESH_PATH)\n",
        "# TRIANGLES_TO_REMESH=ExtractRingsAroundTriangles(mesh, TRIANGLES_TO_REMESH, iMaxRingSize=3)\n",
        "# CONTEXT_RING=-1\n",
        "\n",
        "# MESH_PATH=\"./demo/objaverse_pig_CC0_Decim_2k.obj\"\n",
        "# TRIANGLES_TO_REMESH=[1594]  #Back\n",
        "# mesh = o3d.io.read_triangle_mesh(MESH_PATH)\n",
        "# TRIANGLES_TO_REMESH=ExtractRingsAroundTriangles(mesh, TRIANGLES_TO_REMESH, iMaxRingSize=1)\n",
        "# CONTEXT_RING=-1\n",
        "\n",
        "# MESH_PATH=\"./demo/objaverse_pig_CC0_Decim_2k_norm7.obj\"\n",
        "# TRIANGLES_TO_REMESH=[1593]  #Back\n",
        "# mesh = o3d.io.read_triangle_mesh(MESH_PATH)\n",
        "# TRIANGLES_TO_REMESH=ExtractRingsAroundTriangles(mesh, TRIANGLES_TO_REMESH, iMaxRingSize=1)\n",
        "# CONTEXT_RING=-1\n",
        "\n",
        "# #-----------------------------------------------------\n",
        "# MESH_PATH=\"./demo/NewMesh1_Tri.obj\"\n",
        "# TRIANGLES_TO_REMESH=[394]  #front (+x)\n",
        "# TRIANGLES_TO_REMESH=[174]  #back (-x)\n",
        "# TRIANGLES_TO_REMESH=[205]  #top (+z)\n",
        "# TRIANGLES_TO_REMESH=[275]  #bottom (-z)\n",
        "# #TRIANGLES_TO_REMESH=[552]  #left (-y)\n",
        "# #TRIANGLES_TO_REMESH=[85]  #right (+y)\n",
        "\n",
        "# #TRIANGLES_TO_REMESH=[206]  #Top\n",
        "# #TRIANGLES_TO_REMESH=[390]  #Tip\n",
        "# #TRIANGLES_TO_REMESH=[272]  #bottom\n",
        "# #TRIANGLES_TO_REMESH=[165]  #back\n",
        "# mesh = o3d.io.read_triangle_mesh(MESH_PATH)\n",
        "# TRIANGLES_TO_REMESH=ExtractRingsAroundTriangles(mesh, TRIANGLES_TO_REMESH, iMaxRingSize=2)\n",
        "# CONTEXT_RING=-1\n",
        "\n",
        "# #-----------------------------------------------------\n",
        "# MESH_PATH=\"./demo/NewMesh2_Tri.obj\"\n",
        "# TRIANGLES_TO_REMESH=[242]  #front (+x)\n",
        "# TRIANGLES_TO_REMESH=[170]  #back (-x)\n",
        "# TRIANGLES_TO_REMESH=[276]  #top (+z)\n",
        "# TRIANGLES_TO_REMESH=[205]  #bottom (-z)\n",
        "# #TRIANGLES_TO_REMESH=[45]  #left (-y)\n",
        "# #TRIANGLES_TO_REMESH=[434]  #right (+y)\n",
        "# mesh = o3d.io.read_triangle_mesh(MESH_PATH)\n",
        "# TRIANGLES_TO_REMESH=ExtractRingsAroundTriangles(mesh, TRIANGLES_TO_REMESH, iMaxRingSize=2)\n",
        "# CONTEXT_RING=-1\n",
        "\n",
        "#-----------------------------------------------------\n",
        "MESH_PATH=\"./demo/NewMesh3_Tri.obj\"\n",
        "TRIANGLES_TO_REMESH=[91]  #front (+x)\n",
        "TRIANGLES_TO_REMESH=[41]  #back (-x)\n",
        "TRIANGLES_TO_REMESH=[63]  #top (+z)\n",
        "TRIANGLES_TO_REMESH=[52]  #bottom (-z)\n",
        "#TRIANGLES_TO_REMESH=[11]  #left (-y)\n",
        "#TRIANGLES_TO_REMESH=[137]  #right (+y)\n",
        "mesh = o3d.io.read_triangle_mesh(MESH_PATH)\n",
        "TRIANGLES_TO_REMESH=ExtractRingsAroundTriangles(mesh, TRIANGLES_TO_REMESH, iMaxRingSize=2)\n",
        "CONTEXT_RING=-1"
      ]
    },
    {
      "cell_type": "code",
      "execution_count": 5,
      "metadata": {
        "colab": {
          "base_uri": "https://localhost:8080/"
        },
        "id": "tSSg1z1rVzGZ",
        "outputId": "42c374cd-402e-4676-f653-83169368c9bb"
      },
      "outputs": [
        {
          "name": "stdout",
          "output_type": "stream",
          "text": [
            "Sampled 8192 points on the submesh\n",
            "19 boundary edges on local area\n",
            "Number of faces to remesh:  103\n"
          ]
        }
      ],
      "source": [
        "#--- Load and normalize mesh\n",
        "mesh = o3d.io.read_triangle_mesh(MESH_PATH)\n",
        "\n",
        "# #-- Rotate the mesh to align the area to remesh with the vector (1, 1, 1)\n",
        "# mesh = AlignBoundaryWithVector(mesh, TRIANGLES_TO_REMESH, vector=(0, 0, 1))\n",
        "# o3d.io.write_triangle_mesh(OUTPUT_DIR+\"/\"+\"AlignBoundaryWithVector_\"+os.path.split(MESH_PATH)[1], mesh)\n",
        "\n",
        "vertices = np.asarray(mesh.vertices)\n",
        "vertices = center_vertices(vertices)\n",
        "vertices = normalize_vertices_scale(vertices)\n",
        "vertices = np.clip(vertices, a_min=-0.5, a_max = 0.5)\n",
        "triangles = np.asarray(mesh.triangles)\n",
        "\n",
        "#-- Reorder mesh elements\n",
        "he_mesh, _, _, TRIANGLES_TO_REMESH=prepare_halfedge_mesh(vertices, triangles, TRIANGLES_TO_REMESH)\n",
        "# he_mesh = o3d.geometry.TriangleMesh()\n",
        "# he_mesh.vertices = o3d.utility.Vector3dVector(vertices)\n",
        "# he_mesh.triangles = o3d.utility.Vector3iVector(triangles)\n",
        "\n",
        "#Debug : save normalized and reorderedmesh\n",
        "localMesh = o3d.geometry.TriangleMesh()\n",
        "localMesh.vertices = he_mesh.vertices\n",
        "localMesh.triangles = he_mesh.triangles\n",
        "o3d.io.write_triangle_mesh(OUTPUT_DIR+\"/\"+\"normalized_\"+os.path.split(MESH_PATH)[1], localMesh)\n",
        "SaveOBJ(he_mesh.vertices, he_mesh.triangles, OUTPUT_DIR+\"/\"+\"normalizedColored_\"+os.path.split(MESH_PATH)[1]+\".obj\", True)\n",
        "\n",
        "#--- Extract boundary to remesh\n",
        "submesh, remeshBoundary, sampledPoints=GenerateAreaToRemesh(localMesh, TRIANGLES_TO_REMESH, iMaxRingSize=CONTEXT_RING, iNbSamples=NB_SAMPLING_POINTS)\n",
        "\n",
        "#Debug : Save area to remesh in OBJ\n",
        "SaveAreaToRemeshInOBJ(submesh, remeshBoundary, OUTPUT_DIR+\"/\"+\"area2remesh_\"+os.path.split(MESH_PATH)[1], iSampledPoints=sampledPoints)\n",
        "o3d.io.write_point_cloud(OUTPUT_DIR+\"/\"+\"Sampling_\"+os.path.split(MESH_PATH)[1]+\".xyz\", sampledPoints)\n",
        "\n",
        "#Check number of faces\n",
        "print(\"Number of faces to remesh: \", len(submesh.triangles))\n",
        "if len(submesh.triangles) >= DECIMATION_TARGET_NFACES:\n",
        "    raise Exception(\"@@@@ Number of faces to remesh is larger than target number of faces\")"
      ]
    },
    {
      "cell_type": "code",
      "execution_count": 6,
      "metadata": {
        "id": "us6-7u4VULt5"
      },
      "outputs": [],
      "source": [
        "#Point cloud sampling structures\n",
        "pc_array = np.asarray(sampledPoints.points)\n",
        "pc = torch.tensor(pc_array).unsqueeze(0).float().cuda()\n",
        "\n",
        "#Halfedge mesh\n",
        "halfEdgeTriangularMesh=o3d.geometry.HalfEdgeTriangleMesh.create_from_triangle_mesh(submesh)"
      ]
    },
    {
      "cell_type": "code",
      "execution_count": 7,
      "metadata": {
        "id": "1-o0138gTzeK"
      },
      "outputs": [
        {
          "name": "stderr",
          "output_type": "stream",
          "text": [
            "Detected kernel version 4.18.0, which is below the recommended minimum of 5.5.0; this can cause the process to hang. It is recommended to upgrade the kernel to the minimum version or higher.\n"
          ]
        }
      ],
      "source": [
        "# Set up model\n",
        "transformer = TreeMeshGPT(quant_bit = 7 if VERSION == \"7bit\" else 9, max_seq_len=13000) # can set higher max_seq_len if GPU is L4 or A100\n",
        "transformer.load(CKPT_PATH)\n",
        "accelerator = Accelerator(mixed_precision=\"fp16\")\n",
        "transformer = accelerator.prepare(transformer)"
      ]
    },
    {
      "cell_type": "code",
      "execution_count": 8,
      "metadata": {
        "colab": {
          "base_uri": "https://localhost:8080/"
        },
        "id": "SihYiRocVO1c",
        "outputId": "87bf4332-6ecd-475c-c8bb-ebf5fb62beaa"
      },
      "outputs": [
        {
          "name": "stdout",
          "output_type": "stream",
          "text": [
            "Starting initialization with existing mesh...\n",
            "Stack size: 1\n",
            "Stack size: 3\n",
            "Stack size: 4\n",
            "Stack size: 5\n",
            "Stack size: 5\n",
            "Stack size: 5\n",
            "Stack size: 6\n",
            "Stack size: 7\n",
            "Stack size: 7\n",
            "Stack size: 8\n",
            "Stack size: 8\n",
            "Stack size: 9\n",
            "Stack size: 9\n",
            "Stack size: 10\n",
            "Stack size: 11\n",
            "Stack size: 11\n",
            "Stack size: 11\n",
            "Stack size: 12\n",
            "Stack size: 13\n",
            "Stack size: 13\n",
            "Stack size: 14\n",
            "Stack size: 14\n",
            "Stack size: 15\n",
            "Stack size: 16\n",
            "Stack size: 16\n",
            "Stack size: 17\n",
            "Stack size: 17\n",
            "Stack size: 18\n",
            "Stack size: 19\n",
            "Stack size: 19\n",
            "Stack size: 19\n",
            "Stack size: 20\n",
            "Stack size: 21\n",
            "Stack size: 21\n",
            "Stack size: 22\n",
            "Stack size: 22\n",
            "Stack size: 23\n",
            "Stack size: 24\n",
            "Stack size: 24\n",
            "Stack size: 25\n",
            "Stack size: 26\n",
            "Stack size: 26\n",
            "Stack size: 27\n",
            "Stack size: 28\n",
            "Stack size: 28\n",
            "Stack size: 29\n",
            "Stack size: 28\n",
            "Stack size: 29\n",
            "Stack size: 30\n",
            "Stack size: 30\n",
            "Stack size: 29\n",
            "Stack size: 30\n",
            "Stack size: 31\n",
            "Stack size: 32\n",
            "Stack size: 32\n",
            "Stack size: 31\n",
            "Stack size: 32\n",
            "Stack size: 32\n",
            "Stack size: 31\n",
            "Stack size: 32\n",
            "Stack size: 33\n",
            "Stack size: 34\n",
            "Stack size: 34\n",
            "Stack size: 33\n",
            "Stack size: 34\n",
            "Stack size: 35\n",
            "Stack size: 35\n",
            "Stack size: 34\n",
            "Stack size: 35\n",
            "Stack size: 36\n",
            "Stack size: 36\n",
            "Stack size: 35\n",
            "Stack size: 35\n",
            "Stack size: 34\n",
            "Stack size: 35\n",
            "Stack size: 36\n",
            "Stack size: 36\n",
            "Stack size: 35\n",
            "Stack size: 36\n",
            "Stack size: 36\n",
            "Stack size: 35\n",
            "Stack size: 36\n",
            "Stack size: 37\n",
            "Stack size: 38\n",
            "Stack size: 38\n",
            "Stack size: 37\n",
            "Stack size: 37\n",
            "Stack size: 36\n",
            "Stack size: 37\n",
            "Stack size: 37\n",
            "Stack size: 36\n",
            "Stack size: 37\n",
            "Stack size: 38\n",
            "Stack size: 39\n",
            "Stack size: 40\n",
            "Stack size: 41\n",
            "Stack size: 41\n",
            "Stack size: 40\n",
            "Stack size: 41\n",
            "Stack size: 42\n",
            "Stack size: 42\n",
            "Stack size: 41\n",
            "Stack size: 41\n",
            "Stack size: 40\n",
            "Stack size: 41\n",
            "Stack size: 42\n",
            "Stack size: 42\n",
            "Stack size: 41\n",
            "Stack size: 42\n",
            "Stack size: 42\n",
            "Stack size: 41\n",
            "Stack size: 42\n",
            "Stack size: 43\n",
            "Stack size: 44\n",
            "Stack size: 44\n",
            "Stack size: 43\n",
            "Stack size: 43\n",
            "Stack size: 42\n",
            "Stack size: 43\n",
            "Stack size: 43\n",
            "Stack size: 42\n",
            "Stack size: 43\n",
            "Stack size: 44\n",
            "Stack size: 45\n",
            "Stack size: 45\n",
            "Stack size: 44\n",
            "Stack size: 45\n",
            "Stack size: 46\n",
            "Stack size: 46\n",
            "Stack size: 45\n",
            "Stack size: 46\n",
            "Stack size: 47\n",
            "Stack size: 47\n",
            "Stack size: 46\n",
            "Stack size: 47\n",
            "Stack size: 48\n",
            "Stack size: 48\n",
            "Stack size: 47\n",
            "Stack size: 48\n",
            "Stack size: 48\n",
            "Stack size: 47\n",
            "Stack size: 48\n",
            "Stack size: 48\n",
            "Stack size: 47\n",
            "Stack size: 48\n",
            "Stack size: 49\n",
            "Stack size: 49\n",
            "Stack size: 48\n",
            "Stack size: 49\n",
            "Stack size: 50\n",
            "Stack size: 51\n",
            "Stack size: 51\n",
            "Stack size: 50\n",
            "Stack size: 51\n",
            "Stack size: 52\n",
            "Stack size: 52\n",
            "Stack size: 51\n",
            "Stack size: 52\n",
            "Stack size: 52\n",
            "Stack size: 51\n",
            "Stack size: 51\n",
            "Stack size: 50\n",
            "Stack size: 50\n",
            "Stack size: 49\n",
            "Stack size: 49\n",
            "Stack size: 48\n",
            "Stack size: 49\n",
            "Stack size: 49\n",
            "Stack size: 48\n",
            "Stack size: 48\n",
            "Stack size: 47\n",
            "Stack size: 47\n",
            "Stack size: 46\n",
            "Stack size: 45\n",
            "Stack size: 45\n",
            "Stack size: 44\n",
            "Stack size: 44\n",
            "Stack size: 43\n",
            "Stack size: 43\n",
            "Stack size: 42\n",
            "Stack size: 43\n",
            "Stack size: 43\n",
            "Stack size: 42\n",
            "Stack size: 43\n",
            "Stack size: 43\n",
            "Stack size: 42\n",
            "Stack size: 42\n",
            "Stack size: 41\n",
            "Stack size: 41\n",
            "Stack size: 40\n",
            "Stack size: 39\n",
            "Stack size: 39\n",
            "Stack size: 38\n",
            "Stack size: 37\n",
            "Stack size: 37\n",
            "Stack size: 36\n",
            "Stack size: 37\n",
            "Stack size: 37\n",
            "Stack size: 36\n",
            "Stack size: 37\n",
            "Stack size: 37\n",
            "Stack size: 36\n",
            "Stack size: 36\n",
            "Stack size: 35\n",
            "Stack size: 35\n",
            "Stack size: 34\n",
            "Stack size: 33\n",
            "Stack size: 33\n",
            "Stack size: 32\n",
            "Stack size: 32\n",
            "Stack size: 31\n",
            "Stack size: 31\n",
            "Stack size: 30\n",
            "Stack size: 30\n",
            "Stack size: 29\n",
            "Stack size: 29\n",
            "Stack size: 28\n",
            "Stack size: 28\n",
            "Stack size: 27\n",
            "Stack size: 27\n",
            "Stack size: 26\n",
            "Stack size: 26\n",
            "Stack size: 25\n",
            "Stack size: 25\n",
            "Stack size: 24\n",
            "Stack size: 24\n",
            "Stack size: 23\n",
            "Stack size: 23\n",
            "Stack size: 22\n",
            "Stack size: 22\n",
            "Stack size: 21\n",
            "Stack size: 21\n",
            "Stack size: 20\n",
            "Stack size: 19\n",
            "Stack size: 19\n",
            "Stack size: 18\n",
            "Stack size: 18\n",
            "Stack size: 17\n",
            "Stack size: 17\n",
            "Stack size: 16\n",
            "Stack size: 15\n",
            "Stack size: 15\n",
            "Stack size: 14\n",
            "Stack size: 14\n",
            "Stack size: 13\n",
            "Stack size: 13\n",
            "Stack size: 12\n",
            "Stack size: 11\n",
            "Stack size: 11\n",
            "Stack size: 10\n",
            "Stack size: 10\n",
            "Stack size: 9\n",
            "Stack size: 9\n",
            "Stack size: 8\n",
            "Stack size: 7\n",
            "Stack size: 7\n",
            "Stack size: 6\n",
            "Stack size: 6\n",
            "Stack size: 5\n",
            "Stack size: 5\n",
            "Stack size: 4\n",
            "Stack size: 4\n",
            "Stack size: 3\n",
            "Stack size: 3\n",
            "Stack size: 2\n",
            "Stack size: 2\n",
            "Stack size: 1\n",
            "End initialization with existing mesh\n",
            "Sequence length: 207/13000 | Stack length: 25  All imposed boundary edges processed !\n",
            "Sequence length: 230/13000 | Stack length: 30  EOS symbol emited, stack length: 30\n",
            "Sequence length: 265/13000 | Stack length: 26  EOS symbol emited, stack length: 26\n",
            "Sequence length: 292/13000 | Stack length: 0   Stack length after while/loop : 0\n"
          ]
        }
      ],
      "source": [
        "# Generation\n",
        "with accelerator.autocast(), torch.no_grad():\n",
        "    out_faces = transformer.generate_completion(halfEdgeTriangularMesh, remeshBoundary, pc, n = 0.25)\n",
        "    #out_faces = transformer.generate_completion(halfEdgeTriangularMesh, remeshBoundary, pc, n = 0.0)"
      ]
    },
    {
      "cell_type": "code",
      "execution_count": 9,
      "metadata": {
        "id": "b9anVC8oWmwU"
      },
      "outputs": [],
      "source": [
        "vertices = out_faces.view(-1, 3).cpu().numpy()\n",
        "n = vertices.shape[0]\n",
        "faces = torch.arange(1, n + 1).view(-1, 3).numpy()\n",
        "\n",
        "with open(OUTPUT_DIR+\"/\"+\"GeneratedVertices_\"+os.path.split(MESH_PATH)[1], \"w\") as file :\n",
        "  for vertex in vertices :\n",
        "    file.write(f\"v  {vertex[0]}  {vertex[1]}  {vertex[2]}\\n\")\n",
        "\n",
        "with open(OUTPUT_DIR+\"/\"+\"GeneratedFaces_\"+os.path.split(MESH_PATH)[1], \"w\") as file :\n",
        "  for vertex in vertices :\n",
        "    file.write(f\"v  {vertex[0]}  {vertex[1]}  {vertex[2]}\\n\")\n",
        "\n",
        "  for face in faces :\n",
        "    file.write(f\"f  {face[0]}  {face[1]}  {face[2]}\\n\")\n",
        "\n",
        "if min(min(faces.tolist())) == 1:\n",
        "    faces = (np.array(faces) - 1)\n",
        "\n",
        "# Remove collapsed triangles and duplicates\n",
        "p0 = vertices[faces[:, 0]]\n",
        "p1 = vertices[faces[:, 1]]\n",
        "p2 = vertices[faces[:, 2]]\n",
        "collapsed_mask = np.all(p0 == p1, axis=1) | np.all(p0 == p2, axis=1) | np.all(p1 == p2, axis=1)\n",
        "faces = faces[~collapsed_mask]\n",
        "faces = faces.tolist()\n",
        "scene_mesh = trimesh.Trimesh(vertices=vertices, faces=faces, force=\"mesh\",\n",
        "                        merge_primitives=True)\n",
        "scene_mesh.merge_vertices()\n",
        "scene_mesh.update_faces(scene_mesh.nondegenerate_faces())\n",
        "scene_mesh.update_faces(scene_mesh.unique_faces())\n",
        "scene_mesh.remove_unreferenced_vertices()\n",
        "scene_mesh.fix_normals()"
      ]
    },
    {
      "cell_type": "code",
      "execution_count": 10,
      "metadata": {
        "id": "4OlaXmWZVSEQ"
      },
      "outputs": [],
      "source": [
        "del out_faces\n",
        "torch.cuda.empty_cache()"
      ]
    },
    {
      "cell_type": "code",
      "execution_count": 11,
      "metadata": {
        "colab": {
          "base_uri": "https://localhost:8080/",
          "height": 542
        },
        "id": "ALIutxzSW2DU",
        "outputId": "fafab7ce-8194-4653-f473-6ca357370ac6"
      },
      "outputs": [
        {
          "data": {
            "application/vnd.plotly.v1+json": {
              "config": {
                "plotlyServerURL": "https://plot.ly"
              },
              "data": [
                {
                  "facecolor": [
                    [
                      0.36231766474515564,
                      0.32445485579380573,
                      0.05253214986504434
                    ],
                    [
                      0.05253214986504434,
                      0.32445485579380573,
                      0.36231766474515564
                    ],
                    [
                      0.022110471572350687,
                      0.5,
                      0.35295715379795256
                    ],
                    [
                      0.022110471572350687,
                      0.5,
                      0.35295715379795256
                    ],
                    [
                      0.022110471572350687,
                      0.5,
                      0.35295715379795256
                    ],
                    [
                      0.025658321052532462,
                      0.5,
                      0.6581137932417589
                    ],
                    [
                      0.025658321052532518,
                      0.5,
                      0.6581137932417589
                    ],
                    [
                      0.025658321052532518,
                      0.5,
                      0.6581137932417589
                    ],
                    [
                      0.025658321052532462,
                      0.5,
                      0.6581137932417589
                    ],
                    [
                      0.025658321052532462,
                      0.5,
                      0.6581137932417589
                    ],
                    [
                      0.056515680314635164,
                      0.6773937334693005,
                      0.6478280133094938
                    ],
                    [
                      0.05886415210127177,
                      0.6357340280089501,
                      0.6922899824201347
                    ],
                    [
                      0.31412661124947894,
                      0.918215368963522,
                      0.7013628280420764
                    ],
                    [
                      0.35989572828367944,
                      0.955339148218143,
                      0.6517796203276824
                    ],
                    [
                      0.3623176547950819,
                      0.9474678824727142,
                      0.32445494602735464
                    ],
                    [
                      0.32445494602735464,
                      0.9474678824727142,
                      0.3623176547950819
                    ],
                    [
                      0.651779663788816,
                      0.955339134984037,
                      0.3598957323557097
                    ],
                    [
                      0.7013629026466894,
                      0.9182153284917547,
                      0.31412660100962914
                    ],
                    [
                      0.7013630013881151,
                      0.685873490136278,
                      0.08178475955971082
                    ],
                    [
                      0.9351161389755122,
                      0.6807404853306255,
                      0.33264760962121664
                    ],
                    [
                      0.9456051869374587,
                      0.648534968614233,
                      0.32861335970035066
                    ],
                    [
                      0.9428173528700907,
                      0.6476056911779802,
                      0.6792354650424861
                    ],
                    [
                      0.6344666309923503,
                      0.9400728713007759,
                      0.6955878142795655
                    ],
                    [
                      0.6838035652733894,
                      0.9411288349271412,
                      0.6470428522187115
                    ],
                    [
                      0.6773935867436582,
                      0.9434843725065795,
                      0.6478280309165543
                    ],
                    [
                      0.6357340473771288,
                      0.9411359108453458,
                      0.6922898243414625
                    ],
                    [
                      0.9082484621500494,
                      0.7041239735456368,
                      0.7041239735456368
                    ],
                    [
                      0.9522670687388465,
                      0.6507555944805556,
                      0.6507555944805556
                    ],
                    [
                      0.9434843513781086,
                      0.6478280238737351,
                      0.3226063545661101
                    ],
                    [
                      0.9411358914771706,
                      0.6922898729810327,
                      0.36426595858230626
                    ],
                    [
                      0.9584746928101127,
                      0.358930945894089,
                      0.358930945894089
                    ],
                    [
                      0.9275930552470684,
                      0.3167458334655422,
                      0.3167458334655422
                    ],
                    [
                      0.6832542631550083,
                      0.3167457368449918,
                      0.07240702757057621
                    ],
                    [
                      0.6755451442061943,
                      0.05253214986504434,
                      0.36231766474515564
                    ],
                    [
                      0.6849908664397528,
                      0.056021976558257136,
                      0.3633914569485761
                    ],
                    [
                      0.6760506540709945,
                      0.0774784835362568,
                      0.7012007339110715
                    ],
                    [
                      0.941353530239351,
                      0.34901060894131997,
                      0.6800257346408874
                    ],
                    [
                      0.9411287777687883,
                      0.35295712045558025,
                      0.6838036805929093
                    ],
                    [
                      0.9296579419997727,
                      0.3173955061020529,
                      0.6790241650861542
                    ],
                    [
                      0.9285973527380831,
                      0.3351548355351317,
                      0.6978140060219642
                    ],
                    [
                      0.9392292784418934,
                      0.33106563262702626,
                      0.33106563262702626
                    ],
                    [
                      0.927593117360294,
                      0.31674590593099183,
                      0.31674590593099183
                    ],
                    [
                      0.7013630013881151,
                      0.31412650986372204,
                      0.08178475955971082
                    ],
                    [
                      0.651779663788816,
                      0.3598957323557097,
                      0.044660865015963
                    ],
                    [
                      0.3244548432295912,
                      0.3623176661306149,
                      0.05253215436778946
                    ],
                    [
                      0.3167458334655422,
                      0.07240694475293169,
                      0.3167458334655422
                    ],
                    [
                      0.05253215436778946,
                      0.3623176661306149,
                      0.3244548432295912
                    ],
                    [
                      0.044660851781857025,
                      0.35989572828367944,
                      0.6517796203276824
                    ],
                    [
                      0.025658321052532462,
                      0.5,
                      0.6581137932417589
                    ],
                    [
                      0.025658321052532462,
                      0.5,
                      0.6581137932417589
                    ],
                    [
                      0.025658321052532462,
                      0.5,
                      0.6581137932417589
                    ],
                    [
                      0.35295715379795256,
                      0.5,
                      0.9778895284276493
                    ],
                    [
                      0.35295715379795256,
                      0.5,
                      0.9778895284276493
                    ],
                    [
                      0.35295715379795256,
                      0.5,
                      0.9778895284276493
                    ],
                    [
                      0.35295715379795256,
                      0.5,
                      0.9778895284276493
                    ],
                    [
                      0.35295715379795256,
                      0.5,
                      0.9778895284276493
                    ],
                    [
                      0.358930945894089,
                      0.641069054105911,
                      0.9584746928101127
                    ],
                    [
                      0.3167459059309918,
                      0.6832540940690082,
                      0.927593117360294
                    ],
                    [
                      0.6922898932475203,
                      0.6357340389345953,
                      0.941135883407096
                    ],
                    [
                      0.694257087502325,
                      0.9370786996200151,
                      0.6456928079679659
                    ],
                    [
                      0.6456928575332623,
                      0.9370787104578928,
                      0.6942570259430993
                    ],
                    [
                      0.9182154394045996,
                      0.6858733158338116,
                      0.7013627490489784
                    ],
                    [
                      0.9349404655315017,
                      0.6672848236577456,
                      0.6812252168353995
                    ],
                    [
                      0.935116137381494,
                      0.6673523897656993,
                      0.3192595102642512
                    ],
                    [
                      0.9399945366131185,
                      0.6509785509192083,
                      0.6833310800517555
                    ],
                    [
                      0.5577639912444778,
                      0.5747534057295821,
                      0.9909941442088046
                    ],
                    [
                      0.5584205981251945,
                      0.5,
                      0.996575305180085
                    ],
                    [
                      0.5,
                      0.5620173384048537,
                      0.9961389419680517
                    ],
                    [
                      0.5,
                      0.5620173384048537,
                      0.9961389419680517
                    ],
                    [
                      0.5969457799924833,
                      0.6551132626651586,
                      0.9653400815393174
                    ],
                    [
                      0.6401042717163206,
                      0.6517796203276824,
                      0.955339148218143
                    ],
                    [
                      0.6858733158338116,
                      0.7013627490489784,
                      0.9182154394045996
                    ],
                    [
                      0.637682350242927,
                      0.3244549917152192,
                      0.9474678988462526
                    ],
                    [
                      0.9434843513781086,
                      0.3226063545661101,
                      0.6478280238737351
                    ],
                    [
                      0.9411358914771706,
                      0.36426595858230626,
                      0.6922898729810327
                    ],
                    [
                      0.6858734798964519,
                      0.08178471908792295,
                      0.7013629267834967
                    ],
                    [
                      0.6401042717163206,
                      0.044660851781857025,
                      0.6517796203276824
                    ],
                    [
                      0.6376823338693851,
                      0.05253215436778946,
                      0.3244548432295912
                    ],
                    [
                      0.6333393186614109,
                      0.04283636424478077,
                      0.6523877824564027
                    ],
                    [
                      0.5757909993015272,
                      0.4422544702178613,
                      0.9908372217090469
                    ],
                    [
                      0.558025860176666,
                      0.441974139823334,
                      0.9932200311235504
                    ],
                    [
                      0.5577639912444778,
                      0.42524659427041783,
                      0.9909941442088046
                    ],
                    [
                      0.6581138381250768,
                      0.5,
                      0.9743416639863687
                    ],
                    [
                      0.6478280719997294,
                      0.32260640592006307,
                      0.9434843558776853
                    ],
                    [
                      0.6922898932475203,
                      0.36426596106540465,
                      0.941135883407096
                    ],
                    [
                      0.7041240486583611,
                      0.09175158077146506,
                      0.7041239842760311
                    ],
                    [
                      0.65075563770739,
                      0.04773294422919927,
                      0.6507555901578764
                    ],
                    [
                      0.6478280649569077,
                      0.05651566525078644,
                      0.3226063472298296
                    ],
                    [
                      0.692289941887102,
                      0.058864135961091746,
                      0.3642659670248436
                    ],
                    [
                      0.358930945894089,
                      0.04152530718988734,
                      0.358930945894089
                    ],
                    [
                      0.36426595858230626,
                      0.05886410852282942,
                      0.6922898729810327
                    ],
                    [
                      0.08178471908792295,
                      0.31412652010354813,
                      0.7013629267834967
                    ],
                    [
                      0.3167459059309918,
                      0.3167459059309918,
                      0.927593117360294
                    ],
                    [
                      0.358930945894089,
                      0.358930945894089,
                      0.9584746928101127
                    ],
                    [
                      0.35295715379795256,
                      0.5,
                      0.9778895284276493
                    ],
                    [
                      0.35295715379795256,
                      0.5,
                      0.9778895284276493
                    ],
                    [
                      0.35295715379795256,
                      0.5,
                      0.9778895284276493
                    ],
                    [
                      0.5,
                      0.5,
                      1
                    ],
                    [
                      0.3226063545661101,
                      0.056515648621891346,
                      0.6478280238737351
                    ],
                    [
                      0.5,
                      0.35295715379795256,
                      0.9778895284276493
                    ],
                    [
                      0.675544995720618,
                      0.36231764837162084,
                      0.9474679033489748
                    ],
                    [
                      0.6581138381250768,
                      0.5,
                      0.9743416639863687
                    ],
                    [
                      0.6478280719997294,
                      0.6773935940799369,
                      0.9434843558776853
                    ],
                    [
                      0.6549042838974556,
                      0.3997678092011703,
                      0.03528700173345328
                    ],
                    [
                      0.5584205981251945,
                      0.5,
                      0.0034246948199150307
                    ],
                    [
                      0.5584205981251945,
                      0.5,
                      0.0034246948199150307
                    ],
                    [
                      0.5,
                      0.4415794018748055,
                      0.0034246948199150307
                    ],
                    [
                      0.5,
                      0.5,
                      0
                    ],
                    [
                      0.5579755560651639,
                      0.5615990266049289,
                      0.00720755401461326
                    ],
                    [
                      0.5584205981251945,
                      0.5,
                      0.0034246948199150307
                    ],
                    [
                      0.6549042838974556,
                      0.6002321907988297,
                      0.03528700173345328
                    ],
                    [
                      0.651779663788816,
                      0.6401042676442903,
                      0.044660865015963
                    ],
                    [
                      0.3244548432295912,
                      0.6376823338693851,
                      0.05253215436778946
                    ],
                    [
                      0.36231766474515564,
                      0.6755451442061943,
                      0.05253214986504434
                    ],
                    [
                      0.35295715379795256,
                      0.5,
                      0.022110471572350687
                    ],
                    [
                      0.35295715379795256,
                      0.5,
                      0.022110471572350687
                    ],
                    [
                      0.35295715379795256,
                      0.5,
                      0.022110471572350687
                    ],
                    [
                      0.35295715379795256,
                      0.5,
                      0.022110471572350687
                    ],
                    [
                      0.35295715379795256,
                      0.5,
                      0.022110471572350687
                    ],
                    [
                      0.35295715379795256,
                      0.5,
                      0.022110471572350687
                    ],
                    [
                      0.35295715379795256,
                      0.5,
                      0.022110471572350687
                    ],
                    [
                      0.35295715379795256,
                      0.5,
                      0.022110471572350687
                    ],
                    [
                      0.022110471572350687,
                      0.5,
                      0.35295715379795256
                    ],
                    [
                      0.022110471572350687,
                      0.5,
                      0.35295715379795256
                    ],
                    [
                      0.022110471572350687,
                      0.5,
                      0.35295715379795256
                    ],
                    [
                      0.022110471572350687,
                      0.5,
                      0.35295715379795256
                    ],
                    [
                      0.022110471572350687,
                      0.5,
                      0.35295715379795256
                    ],
                    [
                      0.04152530718988734,
                      0.641069054105911,
                      0.358930945894089
                    ],
                    [
                      0.07240702757057615,
                      0.6832542631550083,
                      0.31674573684499174
                    ],
                    [
                      0.9456372746537751,
                      0.6509710179319286,
                      0.33083980614886616
                    ],
                    [
                      0.67791696094998,
                      0.9270009756388827,
                      0.3102219143057724
                    ],
                    [
                      0.6328942966871102,
                      0.9607004822464262,
                      0.3582460880047797
                    ],
                    [
                      0.641069054105911,
                      0.9584746928101127,
                      0.358930945894089
                    ],
                    [
                      0.6832540940690082,
                      0.927593117360294,
                      0.31674590593099183
                    ],
                    [
                      0.6773937334693005,
                      0.6478280133094938,
                      0.056515680314635164
                    ],
                    [
                      0.6357340280089501,
                      0.6922899824201347,
                      0.05886415210127177
                    ],
                    [
                      0.641069054105911,
                      0.358930945894089,
                      0.04152530718988734
                    ],
                    [
                      0.5947484607937376,
                      0.35562137681258077,
                      0.030769201411796954
                    ],
                    [
                      0.6342780675677013,
                      0.054963909403823064,
                      0.3158471324221225
                    ],
                    [
                      0.9465305718448258,
                      0.35115652299815736,
                      0.33131073607981226
                    ],
                    [
                      0.9448886793299806,
                      0.34901964362220844,
                      0.3288889395975211
                    ],
                    [
                      0.5,
                      0.4415794018748055,
                      0.0034246948199150307
                    ],
                    [
                      0.5,
                      0.6581137932417589,
                      0.025658321052532518
                    ],
                    [
                      0.5766063847028404,
                      0.5612851135612152,
                      0.009718859552450942
                    ]
                  ],
                  "i": {
                    "bdata": "AAICAgUGBgYJCQsLDQ0NEBERERQUFhYWGRkbGxseHx8fIiIkJCQnJycqKioAAQEDAwMEBwcHCAgKCg4ODxISEhUXFxcXFxgYHBwdICAgIyUlJSYmKCgpKSssLS0uLi4vLzA7NTYxMio+Pj5BQUNDFBEQRUVGRkdHBQVHR0dGRkVFQ0NDSEhISUlJPj4+SUlI",
                    "dtype": "i1"
                  },
                  "j": {
                    "bdata": "AQEDBAQEBwgICgoMDA4PDw8SExMVFRcYGBoaHB0dHSAhISMjJSYmKCkpKywsLC0tLi8vLzAxMTIyDjIzMzM0FTQ0MTA1NjYcNjc3NzgjODg1OTk6Ojs7PDw8PD09Ozo6OTk9ODg0NAAAP0BAQkJEREREREJCQEA/PwAFBgkJCwsNFBYZGRseHh8iIiQnPkFB",
                    "dtype": "i1"
                  },
                  "k": {
                    "bdata": "AgMEBQYHCAkKCwwNDg8QERITFBUWFxgZGhscHR4fICEiIyQlJicoKSorLAABLQMuLwQHMDEIMgoODDMPEjQVExcxMDU2GBwaNx0gOCMhJTU5JjooOyk8KywtPS47Oi85MDU8NjcyMz4/QEFCQ0QUERBFQkZARz8FAAIGCUYLRQ0QFhlIGx5JHyI+JCcqQUhD",
                    "dtype": "i1"
                  },
                  "opacity": 0.5,
                  "type": "mesh3d",
                  "x": {
                    "bdata": "AAAAgEKhwL8AAADAarXKvwAAAAB3u82/AAAAgMPh0L8AAACAw+HQvwAAAAB3u82/AAAAgMPh0L8AAAAAd7vNvwAAAAB3u82/AAAAgMPh0L8AAAAAd7vNvwAAAIDD4dC/AAAAwGq1yr8AAAAAd7vNvwAAAIBCocC/AAAAgEKhwL8AAADAarXKvwAAAIBCocC/AAAAAEkkor8AAAAAeTyuvwAAAABJJKK/AAAAAEAgcD8AAAAASCSiPwAAAABAIHA/AAAAgEKhwD8AAACAQqHAPwAAAABrtco/AAAAAHe7zT8AAAAAd7vNPwAAAIDD4dA/AAAAAGu1yj8AAAAAd7vNPwAAAAB3u80/AAAAAGu1yj8AAACAQqHAPwAAAIBCocA/AAAAAEgkoj8AAAAAQCBwPwAAAABJJKK/AAAAAEAgcD8AAAAAeTyuvwAAAABJJKK/AAAAAEkkor8AAAAAeTyuvwAAAIBCocC/AAAAAHe7zb8AAAAAd7vNvwAAAAB3u82/AAAAgEKhwL8AAACAQqHAvwAAAIBCocC/AAAAAHk8rr8AAAAASSSivwAAAABAIHA/AAAAgEKhwD8AAAAAa7XKPwAAAIBCocA/AAAAgEKhwL8AAACAQqHAvwAAAIBCocC/AAAAgEKhwL8AAADAarXKvwAAAABAIHA/AAAAgEKhwL8AAACAQqHAvwAAAABAIHA/AAAAgEKhwL8AAAAAQCBwPwAAAIBCocC/AAAAAHe7zb8AAAAAd7vNvwAAAAB3u82/AAAAgEKhwD8AAACAQqHAPw==",
                    "dtype": "f8"
                  },
                  "y": {
                    "bdata": "AAAAgMPh0L8AAADA1+vVvwAAAIDD4dC/AAAAgMPh0L8AAACAQqHAvwAAAIBCocC/AAAAAEAgcD8AAAAAQCBwPwAAAIBCocA/AAAAgEKhwD8AAACAw+HQPwAAAIDD4dA/AAAAwNfr1T8AAADA3W7XPwAAAMDdbtc/AAAAwOVy2T8AAADA1+vVPwAAAMDdbtc/AAAAwN1u1z8AAADA1+vVPwAAAIDD4dA/AAAAgMPh0D8AAACAVqvFPwAAAIBCocA/AAAAAGUyuT8AAACAQqHAPwAAAABNJrM/AAAAAGUyuT8AAAAAQCBwPwAAAABAIHA/AAAAAE0msz8AAAAAQCBwPwAAAABlMrm/AAAAgEwms78AAAAAZTK5vwAAAIBCocC/AAAAwFarxb8AAACAQqHAvwAAAIDD4dC/AAAAgMPh0L8AAADA1+vVvwAAAMDdbte/AAAAgMPh0L8AAADA1+vVvwAAAMDdbte/AAAAwN1u178AAACAw+HQvwAAAIBCocC/AAAAAEAgcD8AAACAQqHAPwAAAIDD4dA/AAAAwNfr1T8AAACAw+HQPwAAAABAIHA/AAAAAEAgcD8AAACATCazvwAAAABlMrm/AAAAgEKhwL8AAACAw+HQvwAAAMDdbte/AAAAwOVy2b8AAADA1+vVvwAAAIBCocC/AAAAgEKhwL8AAAAAQCBwPwAAAABAIHA/AAAAgEKhwD8AAACAQqHAPwAAAIDD4dA/AAAAgMPh0D8AAACAQqHAPwAAAABAIHA/AAAAAGUyuT8AAAAAQCBwPw==",
                    "dtype": "f8"
                  },
                  "z": {
                    "bdata": "AAAAgEKhwL8AAACATCazvwAAAABlMrm/AAAAAEAgcD8AAAAAQCBwPwAAAABlMrm/AAAAAEAgcD8AAAAAZTK5PwAAAABlMrk/AAAAAEAgcD8AAAAAZTK5PwAAAABAIHA/AAAAAE0msz8AAAAAQCBwPwAAAABlMrk/AAAAAEAgcD8AAACATCazvwAAAABlMrm/AAAAAEAgcD8AAACATCazvwAAAABlMrm/AAAAAEAgcD8AAAAAQCBwPwAAAAB1Or0/AAAAAGUyuT8AAAAAQCBwPwAAAABNJrM/AAAAAEAgcD8AAAAAZTK5PwAAAABAIHA/AAAAgEwms78AAAAAZTK5vwAAAABAIHA/AAAAgEwms78AAAAAZTK5vwAAAABAIHA/AAAAAEAgcD8AAAAAdTq9PwAAAABlMrk/AAAAAEAgcD8AAAAATSazPwAAAABAIHA/AAAAAGUyub8AAACATCazvwAAAABlMrm/AAAAAEAgcD8AAAAAZTK5PwAAAABlMrk/AAAAgEKhwD8AAACAQqHAPwAAAIBCocA/AAAAAE0msz8AAAAAZTK5PwAAAIBCocA/AAAAgEKhwD8AAAAATSazPwAAAABlMrk/AAAAgEKhwD8AAACAQqHAPwAAAABlMrk/AAAAAEAgcD8AAAAATSazPwAAAAB1Or2/AAAAgEKhwL8AAACAQqHAvwAAAIBCocC/AAAAgEKhwL8AAAAAdTq9vwAAAIBCocC/AAAAAGUyub8AAAAAZTK5vwAAAABlMrm/AAAAAGUyub8AAACAQqHAvw==",
                    "dtype": "f8"
                  }
                }
              ],
              "layout": {
                "scene": {
                  "xaxis": {
                    "visible": false
                  },
                  "yaxis": {
                    "visible": false
                  },
                  "zaxis": {
                    "visible": false
                  }
                },
                "template": {
                  "data": {
                    "bar": [
                      {
                        "error_x": {
                          "color": "#2a3f5f"
                        },
                        "error_y": {
                          "color": "#2a3f5f"
                        },
                        "marker": {
                          "line": {
                            "color": "#E5ECF6",
                            "width": 0.5
                          },
                          "pattern": {
                            "fillmode": "overlay",
                            "size": 10,
                            "solidity": 0.2
                          }
                        },
                        "type": "bar"
                      }
                    ],
                    "barpolar": [
                      {
                        "marker": {
                          "line": {
                            "color": "#E5ECF6",
                            "width": 0.5
                          },
                          "pattern": {
                            "fillmode": "overlay",
                            "size": 10,
                            "solidity": 0.2
                          }
                        },
                        "type": "barpolar"
                      }
                    ],
                    "carpet": [
                      {
                        "aaxis": {
                          "endlinecolor": "#2a3f5f",
                          "gridcolor": "white",
                          "linecolor": "white",
                          "minorgridcolor": "white",
                          "startlinecolor": "#2a3f5f"
                        },
                        "baxis": {
                          "endlinecolor": "#2a3f5f",
                          "gridcolor": "white",
                          "linecolor": "white",
                          "minorgridcolor": "white",
                          "startlinecolor": "#2a3f5f"
                        },
                        "type": "carpet"
                      }
                    ],
                    "choropleth": [
                      {
                        "colorbar": {
                          "outlinewidth": 0,
                          "ticks": ""
                        },
                        "type": "choropleth"
                      }
                    ],
                    "contour": [
                      {
                        "colorbar": {
                          "outlinewidth": 0,
                          "ticks": ""
                        },
                        "colorscale": [
                          [
                            0,
                            "#0d0887"
                          ],
                          [
                            0.1111111111111111,
                            "#46039f"
                          ],
                          [
                            0.2222222222222222,
                            "#7201a8"
                          ],
                          [
                            0.3333333333333333,
                            "#9c179e"
                          ],
                          [
                            0.4444444444444444,
                            "#bd3786"
                          ],
                          [
                            0.5555555555555556,
                            "#d8576b"
                          ],
                          [
                            0.6666666666666666,
                            "#ed7953"
                          ],
                          [
                            0.7777777777777778,
                            "#fb9f3a"
                          ],
                          [
                            0.8888888888888888,
                            "#fdca26"
                          ],
                          [
                            1,
                            "#f0f921"
                          ]
                        ],
                        "type": "contour"
                      }
                    ],
                    "contourcarpet": [
                      {
                        "colorbar": {
                          "outlinewidth": 0,
                          "ticks": ""
                        },
                        "type": "contourcarpet"
                      }
                    ],
                    "heatmap": [
                      {
                        "colorbar": {
                          "outlinewidth": 0,
                          "ticks": ""
                        },
                        "colorscale": [
                          [
                            0,
                            "#0d0887"
                          ],
                          [
                            0.1111111111111111,
                            "#46039f"
                          ],
                          [
                            0.2222222222222222,
                            "#7201a8"
                          ],
                          [
                            0.3333333333333333,
                            "#9c179e"
                          ],
                          [
                            0.4444444444444444,
                            "#bd3786"
                          ],
                          [
                            0.5555555555555556,
                            "#d8576b"
                          ],
                          [
                            0.6666666666666666,
                            "#ed7953"
                          ],
                          [
                            0.7777777777777778,
                            "#fb9f3a"
                          ],
                          [
                            0.8888888888888888,
                            "#fdca26"
                          ],
                          [
                            1,
                            "#f0f921"
                          ]
                        ],
                        "type": "heatmap"
                      }
                    ],
                    "histogram": [
                      {
                        "marker": {
                          "pattern": {
                            "fillmode": "overlay",
                            "size": 10,
                            "solidity": 0.2
                          }
                        },
                        "type": "histogram"
                      }
                    ],
                    "histogram2d": [
                      {
                        "colorbar": {
                          "outlinewidth": 0,
                          "ticks": ""
                        },
                        "colorscale": [
                          [
                            0,
                            "#0d0887"
                          ],
                          [
                            0.1111111111111111,
                            "#46039f"
                          ],
                          [
                            0.2222222222222222,
                            "#7201a8"
                          ],
                          [
                            0.3333333333333333,
                            "#9c179e"
                          ],
                          [
                            0.4444444444444444,
                            "#bd3786"
                          ],
                          [
                            0.5555555555555556,
                            "#d8576b"
                          ],
                          [
                            0.6666666666666666,
                            "#ed7953"
                          ],
                          [
                            0.7777777777777778,
                            "#fb9f3a"
                          ],
                          [
                            0.8888888888888888,
                            "#fdca26"
                          ],
                          [
                            1,
                            "#f0f921"
                          ]
                        ],
                        "type": "histogram2d"
                      }
                    ],
                    "histogram2dcontour": [
                      {
                        "colorbar": {
                          "outlinewidth": 0,
                          "ticks": ""
                        },
                        "colorscale": [
                          [
                            0,
                            "#0d0887"
                          ],
                          [
                            0.1111111111111111,
                            "#46039f"
                          ],
                          [
                            0.2222222222222222,
                            "#7201a8"
                          ],
                          [
                            0.3333333333333333,
                            "#9c179e"
                          ],
                          [
                            0.4444444444444444,
                            "#bd3786"
                          ],
                          [
                            0.5555555555555556,
                            "#d8576b"
                          ],
                          [
                            0.6666666666666666,
                            "#ed7953"
                          ],
                          [
                            0.7777777777777778,
                            "#fb9f3a"
                          ],
                          [
                            0.8888888888888888,
                            "#fdca26"
                          ],
                          [
                            1,
                            "#f0f921"
                          ]
                        ],
                        "type": "histogram2dcontour"
                      }
                    ],
                    "mesh3d": [
                      {
                        "colorbar": {
                          "outlinewidth": 0,
                          "ticks": ""
                        },
                        "type": "mesh3d"
                      }
                    ],
                    "parcoords": [
                      {
                        "line": {
                          "colorbar": {
                            "outlinewidth": 0,
                            "ticks": ""
                          }
                        },
                        "type": "parcoords"
                      }
                    ],
                    "pie": [
                      {
                        "automargin": true,
                        "type": "pie"
                      }
                    ],
                    "scatter": [
                      {
                        "fillpattern": {
                          "fillmode": "overlay",
                          "size": 10,
                          "solidity": 0.2
                        },
                        "type": "scatter"
                      }
                    ],
                    "scatter3d": [
                      {
                        "line": {
                          "colorbar": {
                            "outlinewidth": 0,
                            "ticks": ""
                          }
                        },
                        "marker": {
                          "colorbar": {
                            "outlinewidth": 0,
                            "ticks": ""
                          }
                        },
                        "type": "scatter3d"
                      }
                    ],
                    "scattercarpet": [
                      {
                        "marker": {
                          "colorbar": {
                            "outlinewidth": 0,
                            "ticks": ""
                          }
                        },
                        "type": "scattercarpet"
                      }
                    ],
                    "scattergeo": [
                      {
                        "marker": {
                          "colorbar": {
                            "outlinewidth": 0,
                            "ticks": ""
                          }
                        },
                        "type": "scattergeo"
                      }
                    ],
                    "scattergl": [
                      {
                        "marker": {
                          "colorbar": {
                            "outlinewidth": 0,
                            "ticks": ""
                          }
                        },
                        "type": "scattergl"
                      }
                    ],
                    "scattermap": [
                      {
                        "marker": {
                          "colorbar": {
                            "outlinewidth": 0,
                            "ticks": ""
                          }
                        },
                        "type": "scattermap"
                      }
                    ],
                    "scattermapbox": [
                      {
                        "marker": {
                          "colorbar": {
                            "outlinewidth": 0,
                            "ticks": ""
                          }
                        },
                        "type": "scattermapbox"
                      }
                    ],
                    "scatterpolar": [
                      {
                        "marker": {
                          "colorbar": {
                            "outlinewidth": 0,
                            "ticks": ""
                          }
                        },
                        "type": "scatterpolar"
                      }
                    ],
                    "scatterpolargl": [
                      {
                        "marker": {
                          "colorbar": {
                            "outlinewidth": 0,
                            "ticks": ""
                          }
                        },
                        "type": "scatterpolargl"
                      }
                    ],
                    "scatterternary": [
                      {
                        "marker": {
                          "colorbar": {
                            "outlinewidth": 0,
                            "ticks": ""
                          }
                        },
                        "type": "scatterternary"
                      }
                    ],
                    "surface": [
                      {
                        "colorbar": {
                          "outlinewidth": 0,
                          "ticks": ""
                        },
                        "colorscale": [
                          [
                            0,
                            "#0d0887"
                          ],
                          [
                            0.1111111111111111,
                            "#46039f"
                          ],
                          [
                            0.2222222222222222,
                            "#7201a8"
                          ],
                          [
                            0.3333333333333333,
                            "#9c179e"
                          ],
                          [
                            0.4444444444444444,
                            "#bd3786"
                          ],
                          [
                            0.5555555555555556,
                            "#d8576b"
                          ],
                          [
                            0.6666666666666666,
                            "#ed7953"
                          ],
                          [
                            0.7777777777777778,
                            "#fb9f3a"
                          ],
                          [
                            0.8888888888888888,
                            "#fdca26"
                          ],
                          [
                            1,
                            "#f0f921"
                          ]
                        ],
                        "type": "surface"
                      }
                    ],
                    "table": [
                      {
                        "cells": {
                          "fill": {
                            "color": "#EBF0F8"
                          },
                          "line": {
                            "color": "white"
                          }
                        },
                        "header": {
                          "fill": {
                            "color": "#C8D4E3"
                          },
                          "line": {
                            "color": "white"
                          }
                        },
                        "type": "table"
                      }
                    ]
                  },
                  "layout": {
                    "annotationdefaults": {
                      "arrowcolor": "#2a3f5f",
                      "arrowhead": 0,
                      "arrowwidth": 1
                    },
                    "autotypenumbers": "strict",
                    "coloraxis": {
                      "colorbar": {
                        "outlinewidth": 0,
                        "ticks": ""
                      }
                    },
                    "colorscale": {
                      "diverging": [
                        [
                          0,
                          "#8e0152"
                        ],
                        [
                          0.1,
                          "#c51b7d"
                        ],
                        [
                          0.2,
                          "#de77ae"
                        ],
                        [
                          0.3,
                          "#f1b6da"
                        ],
                        [
                          0.4,
                          "#fde0ef"
                        ],
                        [
                          0.5,
                          "#f7f7f7"
                        ],
                        [
                          0.6,
                          "#e6f5d0"
                        ],
                        [
                          0.7,
                          "#b8e186"
                        ],
                        [
                          0.8,
                          "#7fbc41"
                        ],
                        [
                          0.9,
                          "#4d9221"
                        ],
                        [
                          1,
                          "#276419"
                        ]
                      ],
                      "sequential": [
                        [
                          0,
                          "#0d0887"
                        ],
                        [
                          0.1111111111111111,
                          "#46039f"
                        ],
                        [
                          0.2222222222222222,
                          "#7201a8"
                        ],
                        [
                          0.3333333333333333,
                          "#9c179e"
                        ],
                        [
                          0.4444444444444444,
                          "#bd3786"
                        ],
                        [
                          0.5555555555555556,
                          "#d8576b"
                        ],
                        [
                          0.6666666666666666,
                          "#ed7953"
                        ],
                        [
                          0.7777777777777778,
                          "#fb9f3a"
                        ],
                        [
                          0.8888888888888888,
                          "#fdca26"
                        ],
                        [
                          1,
                          "#f0f921"
                        ]
                      ],
                      "sequentialminus": [
                        [
                          0,
                          "#0d0887"
                        ],
                        [
                          0.1111111111111111,
                          "#46039f"
                        ],
                        [
                          0.2222222222222222,
                          "#7201a8"
                        ],
                        [
                          0.3333333333333333,
                          "#9c179e"
                        ],
                        [
                          0.4444444444444444,
                          "#bd3786"
                        ],
                        [
                          0.5555555555555556,
                          "#d8576b"
                        ],
                        [
                          0.6666666666666666,
                          "#ed7953"
                        ],
                        [
                          0.7777777777777778,
                          "#fb9f3a"
                        ],
                        [
                          0.8888888888888888,
                          "#fdca26"
                        ],
                        [
                          1,
                          "#f0f921"
                        ]
                      ]
                    },
                    "colorway": [
                      "#636efa",
                      "#EF553B",
                      "#00cc96",
                      "#ab63fa",
                      "#FFA15A",
                      "#19d3f3",
                      "#FF6692",
                      "#B6E880",
                      "#FF97FF",
                      "#FECB52"
                    ],
                    "font": {
                      "color": "#2a3f5f"
                    },
                    "geo": {
                      "bgcolor": "white",
                      "lakecolor": "white",
                      "landcolor": "#E5ECF6",
                      "showlakes": true,
                      "showland": true,
                      "subunitcolor": "white"
                    },
                    "hoverlabel": {
                      "align": "left"
                    },
                    "hovermode": "closest",
                    "mapbox": {
                      "style": "light"
                    },
                    "paper_bgcolor": "white",
                    "plot_bgcolor": "#E5ECF6",
                    "polar": {
                      "angularaxis": {
                        "gridcolor": "white",
                        "linecolor": "white",
                        "ticks": ""
                      },
                      "bgcolor": "#E5ECF6",
                      "radialaxis": {
                        "gridcolor": "white",
                        "linecolor": "white",
                        "ticks": ""
                      }
                    },
                    "scene": {
                      "xaxis": {
                        "backgroundcolor": "#E5ECF6",
                        "gridcolor": "white",
                        "gridwidth": 2,
                        "linecolor": "white",
                        "showbackground": true,
                        "ticks": "",
                        "zerolinecolor": "white"
                      },
                      "yaxis": {
                        "backgroundcolor": "#E5ECF6",
                        "gridcolor": "white",
                        "gridwidth": 2,
                        "linecolor": "white",
                        "showbackground": true,
                        "ticks": "",
                        "zerolinecolor": "white"
                      },
                      "zaxis": {
                        "backgroundcolor": "#E5ECF6",
                        "gridcolor": "white",
                        "gridwidth": 2,
                        "linecolor": "white",
                        "showbackground": true,
                        "ticks": "",
                        "zerolinecolor": "white"
                      }
                    },
                    "shapedefaults": {
                      "line": {
                        "color": "#2a3f5f"
                      }
                    },
                    "ternary": {
                      "aaxis": {
                        "gridcolor": "white",
                        "linecolor": "white",
                        "ticks": ""
                      },
                      "baxis": {
                        "gridcolor": "white",
                        "linecolor": "white",
                        "ticks": ""
                      },
                      "bgcolor": "#E5ECF6",
                      "caxis": {
                        "gridcolor": "white",
                        "linecolor": "white",
                        "ticks": ""
                      }
                    },
                    "title": {
                      "x": 0.05
                    },
                    "xaxis": {
                      "automargin": true,
                      "gridcolor": "white",
                      "linecolor": "white",
                      "ticks": "",
                      "title": {
                        "standoff": 15
                      },
                      "zerolinecolor": "white",
                      "zerolinewidth": 2
                    },
                    "yaxis": {
                      "automargin": true,
                      "gridcolor": "white",
                      "linecolor": "white",
                      "ticks": "",
                      "title": {
                        "standoff": 15
                      },
                      "zerolinecolor": "white",
                      "zerolinewidth": 2
                    }
                  }
                }
              }
            }
          },
          "metadata": {},
          "output_type": "display_data"
        }
      ],
      "source": [
        "# Plot mesh from: https://colab.research.google.com/drive/1CR_HDvJ2AnjJV3Bf5vwP70K0hx3RcdMb?usp=sharing#scrollTo=kXi90AcckMF5\n",
        "\n",
        "triangles = np.asarray(scene_mesh.faces)\n",
        "vertices = np.asarray(scene_mesh.vertices)\n",
        "colors = None\n",
        "\n",
        "mesh = o3d.geometry.TriangleMesh()\n",
        "mesh.vertices = o3d.utility.Vector3dVector(vertices)\n",
        "mesh.triangles = o3d.utility.Vector3iVector(triangles)\n",
        "\n",
        "if not mesh.has_vertex_normals(): mesh.compute_vertex_normals()\n",
        "if not mesh.has_triangle_normals(): mesh.compute_triangle_normals()\n",
        "\n",
        "if mesh.has_triangle_normals():\n",
        "    colors = (0.5, 0.5, 0.5) + np.asarray(mesh.triangle_normals) * 0.5\n",
        "    colors = tuple(map(tuple, colors))\n",
        "else:\n",
        "    colors = (1.0, 0.0, 0.0)\n",
        "\n",
        "import plotly.graph_objects as go\n",
        "\n",
        "fig = go.Figure(\n",
        "    data=[\n",
        "        go.Mesh3d(\n",
        "            x=vertices[:,0],\n",
        "            y=vertices[:,1],\n",
        "            z=vertices[:,2],\n",
        "            i=triangles[:,0],\n",
        "            j=triangles[:,1],\n",
        "            k=triangles[:,2],\n",
        "            facecolor=colors,\n",
        "            opacity=0.50)\n",
        "    ],\n",
        "    layout=dict(\n",
        "        scene=dict(\n",
        "            xaxis=dict(visible=False),\n",
        "            yaxis=dict(visible=False),\n",
        "            zaxis=dict(visible=False)\n",
        "        )\n",
        "    )\n",
        ")\n",
        "fig.show()"
      ]
    },
    {
      "cell_type": "code",
      "execution_count": 12,
      "metadata": {
        "colab": {
          "base_uri": "https://localhost:8080/",
          "height": 105
        },
        "id": "sSfelqVcYbXF",
        "outputId": "ad04b074-a6b2-464c-e8d7-981eec402744"
      },
      "outputs": [
        {
          "data": {
            "text/plain": [
              "'# https://github.com/mikedh/trimesh\\nv -0.12992126 -0.26377952 -0.12992126\\nv -0.20866141 -0.34251970 -0.07480314\\nv -0.23228347 -0.26377952 -0.09842521\\nv -0.26377952 -0.26377952 0.00393701\\nv -0.26377952 -0.12992126 0.00393701\\nv -0.23228347 -0.12992126 -0.09842521\\nv -0.26377952 0.00393701 0.00393701\\nv -0.23228347 0.00393701 0.09842521\\nv -0.23228347 0.12992126 0.09842521\\nv -0.26377952 0.12992126 0.00393701\\nv -0.23228347 0.26377952 0.09842521\\nv -0.26377952 0.26377952 0.00393701\\nv -0.20866141 0.34251970 0.07480317\\nv -0.23228347 0.36614174 0.00393701\\nv -0.12992126 0.36614174 0.09842521\\nv -0.12992126 0.39763778 0.00393701\\nv -0.20866141 0.34251970 -0.07480314\\nv -0.12992126 0.36614174 -0.09842521\\nv -0.03543308 0.36614174 0.00393701\\nv -0.05905512 0.34251970 -0.07480314\\nv -0.03543308 0.26377952 -0.09842521\\nv 0.00393701 0.26377952 0.00393701\\nv 0.03543305 0.16929132 0.00393701\\nv 0.00393701 0.12992126 0.11417323\\nv 0.12992126 0.09842521 0.09842521\\nv 0.12992126 0.12992126 0.00393701\\nv 0.20866144 0.07480317 0.07480317\\nv 0.23228347 0.09842521 0.00393701\\nv 0.23228347 0.00393701 0.09842521\\nv 0.26377952 0.00393701 0.00393701\\nv 0.20866144 0.07480317 -0.07480314\\nv 0.23228347 0.00393701 -0.09842521\\nv 0.23228347 -0.09842521 0.00393701\\nv 0.20866144 -0.07480314 -0.07480314\\nv 0.12992126 -0.09842521 -0.09842521\\nv 0.12992126 -0.12992126 0.00393701\\nv 0.03543305 -0.16929135 0.00393701\\nv 0.00393701 -0.12992126 0.11417323\\nv -0.03543308 -0.26377952 0.09842521\\nv 0.00393701 -0.26377952 0.00393701\\nv -0.05905512 -0.34251970 0.07480317\\nv -0.03543308 -0.36614174 0.00393701\\nv -0.03543308 -0.26377952 -0.09842521\\nv -0.05905512 -0.34251970 -0.07480314\\nv -0.12992126 -0.36614174 -0.09842521\\nv -0.23228347 -0.36614174 0.00393701\\nv -0.23228347 -0.26377952 0.09842521\\nv -0.23228347 -0.12992126 0.09842521\\nv -0.12992126 0.00393701 0.12992126\\nv -0.12992126 0.12992126 0.12992126\\nv -0.12992126 0.26377952 0.12992126\\nv -0.05905512 0.34251970 0.07480317\\nv -0.03543308 0.26377952 0.09842521\\nv 0.00393701 0.00393701 0.12992126\\nv 0.12992126 0.00393701 0.12992126\\nv 0.20866144 -0.07480314 0.07480317\\nv 0.12992126 -0.09842521 0.09842521\\nv -0.12992126 -0.12992126 0.12992126\\nv -0.12992126 -0.26377952 0.12992126\\nv -0.12992126 -0.36614174 0.09842521\\nv -0.12992126 -0.39763778 0.00393701\\nv -0.20866141 -0.34251970 0.07480317\\nv 0.00393701 -0.12992126 -0.11417323\\nv -0.12992126 -0.12992126 -0.12992126\\nv -0.12992126 0.00393701 -0.12992126\\nv 0.00393701 0.00393701 -0.12992126\\nv -0.12992126 0.12992126 -0.12992126\\nv 0.00393701 0.12992126 -0.11417323\\nv -0.12992126 0.26377952 -0.12992126\\nv -0.23228347 0.26377952 -0.09842521\\nv -0.23228347 0.12992126 -0.09842521\\nv -0.23228347 0.00393701 -0.09842521\\nv 0.12992126 0.09842521 -0.09842521\\nv 0.12992126 0.00393701 -0.12992126\\nf 1 2 3\\nf 3 2 4\\nf 3 4 5\\nf 3 5 6\\nf 6 5 7\\nf 7 5 8\\nf 7 8 9\\nf 7 9 10\\nf 10 9 11\\nf 10 11 12\\nf 12 11 13\\nf 12 13 14\\nf 14 13 15\\nf 14 15 16\\nf 14 16 17\\nf 17 16 18\\nf 18 16 19\\nf 18 19 20\\nf 18 20 21\\nf 21 20 22\\nf 21 22 23\\nf 23 22 24\\nf 23 24 25\\nf 23 25 26\\nf 26 25 27\\nf 26 27 28\\nf 28 27 29\\nf 28 29 30\\nf 28 30 31\\nf 31 30 32\\nf 32 30 33\\nf 32 33 34\\nf 32 34 35\\nf 35 34 36\\nf 35 36 37\\nf 37 36 38\\nf 37 38 39\\nf 37 39 40\\nf 40 39 41\\nf 40 41 42\\nf 40 42 43\\nf 43 42 44\\nf 43 44 45\\nf 43 45 1\\nf 1 45 2\\nf 2 45 46\\nf 2 46 4\\nf 4 46 47\\nf 4 47 48\\nf 4 48 5\\nf 5 48 8\\nf 8 48 49\\nf 8 49 50\\nf 8 50 9\\nf 9 50 51\\nf 9 51 11\\nf 11 51 15\\nf 11 15 13\\nf 15 51 52\\nf 15 52 16\\nf 16 52 19\\nf 19 52 53\\nf 19 53 22\\nf 19 22 20\\nf 22 53 24\\nf 24 53 50\\nf 24 50 49\\nf 24 49 54\\nf 24 54 55\\nf 24 55 25\\nf 25 55 29\\nf 25 29 27\\nf 29 55 56\\nf 29 56 30\\nf 30 56 33\\nf 33 56 57\\nf 33 57 36\\nf 33 36 34\\nf 36 57 38\\nf 38 57 54\\nf 38 54 58\\nf 38 58 39\\nf 39 58 59\\nf 39 59 41\\nf 41 59 60\\nf 41 60 42\\nf 42 60 61\\nf 42 61 44\\nf 44 61 45\\nf 45 61 46\\nf 46 61 62\\nf 46 62 47\\nf 47 62 60\\nf 47 60 59\\nf 47 59 48\\nf 48 59 58\\nf 48 58 49\\nf 49 58 54\\nf 60 62 61\\nf 54 57 55\\nf 55 57 56\\nf 50 53 51\\nf 51 53 52\\nf 43 1 63\\nf 63 1 64\\nf 63 64 65\\nf 63 65 66\\nf 66 65 67\\nf 66 67 68\\nf 68 67 69\\nf 68 69 21\\nf 21 69 18\\nf 18 69 17\\nf 17 69 70\\nf 70 69 67\\nf 70 67 71\\nf 71 67 65\\nf 71 65 72\\nf 72 65 64\\nf 72 64 6\\nf 6 64 1\\nf 6 1 3\\nf 72 6 7\\nf 72 7 10\\nf 72 10 71\\nf 71 10 12\\nf 71 12 70\\nf 70 12 14\\nf 70 14 17\\nf 68 21 23\\nf 68 23 26\\nf 68 26 73\\nf 73 26 28\\nf 73 28 31\\nf 73 31 74\\nf 74 31 32\\nf 74 32 35\\nf 74 35 63\\nf 63 35 37\\nf 63 37 40\\nf 63 40 43\\nf 74 63 66\\nf 74 66 73\\nf 73 66 68\\n\\n'"
            ]
          },
          "execution_count": 12,
          "metadata": {},
          "output_type": "execute_result"
        }
      ],
      "source": [
        "# Save mesh if necessary\n",
        "outputFilePath=\"./output/COMPLETION_\"+os.path.split(MESH_PATH)[1]\n",
        "scene_mesh.export(outputFilePath)"
      ]
    }
  ],
  "metadata": {
    "accelerator": "GPU",
    "colab": {
      "gpuType": "T4",
      "provenance": []
    },
    "kernelspec": {
      "display_name": "Python 3",
      "name": "python3"
    },
    "language_info": {
      "codemirror_mode": {
        "name": "ipython",
        "version": 3
      },
      "file_extension": ".py",
      "mimetype": "text/x-python",
      "name": "python",
      "nbconvert_exporter": "python",
      "pygments_lexer": "ipython3",
      "version": "3.11.13"
    }
  },
  "nbformat": 4,
  "nbformat_minor": 0
}
