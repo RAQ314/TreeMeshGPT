{
  "cells": [
    {
      "cell_type": "code",
      "execution_count": null,
      "metadata": {
        "id": "4I8HKF9qP3RQ"
      },
      "outputs": [],
      "source": [
        "from model.treemeshgpt_inference import TreeMeshGPT\n",
        "import os\n",
        "import numpy as np\n",
        "import open3d as o3d\n",
        "import torch\n",
        "from accelerate import Accelerator\n",
        "from pathlib import Path\n",
        "from fns import center_vertices, normalize_vertices_scale, str2bool, quantize_verts, dequantize_verts_tensor\n",
        "import trimesh\n",
        "import pyvista as pv\n",
        "import argparse"
      ]
    },
    {
      "cell_type": "code",
      "execution_count": null,
      "metadata": {
        "id": "-hbF-JZXTaeG"
      },
      "outputs": [],
      "source": [
        "VERSION = \"7bit\"\n",
        "CKPT_PATH = \"./checkpoints/treemeshgpt_7bit.pt\"\n",
        "MESH_PATH =  \"demo/luma_cat.glb\"\n",
        "MESH_PATH =  \"demo/FullMesh_1Hole_SplitDisk.obj\"\n",
        "#MESH_PATH =  \"demo/FullMesh_1Hole.obj\"\n",
        "#MESH_PATH =  \"demo/FullMesh.obj\"\n",
        "MESH_PATH =  \"demo/FullMesh_1Hole-2.obj\"\n",
        "\n",
        "#MESH_PATH = \"demo/Mesh2_DiskHole.obj\"\n",
        "#MESH_PATH = \"demo/Mesh2_Hole.obj\"\n",
        "MESH_PATH = \"demo/Mesh2.obj\"\n",
        "MESH_PATH = \"demo/objaverse_pig_CC0_Decim_2k.obj\"\n",
        "MESH_PATH = \"./demo/NewMesh1_Tri.obj\"\n",
        "\n",
        "OUTPUT_DIR=\"./output\"\n",
        "\n",
        "DECIMATION = True\n",
        "DECIMATION_TARGET_NFACES = 5000\n",
        "DECIMATION_BOUNDARY_DELETION = True\n",
        "\n",
        "SAMPLING = \"uniform\" if VERSION == \"7bit\" else \"fps\"\n",
        "#SAMPLING = \"keep_vertices\"\n",
        "\n",
        "if not os.path.exists(\"./output\") :\n",
        "  os.mkdir(\"./output\")"
      ]
    },
    {
      "cell_type": "code",
      "execution_count": null,
      "metadata": {
        "id": "1-o0138gTzeK"
      },
      "outputs": [],
      "source": [
        "# Set up model\n",
        "transformer = TreeMeshGPT(quant_bit = 7 if VERSION == \"7bit\" else 9, max_seq_len=13000) # can set higher max_seq_len if GPU is L4 or A100\n",
        "transformer.load(CKPT_PATH)\n",
        "accelerator = Accelerator(mixed_precision=\"fp16\")\n",
        "transformer = accelerator.prepare(transformer)"
      ]
    },
    {
      "cell_type": "code",
      "execution_count": null,
      "metadata": {
        "colab": {
          "base_uri": "https://localhost:8080/"
        },
        "id": "tSSg1z1rVzGZ",
        "outputId": "42c374cd-402e-4676-f653-83169368c9bb"
      },
      "outputs": [],
      "source": [
        "# Load and normalize mesh\n",
        "mesh = o3d.io.read_triangle_mesh(MESH_PATH)\n",
        "vertices = np.asarray(mesh.vertices)\n",
        "vertices = center_vertices(vertices)\n",
        "vertices = normalize_vertices_scale(vertices)\n",
        "vertices = np.clip(vertices, a_min=-0.5, a_max = 0.5)\n",
        "triangles = np.asarray(mesh.triangles)\n",
        "\n",
        "mesh = o3d.geometry.TriangleMesh()\n",
        "mesh.vertices = o3d.utility.Vector3dVector(vertices)\n",
        "mesh.triangles = o3d.utility.Vector3iVector(triangles)\n",
        "\n",
        "# Mesh decimation\n",
        "if DECIMATION:\n",
        "    n_triangles = min(DECIMATION_TARGET_NFACES, len(triangles))\n",
        "    faces_pyvista = np.hstack([np.full((triangles.shape[0], 1), 3), triangles]).astype(np.int64).flatten()\n",
        "    mesh = pv.PolyData(vertices, faces_pyvista)\n",
        "    decimated_mesh = mesh.decimate_pro(1-n_triangles/len(triangles), boundary_vertex_deletion=DECIMATION_BOUNDARY_DELETION)\n",
        "    decimated_vertices = np.array(decimated_mesh.points)\n",
        "    decimated_faces = np.array(decimated_mesh.faces).reshape(-1, 4)[:, 1:]  # Remove leading '3' per triangle\n",
        "    mesh = o3d.geometry.TriangleMesh()\n",
        "    mesh.vertices = o3d.utility.Vector3dVector(decimated_vertices)\n",
        "    mesh.triangles = o3d.utility.Vector3iVector(decimated_faces)\n",
        "    print(\"Mesh is decimated to {} faces\".format(len(decimated_faces)))\n",
        "else:\n",
        "    print(\"Sampling from original mesh with {} faces\".format(len(triangles)))\n",
        "\n",
        "o3d.io.write_triangle_mesh(OUTPUT_DIR+\"/\"+\"normalized_\"+os.path.split(MESH_PATH)[1], mesh)"
      ]
    },
    {
      "cell_type": "code",
      "execution_count": null,
      "metadata": {
        "id": "us6-7u4VULt5"
      },
      "outputs": [],
      "source": [
        "# Point cloud sampling\n",
        "if SAMPLING == \"uniform\":\n",
        "    pc = mesh.sample_points_uniformly(number_of_points=8192)\n",
        "    o3d.io.write_point_cloud(OUTPUT_DIR+\"/\"+\"Sampling_Uniform_\"+os.path.split(MESH_PATH)[1]+\".ply\", pc)\n",
        "elif SAMPLING == \"fps\":\n",
        "    pc = mesh.sample_points_uniformly(number_of_points=8192*10)\n",
        "    pc_array = np.asarray(pc.points)\n",
        "    pc = o3d.geometry.PointCloud()\n",
        "    pc.points = o3d.utility.Vector3dVector(pc_array)\n",
        "    pc = pc.farthest_point_down_sample(8192//2)\n",
        "    o3d.io.write_point_cloud(OUTPUT_DIR+\"/\"+\"Sampling_FPS_\"+os.path.split(MESH_PATH)[1]+\".ply\", pc)\n",
        "elif SAMPLING == \"keep_vertices\" :\n",
        "    pc = o3d.geometry.PointCloud()\n",
        "    pc.points = mesh.vertices\n",
        "    o3d.io.write_point_cloud(OUTPUT_DIR+\"/\"+\"Sampling_KeepVertices_\"+os.path.split(MESH_PATH)[1]+\".ply\", pc)\n",
        "pc_array = np.asarray(pc.points)\n",
        "pc = torch.tensor(pc_array).unsqueeze(0).float().cuda()"
      ]
    },
    {
      "cell_type": "code",
      "execution_count": null,
      "metadata": {
        "colab": {
          "base_uri": "https://localhost:8080/"
        },
        "id": "SihYiRocVO1c",
        "outputId": "87bf4332-6ecd-475c-c8bb-ebf5fb62beaa"
      },
      "outputs": [],
      "source": [
        "# Generation\n",
        "with accelerator.autocast(), torch.no_grad():\n",
        "    out_faces = transformer.generate(pc,n = 0.25)"
      ]
    },
    {
      "cell_type": "code",
      "execution_count": null,
      "metadata": {
        "id": "b9anVC8oWmwU"
      },
      "outputs": [],
      "source": [
        "vertices = out_faces.view(-1, 3).cpu().numpy()\n",
        "n = vertices.shape[0]\n",
        "faces = torch.arange(1, n + 1).view(-1, 3).numpy()\n",
        "\n",
        "with open(OUTPUT_DIR+\"/\"+\"GeneratedVertices_\"+os.path.split(MESH_PATH)[1], \"w\") as file :\n",
        "  for vertex in vertices :\n",
        "    file.write(f\"v  {vertex[0]}  {vertex[1]}  {vertex[2]}\\n\")\n",
        "\n",
        "if min(min(faces.tolist())) == 1:\n",
        "    faces = (np.array(faces) - 1)\n",
        "\n",
        "# Remove collapsed triangles and duplicates\n",
        "p0 = vertices[faces[:, 0]]\n",
        "p1 = vertices[faces[:, 1]]\n",
        "p2 = vertices[faces[:, 2]]\n",
        "collapsed_mask = np.all(p0 == p1, axis=1) | np.all(p0 == p2, axis=1) | np.all(p1 == p2, axis=1)\n",
        "faces = faces[~collapsed_mask]\n",
        "faces = faces.tolist()\n",
        "scene_mesh = trimesh.Trimesh(vertices=vertices, faces=faces, force=\"mesh\",\n",
        "                        merge_primitives=True)\n",
        "scene_mesh.merge_vertices()\n",
        "scene_mesh.update_faces(scene_mesh.nondegenerate_faces())\n",
        "scene_mesh.update_faces(scene_mesh.unique_faces())\n",
        "scene_mesh.remove_unreferenced_vertices()\n",
        "scene_mesh.fix_normals()"
      ]
    },
    {
      "cell_type": "code",
      "execution_count": null,
      "metadata": {
        "id": "4OlaXmWZVSEQ"
      },
      "outputs": [],
      "source": [
        "del out_faces\n",
        "torch.cuda.empty_cache()"
      ]
    },
    {
      "cell_type": "code",
      "execution_count": null,
      "metadata": {
        "colab": {
          "base_uri": "https://localhost:8080/",
          "height": 542
        },
        "id": "ALIutxzSW2DU",
        "outputId": "fafab7ce-8194-4653-f473-6ca357370ac6"
      },
      "outputs": [],
      "source": [
        "# Plot mesh from: https://colab.research.google.com/drive/1CR_HDvJ2AnjJV3Bf5vwP70K0hx3RcdMb?usp=sharing#scrollTo=kXi90AcckMF5\n",
        "\n",
        "triangles = np.asarray(scene_mesh.faces)\n",
        "vertices = np.asarray(scene_mesh.vertices)\n",
        "colors = None\n",
        "\n",
        "mesh = o3d.geometry.TriangleMesh()\n",
        "mesh.vertices = o3d.utility.Vector3dVector(vertices)\n",
        "mesh.triangles = o3d.utility.Vector3iVector(triangles)\n",
        "\n",
        "if not mesh.has_vertex_normals(): mesh.compute_vertex_normals()\n",
        "if not mesh.has_triangle_normals(): mesh.compute_triangle_normals()\n",
        "\n",
        "if mesh.has_triangle_normals():\n",
        "    colors = (0.5, 0.5, 0.5) + np.asarray(mesh.triangle_normals) * 0.5\n",
        "    colors = tuple(map(tuple, colors))\n",
        "else:\n",
        "    colors = (1.0, 0.0, 0.0)\n",
        "\n",
        "import plotly.graph_objects as go\n",
        "\n",
        "fig = go.Figure(\n",
        "    data=[\n",
        "        go.Mesh3d(\n",
        "            x=vertices[:,0],\n",
        "            y=vertices[:,1],\n",
        "            z=vertices[:,2],\n",
        "            i=triangles[:,0],\n",
        "            j=triangles[:,1],\n",
        "            k=triangles[:,2],\n",
        "            facecolor=colors,\n",
        "            opacity=0.50)\n",
        "    ],\n",
        "    layout=dict(\n",
        "        scene=dict(\n",
        "            xaxis=dict(visible=False),\n",
        "            yaxis=dict(visible=False),\n",
        "            zaxis=dict(visible=False)\n",
        "        )\n",
        "    )\n",
        ")\n",
        "fig.show()"
      ]
    },
    {
      "cell_type": "code",
      "execution_count": null,
      "metadata": {
        "colab": {
          "base_uri": "https://localhost:8080/",
          "height": 105
        },
        "id": "sSfelqVcYbXF",
        "outputId": "ad04b074-a6b2-464c-e8d7-981eec402744"
      },
      "outputs": [],
      "source": [
        "# Save mesh if necessary\n",
        "outputFilePath=\"./output/GENERATE_\"+os.path.split(MESH_PATH)[1]\n",
        "scene_mesh.export(outputFilePath)\n"
      ]
    },
    {
      "cell_type": "code",
      "execution_count": null,
      "metadata": {
        "id": "aoVn3MajeiDB"
      },
      "outputs": [],
      "source": []
    }
  ],
  "metadata": {
    "accelerator": "GPU",
    "colab": {
      "gpuType": "T4",
      "provenance": []
    },
    "kernelspec": {
      "display_name": "Python 3",
      "name": "python3"
    },
    "language_info": {
      "codemirror_mode": {
        "name": "ipython",
        "version": 3
      },
      "file_extension": ".py",
      "mimetype": "text/x-python",
      "name": "python",
      "nbconvert_exporter": "python",
      "pygments_lexer": "ipython3",
      "version": "3.11.13"
    }
  },
  "nbformat": 4,
  "nbformat_minor": 0
}
