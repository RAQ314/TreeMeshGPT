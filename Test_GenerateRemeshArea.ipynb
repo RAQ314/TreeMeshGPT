{
 "cells": [
  {
   "cell_type": "code",
   "execution_count": null,
   "id": "ffe7f0a7",
   "metadata": {},
   "outputs": [],
   "source": [
    "import os\n",
    "import numpy as np\n",
    "import open3d as o3d\n",
    "from utils.utils import *\n",
    "\n",
    "#--- Input : mesh + list of triangles to remove\n",
    "inputMeshPath=\"./demo/Mesh2.obj\"\n",
    "trianglesToRemesh=[107, 106, 105, 104, 103, 102,\n",
    "                   117, 116, 115, 114, 113, 112,\n",
    "                   127, 126, 125, 124, 123, 122 ]\n",
    "\n",
    "#--- Load mesh\n",
    "mesh=o3d.io.read_triangle_mesh(inputMeshPath)\n",
    "\n",
    "#Extract local area to remesh\n",
    "submesh, remeshBoundary, sampledPoints=GenerateAreaToRemesh(mesh, trianglesToRemesh, iNbSamples=200)\n",
    "\n",
    "#Save area to remesh in OBJ\n",
    "outputPath=\"./output/AreaToRemesh.obj\"\n",
    "SaveAreaToRemeshInOBJ(submesh, remeshBoundary, outputPath, iSampledPoints=sampledPoints)"
   ]
  }
 ],
 "metadata": {
  "kernelspec": {
   "display_name": "Python 3",
   "language": "python",
   "name": "python3"
  },
  "language_info": {
   "codemirror_mode": {
    "name": "ipython",
    "version": 3
   },
   "file_extension": ".py",
   "mimetype": "text/x-python",
   "name": "python",
   "nbconvert_exporter": "python",
   "pygments_lexer": "ipython3",
   "version": "3.11.13"
  }
 },
 "nbformat": 4,
 "nbformat_minor": 5
}
