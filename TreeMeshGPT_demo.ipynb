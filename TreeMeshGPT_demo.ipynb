{
  "cells": [
    {
      "cell_type": "code",
      "execution_count": 69,
      "metadata": {
        "id": "4I8HKF9qP3RQ"
      },
      "outputs": [],
      "source": [
        "from model.treemeshgpt_inference import TreeMeshGPT\n",
        "import os\n",
        "import numpy as np\n",
        "import open3d as o3d\n",
        "import torch\n",
        "from accelerate import Accelerator\n",
        "from pathlib import Path\n",
        "from fns import center_vertices, normalize_vertices_scale, str2bool\n",
        "import trimesh\n",
        "import pyvista as pv\n",
        "import argparse"
      ]
    },
    {
      "cell_type": "code",
      "execution_count": 140,
      "metadata": {
        "id": "-hbF-JZXTaeG"
      },
      "outputs": [],
      "source": [
        "VERSION = \"7bit\"\n",
        "CKPT_PATH = \"./checkpoints/treemeshgpt_7bit.pt\"\n",
        "MESH_PATH =  \"demo/luma_cat.glb\"\n",
        "MESH_PATH =  \"demo/FullMesh_1Hole_SplitDisk.obj\"\n",
        "#MESH_PATH =  \"demo/FullMesh_1Hole.obj\"\n",
        "#MESH_PATH =  \"demo/FullMesh.obj\"\n",
        "MESH_PATH =  \"demo/FullMesh_1Hole-2.obj\"\n",
        "\n",
        "#MESH_PATH = \"demo/Mesh2_DiskHole.obj\"\n",
        "#MESH_PATH = \"demo/Mesh2_Hole.obj\"\n",
        "MESH_PATH = \"demo/Mesh2.obj\"\n",
        "\n",
        "OUTPUT_DIR=\"./output\"\n",
        "\n",
        "DECIMATION = True\n",
        "DECIMATION_TARGET_NFACES = 5000\n",
        "DECIMATION_BOUNDARY_DELETION = True\n",
        "\n",
        "SAMPLING = \"uniform\" if VERSION == \"7bit\" else \"fps\"\n",
        "SAMPLING = \"keep_vertices\"\n",
        "\n",
        "if not os.path.exists(\"./output\") :\n",
        "  os.mkdir(\"./output\")"
      ]
    },
    {
      "cell_type": "code",
      "execution_count": 132,
      "metadata": {
        "id": "1-o0138gTzeK"
      },
      "outputs": [
        {
          "name": "stderr",
          "output_type": "stream",
          "text": [
            "Detected kernel version 4.18.0, which is below the recommended minimum of 5.5.0; this can cause the process to hang. It is recommended to upgrade the kernel to the minimum version or higher.\n"
          ]
        }
      ],
      "source": [
        "# Set up model\n",
        "transformer = TreeMeshGPT(quant_bit = 7 if VERSION == \"7bit\" else 9, max_seq_len=13000) # can set higher max_seq_len if GPU is L4 or A100\n",
        "transformer.load(CKPT_PATH)\n",
        "accelerator = Accelerator(mixed_precision=\"fp16\")\n",
        "transformer = accelerator.prepare(transformer)"
      ]
    },
    {
      "cell_type": "code",
      "execution_count": 141,
      "metadata": {
        "colab": {
          "base_uri": "https://localhost:8080/"
        },
        "id": "tSSg1z1rVzGZ",
        "outputId": "42c374cd-402e-4676-f653-83169368c9bb"
      },
      "outputs": [
        {
          "name": "stdout",
          "output_type": "stream",
          "text": [
            "Mesh is decimated to 140 faces\n"
          ]
        },
        {
          "data": {
            "text/plain": [
              "True"
            ]
          },
          "execution_count": 141,
          "metadata": {},
          "output_type": "execute_result"
        }
      ],
      "source": [
        "# Load and normalize mesh\n",
        "mesh = o3d.io.read_triangle_mesh(MESH_PATH)\n",
        "vertices = np.asarray(mesh.vertices)\n",
        "vertices = center_vertices(vertices)\n",
        "vertices = normalize_vertices_scale(vertices)\n",
        "vertices = np.clip(vertices, a_min=-0.5, a_max = 0.5)\n",
        "triangles = np.asarray(mesh.triangles)\n",
        "\n",
        "mesh = o3d.geometry.TriangleMesh()\n",
        "mesh.vertices = o3d.utility.Vector3dVector(vertices)\n",
        "mesh.triangles = o3d.utility.Vector3iVector(triangles)\n",
        "\n",
        "# Mesh decimation\n",
        "if DECIMATION:\n",
        "    n_triangles = min(DECIMATION_TARGET_NFACES, len(triangles))\n",
        "    faces_pyvista = np.hstack([np.full((triangles.shape[0], 1), 3), triangles]).astype(np.int64).flatten()\n",
        "    mesh = pv.PolyData(vertices, faces_pyvista)\n",
        "    decimated_mesh = mesh.decimate_pro(1-n_triangles/len(triangles), boundary_vertex_deletion=DECIMATION_BOUNDARY_DELETION)\n",
        "    decimated_vertices = np.array(decimated_mesh.points)\n",
        "    decimated_faces = np.array(decimated_mesh.faces).reshape(-1, 4)[:, 1:]  # Remove leading '3' per triangle\n",
        "    mesh = o3d.geometry.TriangleMesh()\n",
        "    mesh.vertices = o3d.utility.Vector3dVector(decimated_vertices)\n",
        "    mesh.triangles = o3d.utility.Vector3iVector(decimated_faces)\n",
        "    print(\"Mesh is decimated to {} faces\".format(len(decimated_faces)))\n",
        "else:\n",
        "    print(\"Sampling from original mesh with {} faces\".format(len(triangles)))\n",
        "\n",
        "o3d.io.write_triangle_mesh(OUTPUT_DIR+\"/\"+\"normalized_\"+os.path.split(MESH_PATH)[1], mesh)"
      ]
    },
    {
      "cell_type": "code",
      "execution_count": 142,
      "metadata": {
        "id": "us6-7u4VULt5"
      },
      "outputs": [],
      "source": [
        "# Point cloud sampling\n",
        "if SAMPLING == \"uniform\":\n",
        "    pc = mesh.sample_points_uniformly(number_of_points=8192)\n",
        "    o3d.io.write_point_cloud(OUTPUT_DIR+\"/\"+\"Sampling_Uniform_\"+os.path.split(MESH_PATH)[1]+\".ply\", pc)\n",
        "elif SAMPLING == \"fps\":\n",
        "    pc = mesh.sample_points_uniformly(number_of_points=8192*10)\n",
        "    pc_array = np.asarray(pc.points)\n",
        "    pc = o3d.geometry.PointCloud()\n",
        "    pc.points = o3d.utility.Vector3dVector(pc_array)\n",
        "    pc = pc.farthest_point_down_sample(8192//2)\n",
        "    o3d.io.write_point_cloud(OUTPUT_DIR+\"/\"+\"Sampling_FPS_\"+os.path.split(MESH_PATH)[1]+\".ply\", pc)\n",
        "elif SAMPLING == \"keep_vertices\" :\n",
        "    pc = o3d.geometry.PointCloud()\n",
        "    pc.points = mesh.vertices\n",
        "    o3d.io.write_point_cloud(OUTPUT_DIR+\"/\"+\"Sampling_KeepVertices_\"+os.path.split(MESH_PATH)[1]+\".ply\", pc)\n",
        "pc_array = np.asarray(pc.points)\n",
        "pc = torch.tensor(pc_array).unsqueeze(0).float().cuda()"
      ]
    },
    {
      "cell_type": "code",
      "execution_count": null,
      "metadata": {
        "colab": {
          "base_uri": "https://localhost:8080/"
        },
        "id": "SihYiRocVO1c",
        "outputId": "87bf4332-6ecd-475c-c8bb-ebf5fb62beaa"
      },
      "outputs": [],
      "source": [
        "# Generation\n",
        "with accelerator.autocast(), torch.no_grad():\n",
        "    out_faces = transformer.generate(pc,n = 0.25)"
      ]
    },
    {
      "cell_type": "code",
      "execution_count": 136,
      "metadata": {
        "id": "b9anVC8oWmwU"
      },
      "outputs": [],
      "source": [
        "vertices = out_faces.view(-1, 3).cpu().numpy()\n",
        "n = vertices.shape[0]\n",
        "faces = torch.arange(1, n + 1).view(-1, 3).numpy()\n",
        "\n",
        "with open(OUTPUT_DIR+\"/\"+\"GeneratedVertices_\"+os.path.split(MESH_PATH)[1], \"w\") as file :\n",
        "  for vertex in vertices :\n",
        "    file.write(f\"v  {vertex[0]}  {vertex[1]}  {vertex[2]}\\n\")\n",
        "\n",
        "if min(min(faces.tolist())) == 1:\n",
        "    faces = (np.array(faces) - 1)\n",
        "\n",
        "# Remove collapsed triangles and duplicates\n",
        "p0 = vertices[faces[:, 0]]\n",
        "p1 = vertices[faces[:, 1]]\n",
        "p2 = vertices[faces[:, 2]]\n",
        "collapsed_mask = np.all(p0 == p1, axis=1) | np.all(p0 == p2, axis=1) | np.all(p1 == p2, axis=1)\n",
        "faces = faces[~collapsed_mask]\n",
        "faces = faces.tolist()\n",
        "scene_mesh = trimesh.Trimesh(vertices=vertices, faces=faces, force=\"mesh\",\n",
        "                        merge_primitives=True)\n",
        "scene_mesh.merge_vertices()\n",
        "scene_mesh.update_faces(scene_mesh.nondegenerate_faces())\n",
        "scene_mesh.update_faces(scene_mesh.unique_faces())\n",
        "scene_mesh.remove_unreferenced_vertices()\n",
        "scene_mesh.fix_normals()"
      ]
    },
    {
      "cell_type": "code",
      "execution_count": 137,
      "metadata": {
        "id": "4OlaXmWZVSEQ"
      },
      "outputs": [],
      "source": [
        "del out_faces\n",
        "torch.cuda.empty_cache()"
      ]
    },
    {
      "cell_type": "code",
      "execution_count": 138,
      "metadata": {
        "colab": {
          "base_uri": "https://localhost:8080/",
          "height": 542
        },
        "id": "ALIutxzSW2DU",
        "outputId": "fafab7ce-8194-4653-f473-6ca357370ac6"
      },
      "outputs": [
        {
          "data": {
            "application/vnd.plotly.v1+json": {
              "config": {
                "plotlyServerURL": "https://plot.ly"
              },
              "data": [
                {
                  "facecolor": [
                    [
                      0,
                      0.5,
                      0.5
                    ],
                    [
                      0.4945058289710437,
                      0.99996981317346,
                      0.5
                    ],
                    [
                      0.5,
                      0.5,
                      1
                    ],
                    [
                      0,
                      0.5,
                      0.5
                    ],
                    [
                      0.5054941710289562,
                      0.000030186826539935208,
                      0.5
                    ],
                    [
                      0.5,
                      0.5,
                      0
                    ],
                    [
                      0.5,
                      0.5,
                      0
                    ],
                    [
                      0.4945058289710437,
                      0.99996981317346,
                      0.5
                    ],
                    [
                      1,
                      0.5,
                      0.5
                    ],
                    [
                      0.5,
                      0.5,
                      1
                    ],
                    [
                      0.5054941710289562,
                      0.000030186826539935208,
                      0.5
                    ],
                    [
                      1,
                      0.5,
                      0.5
                    ]
                  ],
                  "i": {
                    "bdata": "AAIDBAQFBQYGBwcH",
                    "dtype": "i1"
                  },
                  "j": {
                    "bdata": "AQEBAQAAAgIDAwQF",
                    "dtype": "i1"
                  },
                  "k": {
                    "bdata": "AgMEAAUCBgMHBAUG",
                    "dtype": "i1"
                  },
                  "opacity": 0.5,
                  "type": "mesh3d",
                  "x": {
                    "bdata": "AAAAwNvt1r8AAADA2+3WvwAAAMDb7da/AAAAwNvt1j8AAADA2+3WvwAAAMDb7dY/AAAAwNvt1j8AAADA2+3WPw==",
                    "dtype": "f8"
                  },
                  "y": {
                    "bdata": "AAAAwNvt1r8AAADA2WzWPwAAAMDZbNY/AAAAwNvt1j8AAADA2+3WvwAAAMDZbNa/AAAAwNvt1j8AAADA2WzWvw==",
                    "dtype": "f8"
                  },
                  "z": {
                    "bdata": "AAAAAEAgcL8AAAAAQCBwPwAAAABAIHC/AAAAAEAgcD8AAAAAQCBwPwAAAABAIHC/AAAAAEAgcL8AAAAAQCBwPw==",
                    "dtype": "f8"
                  }
                }
              ],
              "layout": {
                "scene": {
                  "xaxis": {
                    "visible": false
                  },
                  "yaxis": {
                    "visible": false
                  },
                  "zaxis": {
                    "visible": false
                  }
                },
                "template": {
                  "data": {
                    "bar": [
                      {
                        "error_x": {
                          "color": "#2a3f5f"
                        },
                        "error_y": {
                          "color": "#2a3f5f"
                        },
                        "marker": {
                          "line": {
                            "color": "#E5ECF6",
                            "width": 0.5
                          },
                          "pattern": {
                            "fillmode": "overlay",
                            "size": 10,
                            "solidity": 0.2
                          }
                        },
                        "type": "bar"
                      }
                    ],
                    "barpolar": [
                      {
                        "marker": {
                          "line": {
                            "color": "#E5ECF6",
                            "width": 0.5
                          },
                          "pattern": {
                            "fillmode": "overlay",
                            "size": 10,
                            "solidity": 0.2
                          }
                        },
                        "type": "barpolar"
                      }
                    ],
                    "carpet": [
                      {
                        "aaxis": {
                          "endlinecolor": "#2a3f5f",
                          "gridcolor": "white",
                          "linecolor": "white",
                          "minorgridcolor": "white",
                          "startlinecolor": "#2a3f5f"
                        },
                        "baxis": {
                          "endlinecolor": "#2a3f5f",
                          "gridcolor": "white",
                          "linecolor": "white",
                          "minorgridcolor": "white",
                          "startlinecolor": "#2a3f5f"
                        },
                        "type": "carpet"
                      }
                    ],
                    "choropleth": [
                      {
                        "colorbar": {
                          "outlinewidth": 0,
                          "ticks": ""
                        },
                        "type": "choropleth"
                      }
                    ],
                    "contour": [
                      {
                        "colorbar": {
                          "outlinewidth": 0,
                          "ticks": ""
                        },
                        "colorscale": [
                          [
                            0,
                            "#0d0887"
                          ],
                          [
                            0.1111111111111111,
                            "#46039f"
                          ],
                          [
                            0.2222222222222222,
                            "#7201a8"
                          ],
                          [
                            0.3333333333333333,
                            "#9c179e"
                          ],
                          [
                            0.4444444444444444,
                            "#bd3786"
                          ],
                          [
                            0.5555555555555556,
                            "#d8576b"
                          ],
                          [
                            0.6666666666666666,
                            "#ed7953"
                          ],
                          [
                            0.7777777777777778,
                            "#fb9f3a"
                          ],
                          [
                            0.8888888888888888,
                            "#fdca26"
                          ],
                          [
                            1,
                            "#f0f921"
                          ]
                        ],
                        "type": "contour"
                      }
                    ],
                    "contourcarpet": [
                      {
                        "colorbar": {
                          "outlinewidth": 0,
                          "ticks": ""
                        },
                        "type": "contourcarpet"
                      }
                    ],
                    "heatmap": [
                      {
                        "colorbar": {
                          "outlinewidth": 0,
                          "ticks": ""
                        },
                        "colorscale": [
                          [
                            0,
                            "#0d0887"
                          ],
                          [
                            0.1111111111111111,
                            "#46039f"
                          ],
                          [
                            0.2222222222222222,
                            "#7201a8"
                          ],
                          [
                            0.3333333333333333,
                            "#9c179e"
                          ],
                          [
                            0.4444444444444444,
                            "#bd3786"
                          ],
                          [
                            0.5555555555555556,
                            "#d8576b"
                          ],
                          [
                            0.6666666666666666,
                            "#ed7953"
                          ],
                          [
                            0.7777777777777778,
                            "#fb9f3a"
                          ],
                          [
                            0.8888888888888888,
                            "#fdca26"
                          ],
                          [
                            1,
                            "#f0f921"
                          ]
                        ],
                        "type": "heatmap"
                      }
                    ],
                    "histogram": [
                      {
                        "marker": {
                          "pattern": {
                            "fillmode": "overlay",
                            "size": 10,
                            "solidity": 0.2
                          }
                        },
                        "type": "histogram"
                      }
                    ],
                    "histogram2d": [
                      {
                        "colorbar": {
                          "outlinewidth": 0,
                          "ticks": ""
                        },
                        "colorscale": [
                          [
                            0,
                            "#0d0887"
                          ],
                          [
                            0.1111111111111111,
                            "#46039f"
                          ],
                          [
                            0.2222222222222222,
                            "#7201a8"
                          ],
                          [
                            0.3333333333333333,
                            "#9c179e"
                          ],
                          [
                            0.4444444444444444,
                            "#bd3786"
                          ],
                          [
                            0.5555555555555556,
                            "#d8576b"
                          ],
                          [
                            0.6666666666666666,
                            "#ed7953"
                          ],
                          [
                            0.7777777777777778,
                            "#fb9f3a"
                          ],
                          [
                            0.8888888888888888,
                            "#fdca26"
                          ],
                          [
                            1,
                            "#f0f921"
                          ]
                        ],
                        "type": "histogram2d"
                      }
                    ],
                    "histogram2dcontour": [
                      {
                        "colorbar": {
                          "outlinewidth": 0,
                          "ticks": ""
                        },
                        "colorscale": [
                          [
                            0,
                            "#0d0887"
                          ],
                          [
                            0.1111111111111111,
                            "#46039f"
                          ],
                          [
                            0.2222222222222222,
                            "#7201a8"
                          ],
                          [
                            0.3333333333333333,
                            "#9c179e"
                          ],
                          [
                            0.4444444444444444,
                            "#bd3786"
                          ],
                          [
                            0.5555555555555556,
                            "#d8576b"
                          ],
                          [
                            0.6666666666666666,
                            "#ed7953"
                          ],
                          [
                            0.7777777777777778,
                            "#fb9f3a"
                          ],
                          [
                            0.8888888888888888,
                            "#fdca26"
                          ],
                          [
                            1,
                            "#f0f921"
                          ]
                        ],
                        "type": "histogram2dcontour"
                      }
                    ],
                    "mesh3d": [
                      {
                        "colorbar": {
                          "outlinewidth": 0,
                          "ticks": ""
                        },
                        "type": "mesh3d"
                      }
                    ],
                    "parcoords": [
                      {
                        "line": {
                          "colorbar": {
                            "outlinewidth": 0,
                            "ticks": ""
                          }
                        },
                        "type": "parcoords"
                      }
                    ],
                    "pie": [
                      {
                        "automargin": true,
                        "type": "pie"
                      }
                    ],
                    "scatter": [
                      {
                        "fillpattern": {
                          "fillmode": "overlay",
                          "size": 10,
                          "solidity": 0.2
                        },
                        "type": "scatter"
                      }
                    ],
                    "scatter3d": [
                      {
                        "line": {
                          "colorbar": {
                            "outlinewidth": 0,
                            "ticks": ""
                          }
                        },
                        "marker": {
                          "colorbar": {
                            "outlinewidth": 0,
                            "ticks": ""
                          }
                        },
                        "type": "scatter3d"
                      }
                    ],
                    "scattercarpet": [
                      {
                        "marker": {
                          "colorbar": {
                            "outlinewidth": 0,
                            "ticks": ""
                          }
                        },
                        "type": "scattercarpet"
                      }
                    ],
                    "scattergeo": [
                      {
                        "marker": {
                          "colorbar": {
                            "outlinewidth": 0,
                            "ticks": ""
                          }
                        },
                        "type": "scattergeo"
                      }
                    ],
                    "scattergl": [
                      {
                        "marker": {
                          "colorbar": {
                            "outlinewidth": 0,
                            "ticks": ""
                          }
                        },
                        "type": "scattergl"
                      }
                    ],
                    "scattermap": [
                      {
                        "marker": {
                          "colorbar": {
                            "outlinewidth": 0,
                            "ticks": ""
                          }
                        },
                        "type": "scattermap"
                      }
                    ],
                    "scattermapbox": [
                      {
                        "marker": {
                          "colorbar": {
                            "outlinewidth": 0,
                            "ticks": ""
                          }
                        },
                        "type": "scattermapbox"
                      }
                    ],
                    "scatterpolar": [
                      {
                        "marker": {
                          "colorbar": {
                            "outlinewidth": 0,
                            "ticks": ""
                          }
                        },
                        "type": "scatterpolar"
                      }
                    ],
                    "scatterpolargl": [
                      {
                        "marker": {
                          "colorbar": {
                            "outlinewidth": 0,
                            "ticks": ""
                          }
                        },
                        "type": "scatterpolargl"
                      }
                    ],
                    "scatterternary": [
                      {
                        "marker": {
                          "colorbar": {
                            "outlinewidth": 0,
                            "ticks": ""
                          }
                        },
                        "type": "scatterternary"
                      }
                    ],
                    "surface": [
                      {
                        "colorbar": {
                          "outlinewidth": 0,
                          "ticks": ""
                        },
                        "colorscale": [
                          [
                            0,
                            "#0d0887"
                          ],
                          [
                            0.1111111111111111,
                            "#46039f"
                          ],
                          [
                            0.2222222222222222,
                            "#7201a8"
                          ],
                          [
                            0.3333333333333333,
                            "#9c179e"
                          ],
                          [
                            0.4444444444444444,
                            "#bd3786"
                          ],
                          [
                            0.5555555555555556,
                            "#d8576b"
                          ],
                          [
                            0.6666666666666666,
                            "#ed7953"
                          ],
                          [
                            0.7777777777777778,
                            "#fb9f3a"
                          ],
                          [
                            0.8888888888888888,
                            "#fdca26"
                          ],
                          [
                            1,
                            "#f0f921"
                          ]
                        ],
                        "type": "surface"
                      }
                    ],
                    "table": [
                      {
                        "cells": {
                          "fill": {
                            "color": "#EBF0F8"
                          },
                          "line": {
                            "color": "white"
                          }
                        },
                        "header": {
                          "fill": {
                            "color": "#C8D4E3"
                          },
                          "line": {
                            "color": "white"
                          }
                        },
                        "type": "table"
                      }
                    ]
                  },
                  "layout": {
                    "annotationdefaults": {
                      "arrowcolor": "#2a3f5f",
                      "arrowhead": 0,
                      "arrowwidth": 1
                    },
                    "autotypenumbers": "strict",
                    "coloraxis": {
                      "colorbar": {
                        "outlinewidth": 0,
                        "ticks": ""
                      }
                    },
                    "colorscale": {
                      "diverging": [
                        [
                          0,
                          "#8e0152"
                        ],
                        [
                          0.1,
                          "#c51b7d"
                        ],
                        [
                          0.2,
                          "#de77ae"
                        ],
                        [
                          0.3,
                          "#f1b6da"
                        ],
                        [
                          0.4,
                          "#fde0ef"
                        ],
                        [
                          0.5,
                          "#f7f7f7"
                        ],
                        [
                          0.6,
                          "#e6f5d0"
                        ],
                        [
                          0.7,
                          "#b8e186"
                        ],
                        [
                          0.8,
                          "#7fbc41"
                        ],
                        [
                          0.9,
                          "#4d9221"
                        ],
                        [
                          1,
                          "#276419"
                        ]
                      ],
                      "sequential": [
                        [
                          0,
                          "#0d0887"
                        ],
                        [
                          0.1111111111111111,
                          "#46039f"
                        ],
                        [
                          0.2222222222222222,
                          "#7201a8"
                        ],
                        [
                          0.3333333333333333,
                          "#9c179e"
                        ],
                        [
                          0.4444444444444444,
                          "#bd3786"
                        ],
                        [
                          0.5555555555555556,
                          "#d8576b"
                        ],
                        [
                          0.6666666666666666,
                          "#ed7953"
                        ],
                        [
                          0.7777777777777778,
                          "#fb9f3a"
                        ],
                        [
                          0.8888888888888888,
                          "#fdca26"
                        ],
                        [
                          1,
                          "#f0f921"
                        ]
                      ],
                      "sequentialminus": [
                        [
                          0,
                          "#0d0887"
                        ],
                        [
                          0.1111111111111111,
                          "#46039f"
                        ],
                        [
                          0.2222222222222222,
                          "#7201a8"
                        ],
                        [
                          0.3333333333333333,
                          "#9c179e"
                        ],
                        [
                          0.4444444444444444,
                          "#bd3786"
                        ],
                        [
                          0.5555555555555556,
                          "#d8576b"
                        ],
                        [
                          0.6666666666666666,
                          "#ed7953"
                        ],
                        [
                          0.7777777777777778,
                          "#fb9f3a"
                        ],
                        [
                          0.8888888888888888,
                          "#fdca26"
                        ],
                        [
                          1,
                          "#f0f921"
                        ]
                      ]
                    },
                    "colorway": [
                      "#636efa",
                      "#EF553B",
                      "#00cc96",
                      "#ab63fa",
                      "#FFA15A",
                      "#19d3f3",
                      "#FF6692",
                      "#B6E880",
                      "#FF97FF",
                      "#FECB52"
                    ],
                    "font": {
                      "color": "#2a3f5f"
                    },
                    "geo": {
                      "bgcolor": "white",
                      "lakecolor": "white",
                      "landcolor": "#E5ECF6",
                      "showlakes": true,
                      "showland": true,
                      "subunitcolor": "white"
                    },
                    "hoverlabel": {
                      "align": "left"
                    },
                    "hovermode": "closest",
                    "mapbox": {
                      "style": "light"
                    },
                    "paper_bgcolor": "white",
                    "plot_bgcolor": "#E5ECF6",
                    "polar": {
                      "angularaxis": {
                        "gridcolor": "white",
                        "linecolor": "white",
                        "ticks": ""
                      },
                      "bgcolor": "#E5ECF6",
                      "radialaxis": {
                        "gridcolor": "white",
                        "linecolor": "white",
                        "ticks": ""
                      }
                    },
                    "scene": {
                      "xaxis": {
                        "backgroundcolor": "#E5ECF6",
                        "gridcolor": "white",
                        "gridwidth": 2,
                        "linecolor": "white",
                        "showbackground": true,
                        "ticks": "",
                        "zerolinecolor": "white"
                      },
                      "yaxis": {
                        "backgroundcolor": "#E5ECF6",
                        "gridcolor": "white",
                        "gridwidth": 2,
                        "linecolor": "white",
                        "showbackground": true,
                        "ticks": "",
                        "zerolinecolor": "white"
                      },
                      "zaxis": {
                        "backgroundcolor": "#E5ECF6",
                        "gridcolor": "white",
                        "gridwidth": 2,
                        "linecolor": "white",
                        "showbackground": true,
                        "ticks": "",
                        "zerolinecolor": "white"
                      }
                    },
                    "shapedefaults": {
                      "line": {
                        "color": "#2a3f5f"
                      }
                    },
                    "ternary": {
                      "aaxis": {
                        "gridcolor": "white",
                        "linecolor": "white",
                        "ticks": ""
                      },
                      "baxis": {
                        "gridcolor": "white",
                        "linecolor": "white",
                        "ticks": ""
                      },
                      "bgcolor": "#E5ECF6",
                      "caxis": {
                        "gridcolor": "white",
                        "linecolor": "white",
                        "ticks": ""
                      }
                    },
                    "title": {
                      "x": 0.05
                    },
                    "xaxis": {
                      "automargin": true,
                      "gridcolor": "white",
                      "linecolor": "white",
                      "ticks": "",
                      "title": {
                        "standoff": 15
                      },
                      "zerolinecolor": "white",
                      "zerolinewidth": 2
                    },
                    "yaxis": {
                      "automargin": true,
                      "gridcolor": "white",
                      "linecolor": "white",
                      "ticks": "",
                      "title": {
                        "standoff": 15
                      },
                      "zerolinecolor": "white",
                      "zerolinewidth": 2
                    }
                  }
                }
              }
            }
          },
          "metadata": {},
          "output_type": "display_data"
        }
      ],
      "source": [
        "# Plot mesh from: https://colab.research.google.com/drive/1CR_HDvJ2AnjJV3Bf5vwP70K0hx3RcdMb?usp=sharing#scrollTo=kXi90AcckMF5\n",
        "\n",
        "triangles = np.asarray(scene_mesh.faces)\n",
        "vertices = np.asarray(scene_mesh.vertices)\n",
        "colors = None\n",
        "\n",
        "mesh = o3d.geometry.TriangleMesh()\n",
        "mesh.vertices = o3d.utility.Vector3dVector(vertices)\n",
        "mesh.triangles = o3d.utility.Vector3iVector(triangles)\n",
        "\n",
        "if not mesh.has_vertex_normals(): mesh.compute_vertex_normals()\n",
        "if not mesh.has_triangle_normals(): mesh.compute_triangle_normals()\n",
        "\n",
        "if mesh.has_triangle_normals():\n",
        "    colors = (0.5, 0.5, 0.5) + np.asarray(mesh.triangle_normals) * 0.5\n",
        "    colors = tuple(map(tuple, colors))\n",
        "else:\n",
        "    colors = (1.0, 0.0, 0.0)\n",
        "\n",
        "import plotly.graph_objects as go\n",
        "\n",
        "fig = go.Figure(\n",
        "    data=[\n",
        "        go.Mesh3d(\n",
        "            x=vertices[:,0],\n",
        "            y=vertices[:,1],\n",
        "            z=vertices[:,2],\n",
        "            i=triangles[:,0],\n",
        "            j=triangles[:,1],\n",
        "            k=triangles[:,2],\n",
        "            facecolor=colors,\n",
        "            opacity=0.50)\n",
        "    ],\n",
        "    layout=dict(\n",
        "        scene=dict(\n",
        "            xaxis=dict(visible=False),\n",
        "            yaxis=dict(visible=False),\n",
        "            zaxis=dict(visible=False)\n",
        "        )\n",
        "    )\n",
        ")\n",
        "fig.show()"
      ]
    },
    {
      "cell_type": "code",
      "execution_count": 139,
      "metadata": {
        "colab": {
          "base_uri": "https://localhost:8080/",
          "height": 105
        },
        "id": "sSfelqVcYbXF",
        "outputId": "ad04b074-a6b2-464c-e8d7-981eec402744"
      },
      "outputs": [
        {
          "data": {
            "text/plain": [
              "'# https://github.com/mikedh/trimesh\\nv -0.35826772 -0.35826772 -0.00393701\\nv -0.35826772 0.35039371 0.00393701\\nv -0.35826772 0.35039371 -0.00393701\\nv 0.35826772 0.35826772 0.00393701\\nv -0.35826772 -0.35826772 0.00393701\\nv 0.35826772 -0.35039371 -0.00393701\\nv 0.35826772 0.35826772 -0.00393701\\nv 0.35826772 -0.35039371 0.00393701\\nf 1 2 3\\nf 3 2 4\\nf 4 2 5\\nf 5 2 1\\nf 5 1 6\\nf 6 1 3\\nf 6 3 7\\nf 7 3 4\\nf 7 4 8\\nf 8 4 5\\nf 8 5 6\\nf 8 6 7\\n\\n'"
            ]
          },
          "execution_count": 139,
          "metadata": {},
          "output_type": "execute_result"
        }
      ],
      "source": [
        "# Save mesh if necessary\n",
        "outputFilePath=\"./output/out_\"+os.path.split(MESH_PATH)[1]\n",
        "scene_mesh.export(outputFilePath)\n"
      ]
    },
    {
      "cell_type": "code",
      "execution_count": null,
      "metadata": {
        "id": "aoVn3MajeiDB"
      },
      "outputs": [],
      "source": []
    }
  ],
  "metadata": {
    "accelerator": "GPU",
    "colab": {
      "gpuType": "T4",
      "provenance": []
    },
    "kernelspec": {
      "display_name": "Python 3",
      "name": "python3"
    },
    "language_info": {
      "codemirror_mode": {
        "name": "ipython",
        "version": 3
      },
      "file_extension": ".py",
      "mimetype": "text/x-python",
      "name": "python",
      "nbconvert_exporter": "python",
      "pygments_lexer": "ipython3",
      "version": "3.11.13"
    }
  },
  "nbformat": 4,
  "nbformat_minor": 0
}
