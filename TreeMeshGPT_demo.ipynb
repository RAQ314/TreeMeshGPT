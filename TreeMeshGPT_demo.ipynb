{
  "cells": [
    {
      "cell_type": "code",
      "execution_count": 1,
      "metadata": {
        "id": "4I8HKF9qP3RQ"
      },
      "outputs": [
        {
          "name": "stdout",
          "output_type": "stream",
          "text": [
            "Jupyter environment detected. Enabling Open3D WebVisualizer.\n",
            "[Open3D INFO] WebRTC GUI backend enabled.\n",
            "[Open3D INFO] WebRTCWindowSystem: HTTP handshake server disabled.\n"
          ]
        }
      ],
      "source": [
        "from model.treemeshgpt_inference import TreeMeshGPT\n",
        "import os\n",
        "import numpy as np\n",
        "import open3d as o3d\n",
        "import torch\n",
        "from accelerate import Accelerator\n",
        "from pathlib import Path\n",
        "from fns import center_vertices, normalize_vertices_scale, str2bool, quantize_verts, dequantize_verts_tensor\n",
        "import trimesh\n",
        "import pyvista as pv\n",
        "import argparse"
      ]
    },
    {
      "cell_type": "code",
      "execution_count": 2,
      "metadata": {
        "id": "-hbF-JZXTaeG"
      },
      "outputs": [],
      "source": [
        "VERSION = \"7bit\"\n",
        "CKPT_PATH = \"./checkpoints/treemeshgpt_7bit.pt\"\n",
        "MESH_PATH =  \"demo/luma_cat.glb\"\n",
        "MESH_PATH =  \"demo/FullMesh_1Hole_SplitDisk.obj\"\n",
        "#MESH_PATH =  \"demo/FullMesh_1Hole.obj\"\n",
        "#MESH_PATH =  \"demo/FullMesh.obj\"\n",
        "MESH_PATH =  \"demo/FullMesh_1Hole-2.obj\"\n",
        "\n",
        "#MESH_PATH = \"demo/Mesh2_DiskHole.obj\"\n",
        "#MESH_PATH = \"demo/Mesh2_Hole.obj\"\n",
        "# MESH_PATH = \"demo/Mesh2.obj\"\n",
        "# MESH_PATH = \"demo/objaverse_pig_CC0_Decim_2k.obj\"\n",
        "# MESH_PATH = \"./demo/NewMesh1_Tri.obj\"\n",
        "MESH_PATH = \"./demo/NewMesh3_Tri.obj\"\n",
        "\n",
        "OUTPUT_DIR=\"./output\"\n",
        "\n",
        "DECIMATION = True\n",
        "DECIMATION_TARGET_NFACES = 5000\n",
        "DECIMATION_BOUNDARY_DELETION = True\n",
        "\n",
        "SAMPLING = \"uniform\" if VERSION == \"7bit\" else \"fps\"\n",
        "#SAMPLING = \"keep_vertices\"\n",
        "\n",
        "if not os.path.exists(\"./output\") :\n",
        "  os.mkdir(\"./output\")"
      ]
    },
    {
      "cell_type": "code",
      "execution_count": 3,
      "metadata": {
        "id": "1-o0138gTzeK"
      },
      "outputs": [
        {
          "name": "stderr",
          "output_type": "stream",
          "text": [
            "Detected kernel version 4.18.0, which is below the recommended minimum of 5.5.0; this can cause the process to hang. It is recommended to upgrade the kernel to the minimum version or higher.\n"
          ]
        }
      ],
      "source": [
        "# Set up model\n",
        "transformer = TreeMeshGPT(quant_bit = 7 if VERSION == \"7bit\" else 9, max_seq_len=13000) # can set higher max_seq_len if GPU is L4 or A100\n",
        "transformer.load(CKPT_PATH)\n",
        "accelerator = Accelerator(mixed_precision=\"fp16\")\n",
        "transformer = accelerator.prepare(transformer)"
      ]
    },
    {
      "cell_type": "code",
      "execution_count": 4,
      "metadata": {
        "colab": {
          "base_uri": "https://localhost:8080/"
        },
        "id": "tSSg1z1rVzGZ",
        "outputId": "42c374cd-402e-4676-f653-83169368c9bb"
      },
      "outputs": [
        {
          "name": "stdout",
          "output_type": "stream",
          "text": [
            "Mesh is decimated to 144 faces\n"
          ]
        },
        {
          "data": {
            "text/plain": [
              "True"
            ]
          },
          "execution_count": 4,
          "metadata": {},
          "output_type": "execute_result"
        }
      ],
      "source": [
        "# Load and normalize mesh\n",
        "mesh = o3d.io.read_triangle_mesh(MESH_PATH)\n",
        "vertices = np.asarray(mesh.vertices)\n",
        "vertices = center_vertices(vertices)\n",
        "vertices = normalize_vertices_scale(vertices)\n",
        "vertices = np.clip(vertices, a_min=-0.5, a_max = 0.5)\n",
        "triangles = np.asarray(mesh.triangles)\n",
        "\n",
        "mesh = o3d.geometry.TriangleMesh()\n",
        "mesh.vertices = o3d.utility.Vector3dVector(vertices)\n",
        "mesh.triangles = o3d.utility.Vector3iVector(triangles)\n",
        "\n",
        "# Mesh decimation\n",
        "if DECIMATION:\n",
        "    n_triangles = min(DECIMATION_TARGET_NFACES, len(triangles))\n",
        "    faces_pyvista = np.hstack([np.full((triangles.shape[0], 1), 3), triangles]).astype(np.int64).flatten()\n",
        "    mesh = pv.PolyData(vertices, faces_pyvista)\n",
        "    decimated_mesh = mesh.decimate_pro(1-n_triangles/len(triangles), boundary_vertex_deletion=DECIMATION_BOUNDARY_DELETION)\n",
        "    decimated_vertices = np.array(decimated_mesh.points)\n",
        "    decimated_faces = np.array(decimated_mesh.faces).reshape(-1, 4)[:, 1:]  # Remove leading '3' per triangle\n",
        "    mesh = o3d.geometry.TriangleMesh()\n",
        "    mesh.vertices = o3d.utility.Vector3dVector(decimated_vertices)\n",
        "    mesh.triangles = o3d.utility.Vector3iVector(decimated_faces)\n",
        "    print(\"Mesh is decimated to {} faces\".format(len(decimated_faces)))\n",
        "else:\n",
        "    print(\"Sampling from original mesh with {} faces\".format(len(triangles)))\n",
        "\n",
        "o3d.io.write_triangle_mesh(OUTPUT_DIR+\"/\"+\"normalized_\"+os.path.split(MESH_PATH)[1], mesh)"
      ]
    },
    {
      "cell_type": "code",
      "execution_count": 5,
      "metadata": {
        "id": "us6-7u4VULt5"
      },
      "outputs": [],
      "source": [
        "# Point cloud sampling\n",
        "if SAMPLING == \"uniform\":\n",
        "    pc = mesh.sample_points_uniformly(number_of_points=8192)\n",
        "    o3d.io.write_point_cloud(OUTPUT_DIR+\"/\"+\"Sampling_Uniform_\"+os.path.split(MESH_PATH)[1]+\".ply\", pc)\n",
        "elif SAMPLING == \"fps\":\n",
        "    pc = mesh.sample_points_uniformly(number_of_points=8192*10)\n",
        "    pc_array = np.asarray(pc.points)\n",
        "    pc = o3d.geometry.PointCloud()\n",
        "    pc.points = o3d.utility.Vector3dVector(pc_array)\n",
        "    pc = pc.farthest_point_down_sample(8192//2)\n",
        "    o3d.io.write_point_cloud(OUTPUT_DIR+\"/\"+\"Sampling_FPS_\"+os.path.split(MESH_PATH)[1]+\".ply\", pc)\n",
        "elif SAMPLING == \"keep_vertices\" :\n",
        "    pc = o3d.geometry.PointCloud()\n",
        "    pc.points = mesh.vertices\n",
        "    o3d.io.write_point_cloud(OUTPUT_DIR+\"/\"+\"Sampling_KeepVertices_\"+os.path.split(MESH_PATH)[1]+\".ply\", pc)\n",
        "pc_array = np.asarray(pc.points)\n",
        "pc = torch.tensor(pc_array).unsqueeze(0).float().cuda()"
      ]
    },
    {
      "cell_type": "code",
      "execution_count": 6,
      "metadata": {
        "colab": {
          "base_uri": "https://localhost:8080/"
        },
        "id": "SihYiRocVO1c",
        "outputId": "87bf4332-6ecd-475c-c8bb-ebf5fb62beaa"
      },
      "outputs": [
        {
          "name": "stdout",
          "output_type": "stream",
          "text": [
            "Sequence length: 222/13000 | Stack length: 69  EOS symbol emited, stopping generation, stack length: 69\n",
            "Stack length after while/loop : 69\n"
          ]
        }
      ],
      "source": [
        "# Generation\n",
        "with accelerator.autocast(), torch.no_grad():\n",
        "    out_faces = transformer.generate(pc,n = 0.25)"
      ]
    },
    {
      "cell_type": "code",
      "execution_count": 7,
      "metadata": {
        "id": "b9anVC8oWmwU"
      },
      "outputs": [],
      "source": [
        "vertices = out_faces.view(-1, 3).cpu().numpy()\n",
        "n = vertices.shape[0]\n",
        "faces = torch.arange(1, n + 1).view(-1, 3).numpy()\n",
        "\n",
        "with open(OUTPUT_DIR+\"/\"+\"GeneratedVertices_\"+os.path.split(MESH_PATH)[1], \"w\") as file :\n",
        "  for vertex in vertices :\n",
        "    file.write(f\"v  {vertex[0]}  {vertex[1]}  {vertex[2]}\\n\")\n",
        "\n",
        "if min(min(faces.tolist())) == 1:\n",
        "    faces = (np.array(faces) - 1)\n",
        "\n",
        "# Remove collapsed triangles and duplicates\n",
        "p0 = vertices[faces[:, 0]]\n",
        "p1 = vertices[faces[:, 1]]\n",
        "p2 = vertices[faces[:, 2]]\n",
        "collapsed_mask = np.all(p0 == p1, axis=1) | np.all(p0 == p2, axis=1) | np.all(p1 == p2, axis=1)\n",
        "faces = faces[~collapsed_mask]\n",
        "faces = faces.tolist()\n",
        "scene_mesh = trimesh.Trimesh(vertices=vertices, faces=faces, force=\"mesh\",\n",
        "                        merge_primitives=True)\n",
        "scene_mesh.merge_vertices()\n",
        "scene_mesh.update_faces(scene_mesh.nondegenerate_faces())\n",
        "scene_mesh.update_faces(scene_mesh.unique_faces())\n",
        "scene_mesh.remove_unreferenced_vertices()\n",
        "scene_mesh.fix_normals()"
      ]
    },
    {
      "cell_type": "code",
      "execution_count": 8,
      "metadata": {
        "id": "4OlaXmWZVSEQ"
      },
      "outputs": [],
      "source": [
        "del out_faces\n",
        "torch.cuda.empty_cache()"
      ]
    },
    {
      "cell_type": "code",
      "execution_count": 9,
      "metadata": {
        "colab": {
          "base_uri": "https://localhost:8080/",
          "height": 542
        },
        "id": "ALIutxzSW2DU",
        "outputId": "fafab7ce-8194-4653-f473-6ca357370ac6"
      },
      "outputs": [
        {
          "data": {
            "application/vnd.plotly.v1+json": {
              "config": {
                "plotlyServerURL": "https://plot.ly"
              },
              "data": [
                {
                  "facecolor": [
                    [
                      0.35298198577494433,
                      0.490811378458182,
                      0.022191175544567177
                    ],
                    [
                      0.34188620675824116,
                      0.5,
                      0.025658321052532518
                    ],
                    [
                      0.025658321052532518,
                      0.5,
                      0.34188620675824116
                    ],
                    [
                      0.05651569792170247,
                      0.3226062176221945,
                      0.3521719925595249
                    ],
                    [
                      0.36231766474515564,
                      0.32445485579380573,
                      0.05253214986504434
                    ],
                    [
                      0.3244548432295912,
                      0.3623176661306149,
                      0.05253215436778946
                    ],
                    [
                      0.6410690950583808,
                      0.3589309494359211,
                      0.041525318700848135
                    ],
                    [
                      0.6483303474705214,
                      0.40676377379889533,
                      0.03169976068439717
                    ],
                    [
                      0.5550256987112159,
                      0.5034391045423691,
                      0.0030489510612849435
                    ],
                    [
                      0.5553835435654911,
                      0.49692313776254005,
                      0.003086329408315658
                    ],
                    [
                      0.34191060134000995,
                      0.5087827406764698,
                      0.025731504844004438
                    ],
                    [
                      0.35295715379795256,
                      0.5,
                      0.022110471572350687
                    ],
                    [
                      0.022110471572350687,
                      0.5,
                      0.35295715379795256
                    ],
                    [
                      0.025731504844004438,
                      0.5087827406764698,
                      0.34191060134000995
                    ],
                    [
                      0.025658321052532518,
                      0.5,
                      0.34188620675824116
                    ],
                    [
                      0.022110471572350687,
                      0.5,
                      0.6470428462020474
                    ],
                    [
                      0.04152530718988734,
                      0.358930945894089,
                      0.641069054105911
                    ],
                    [
                      0.0588641795395628,
                      0.36426598043359615,
                      0.3077099486737705
                    ],
                    [
                      0.31412653225633025,
                      0.08178470734773519,
                      0.2986370863820166
                    ],
                    [
                      0.35989572828367944,
                      0.044660851781857025,
                      0.34822037967231756
                    ],
                    [
                      0.6942571395242164,
                      0.06292132118873528,
                      0.3543071989682799
                    ],
                    [
                      0.7041242203446829,
                      0.2958758440377013,
                      0.09175175245770556
                    ],
                    [
                      0.9082483763070104,
                      0.2958759406112429,
                      0.2958759406112429
                    ],
                    [
                      0.9522669909305392,
                      0.3492442888069651,
                      0.3492442888069651
                    ],
                    [
                      0.954504211996517,
                      0.3569152999622437,
                      0.34849854821642684
                    ],
                    [
                      0.9340574030329958,
                      0.3330548935926932,
                      0.31636040100538104
                    ],
                    [
                      0.6270574829055887,
                      0.05722372537221193,
                      0.3055634636586179
                    ],
                    [
                      0.5901485881544809,
                      0.3512548176030026,
                      0.0312270242778091
                    ],
                    [
                      0.49634881169780415,
                      0.44158095952612453,
                      0.003437934862021985
                    ],
                    [
                      0.5,
                      0.4415794018748055,
                      0.0034246948199150307
                    ],
                    [
                      0.5,
                      0.5,
                      0
                    ],
                    [
                      0.35295715379795256,
                      0.5,
                      0.022110471572350687
                    ],
                    [
                      0.35295715379795256,
                      0.5,
                      0.022110471572350687
                    ],
                    [
                      0.022110471572350687,
                      0.5,
                      0.35295715379795256
                    ],
                    [
                      0.022110471572350687,
                      0.5,
                      0.35295715379795256
                    ],
                    [
                      0.025658321052532462,
                      0.5,
                      0.6581137932417589
                    ],
                    [
                      0.025658321052532518,
                      0.5,
                      0.6581137932417589
                    ],
                    [
                      0.02217424107066701,
                      0.4918320465000192,
                      0.6470232248293755
                    ],
                    [
                      0.022110471572350687,
                      0.5,
                      0.6470428462020474
                    ],
                    [
                      0.35295715379795256,
                      0.5,
                      0.9778895284276493
                    ],
                    [
                      0.358930945894089,
                      0.358930945894089,
                      0.9584746928101127
                    ],
                    [
                      0.3167459059309918,
                      0.3167459059309918,
                      0.927593117360294
                    ],
                    [
                      0.07240696545733055,
                      0.3167458093104124,
                      0.6832541906895876
                    ],
                    [
                      0.36231764837162084,
                      0.05253209665102515,
                      0.675544995720618
                    ],
                    [
                      0.3244549917152192,
                      0.052532101153747346,
                      0.637682350242927
                    ],
                    [
                      0.651779663788816,
                      0.044660865015963,
                      0.6401042676442903
                    ],
                    [
                      0.6456928482849367,
                      0.0629213172870931,
                      0.30574290469439086
                    ],
                    [
                      0.7013628236535654,
                      0.08178460106713215,
                      0.6858733260736605
                    ],
                    [
                      0.9434843226198741,
                      0.3521718458338944,
                      0.6773936087524954
                    ],
                    [
                      0.9411358655579516,
                      0.3077101525876048,
                      0.6357341618773795
                    ],
                    [
                      0.9485426166818461,
                      0.3274836591959467,
                      0.6380131630525947
                    ],
                    [
                      0.948815195145549,
                      0.3567243501580081,
                      0.6674425536380095
                    ],
                    [
                      0.6662566850546381,
                      0.06773269436961027,
                      0.6884242318750063
                    ],
                    [
                      0.6713866402996493,
                      0.05439481306254135,
                      0.35146503138576707
                    ],
                    [
                      0.6942572262273888,
                      0.06292135587000858,
                      0.35430721052869707
                    ],
                    [
                      0.7041242310750517,
                      0.2958757689249482,
                      0.0917517953792843
                    ],
                    [
                      0.641069054105911,
                      0.358930945894089,
                      0.04152530718988734
                    ],
                    [
                      0.6376823402928532,
                      0.6755450985183569,
                      0.052532133491506094
                    ],
                    [
                      0.6895923984070809,
                      0.6226773597733737,
                      0.05390024897419532
                    ],
                    [
                      0.5091484478122394,
                      0.6463752342476924,
                      0.021993099734365862
                    ],
                    [
                      0.5691300778014852,
                      0.5656735752196614,
                      0.009176188575749644
                    ],
                    [
                      0.565512146282285,
                      0.565512146282285,
                      0.008658654926153198
                    ],
                    [
                      0.5620173384048537,
                      0.5,
                      0.0038610580319481946
                    ],
                    [
                      0.35295715379795256,
                      0.5,
                      0.022110471572350687
                    ],
                    [
                      0.35295715379795256,
                      0.5,
                      0.022110471572350687
                    ],
                    [
                      0.022110471572350687,
                      0.5,
                      0.35295715379795256
                    ],
                    [
                      0.022110471572350687,
                      0.5,
                      0.35295715379795256
                    ],
                    [
                      0.025658321052532518,
                      0.5,
                      0.6581137932417589
                    ],
                    [
                      0.025658321052532462,
                      0.5,
                      0.6581137932417589
                    ],
                    [
                      0.35295715379795256,
                      0.5,
                      0.9778895284276493
                    ],
                    [
                      0.35295715379795256,
                      0.5,
                      0.9778895284276493
                    ],
                    [
                      0.35295715379795256,
                      0.5,
                      0.9778895284276493
                    ],
                    [
                      0.34191060134000995,
                      0.5087827406764698,
                      0.9742684951559956
                    ],
                    [
                      0.34191707924983566,
                      0.49011982212754635,
                      0.9742490614142594
                    ],
                    [
                      0.6588269804301704,
                      0.5099266815804525,
                      0.9739994211813285
                    ],
                    [
                      0.6316256541213083,
                      0.308544633476334,
                      0.9427409285422191
                    ],
                    [
                      0.6922898932475203,
                      0.36426596106540465,
                      0.941135883407096
                    ],
                    [
                      0.558545824537563,
                      0.4291287319656427,
                      0.9914770084107893
                    ],
                    [
                      0.558025860176666,
                      0.441974139823334,
                      0.9932200311235504
                    ],
                    [
                      0.5714264689150694,
                      0.44217856787888105,
                      0.9914823918776616
                    ],
                    [
                      0.6255845320399395,
                      0.03743006509887514,
                      0.6423291278617225
                    ],
                    [
                      0.6517796203276824,
                      0.044660851781857025,
                      0.6401042717163206
                    ],
                    [
                      0.6456927871592119,
                      0.06292136280628635,
                      0.3057427564319245
                    ],
                    [
                      0.908248290463863,
                      0.2958758547680685,
                      0.2958758547680685
                    ],
                    [
                      0.9522670687388465,
                      0.34924440551944436,
                      0.34924440551944436
                    ],
                    [
                      0.9434843548995224,
                      0.6773936356521806,
                      0.35217197495246105
                    ],
                    [
                      0.941135883407096,
                      0.6357340389345953,
                      0.30771010675247973
                    ],
                    [
                      0.7041240593887571,
                      0.9082483763070104,
                      0.2958759406112429
                    ],
                    [
                      0.6507555944805556,
                      0.9522670687388465,
                      0.34924440551944436
                    ],
                    [
                      0.6194184085383387,
                      0.9606140967223998,
                      0.34646206461340545
                    ],
                    [
                      0.6629687709118851,
                      0.9237190510988897,
                      0.29046874828960234
                    ],
                    [
                      0.941770658756526,
                      0.6204829383396071,
                      0.2991952524692719
                    ],
                    [
                      0.6493763188758285,
                      0.5853579080387121,
                      0.03053142501935069
                    ],
                    [
                      0.6410690950583808,
                      0.6410690505640789,
                      0.041525318700848135
                    ],
                    [
                      0.358930945894089,
                      0.641069054105911,
                      0.04152530718988734
                    ],
                    [
                      0.3167457368449918,
                      0.6832542631550083,
                      0.07240702757057621
                    ],
                    [
                      0.08178479539919614,
                      0.6858735588895617,
                      0.2986369876406384
                    ],
                    [
                      0.03880186417824533,
                      0.6309911165867873,
                      0.35809296391691847
                    ],
                    [
                      0.05734883441193167,
                      0.6498739299601642,
                      0.6777575616445621
                    ],
                    [
                      0.056515680314635164,
                      0.6773937334693005,
                      0.6478280133094938
                    ],
                    [
                      0.025658321052532518,
                      0.5,
                      0.6581137932417589
                    ],
                    [
                      0.35295715379795256,
                      0.5,
                      0.9778895284276493
                    ],
                    [
                      0.35295715379795256,
                      0.5,
                      0.9778895284276493
                    ],
                    [
                      0.6581138381250768,
                      0.5,
                      0.9743416639863686
                    ],
                    [
                      0.5656735758254892,
                      0.569130091521704,
                      0.9908238094107646
                    ],
                    [
                      0.5620173384048537,
                      0.5,
                      0.9961389419680517
                    ],
                    [
                      0.5,
                      0.5620173384048537,
                      0.9961389419680517
                    ],
                    [
                      0.5,
                      0.5,
                      1
                    ],
                    [
                      0.5038909290987156,
                      0.5622548950329793,
                      0.9960939313428269
                    ],
                    [
                      0.49007332124807296,
                      0.3411730648262593,
                      0.9739994364050155
                    ],
                    [
                      0.691455405518991,
                      0.36837439172198194,
                      0.9427409253084703
                    ],
                    [
                      0.7013629267834967,
                      0.08178471908792295,
                      0.6858734798964519
                    ],
                    [
                      0.9434843548995224,
                      0.35217197495246105,
                      0.6773936356521806
                    ],
                    [
                      0.941135883407096,
                      0.30771010675247973,
                      0.6357340389345953
                    ],
                    [
                      0.9584746928101127,
                      0.641069054105911,
                      0.641069054105911
                    ],
                    [
                      0.927593179473446,
                      0.6832540216036054,
                      0.6832540216036054
                    ],
                    [
                      0.6478280309165543,
                      0.9434843725065795,
                      0.6773935867436582
                    ],
                    [
                      0.6922898243414625,
                      0.9411359108453458,
                      0.6357340473771288
                    ],
                    [
                      0.6725163089933609,
                      0.9485426645653052,
                      0.6380130471946888
                    ],
                    [
                      0.6203324294632874,
                      0.9469492598090201,
                      0.6890938009973675
                    ],
                    [
                      0.9285973795395948,
                      0.6648450499888451,
                      0.6978140433487161
                    ],
                    [
                      0.9456051893594237,
                      0.6713865114951245,
                      0.3514648900310652
                    ],
                    [
                      0.9370786558349018,
                      0.6942570935715856,
                      0.35430706876901774
                    ],
                    [
                      0.7041242203446829,
                      0.7041241559622987,
                      0.09175175245770556
                    ],
                    [
                      0.7041241345015085,
                      0.9082483333854553,
                      0.29587592988084865
                    ],
                    [
                      0.6794895049282399,
                      0.9307749476976246,
                      0.3205105516841613
                    ],
                    [
                      0.317395404997324,
                      0.9296579534994248,
                      0.32097596563982056
                    ],
                    [
                      0.3351549612236432,
                      0.9285973503871081,
                      0.3021858841437953
                    ],
                    [
                      0.3310657313104891,
                      0.939229354352234,
                      0.6689342686895109
                    ],
                    [
                      0.31674590593099183,
                      0.927593117360294,
                      0.6832540940690082
                    ],
                    [
                      0.3167459059309918,
                      0.6832540940690082,
                      0.927593117360294
                    ],
                    [
                      0.358930945894089,
                      0.641069054105911,
                      0.9584746928101127
                    ],
                    [
                      0.6922898932475203,
                      0.6357340389345953,
                      0.941135883407096
                    ],
                    [
                      0.6316256541213083,
                      0.691455366523666,
                      0.9427409285422191
                    ],
                    [
                      0.9182154394045996,
                      0.7013627490489784,
                      0.6858733158338116
                    ],
                    [
                      0.9553390746865958,
                      0.6517797394347068,
                      0.6401043816612715
                    ],
                    [
                      0.9641541443885636,
                      0.6190139364996515,
                      0.6428167117874424
                    ],
                    [
                      0.9370786488986678,
                      0.6456929289189035,
                      0.3057428890878215
                    ],
                    [
                      0.6790240992697041,
                      0.929657973764836,
                      0.6826044836825388
                    ],
                    [
                      0.6978140573824236,
                      0.9285973738971789,
                      0.6648450478186865
                    ],
                    [
                      0.5834621854340771,
                      0.6391036524185617,
                      0.9729526799653256
                    ],
                    [
                      0.6419070360830815,
                      0.6309911165867873,
                      0.9611981358217547
                    ],
                    [
                      0.6357340389345953,
                      0.30771010675247973,
                      0.941135883407096
                    ],
                    [
                      0.7013627490489784,
                      0.6858733158338116,
                      0.9182154394045996
                    ]
                  ],
                  "i": {
                    "bdata": "AAIDBAUFBgcICAkJCgsMDA0ODg4PEBAREhITFBUWFhcXGBkZGhsbGxwdHh4eHREdHx8gICEiIiMkJCUmJicnKCgpKiorKywtLS4uIB8uLi8wMDExMTIyMzM0NDU2Njc3ODk5Ojs7Ozw9Pj4vPj8/QEBAQUFCQkNDPkRERUVGR0dHSEhISElJRkRGSUlDQ0FD",
                    "dtype": "i1"
                  },
                  "j": {
                    "bdata": "AQEBAQEAAAAAAgIDAwMDBAQEBQYGBgcHBwgICAgICQkKCgoLCwsMDQ0NDQ4PDw8RERISExMTFBQUFRUVFhYXFxgYGBkZGhoaGxscHBwgISEhIiIjJCQlJSYmJycnKCgpKSkqKiorLCwsLC0tLy8wMDEyMjMzNDQ1NTU2Njc3Nzg5OTo7PDw9PT1ERkc+Pz9B",
                    "dtype": "i1"
                  },
                  "k": {
                    "bdata": "AgMEBQAGBwgCCQMKCwwEDQ4FBg8QBxESCBMUFRYJFwoYGQsaGwwNHB0eDg8dERAfEiATISIUIyQVJSYWJxcoGCkqGSsaLC0bLhwgHx0hLzAiMSMkMiUzJjQnNTYoNyk4OSo6OyssPD0+LS8uPzBAMTJBM0I0QzU+RDZFN0ZHODlIOjs8ST1GRD5FR0g/QUBC",
                    "dtype": "i1"
                  },
                  "opacity": 0.5,
                  "type": "mesh3d",
                  "x": {
                    "bdata": "AAAAgEKhwL8AAAAAd7vNvwAAAIBGo8G/AAAAAHe7zb8AAACAw+HQvwAAAMBqtcq/AAAAgEKhwL8AAAAASSSivwAAAABAIHA/AAAAgEKhwL8AAAAAd7vNvwAAAIDD4dC/AAAAgMPh0L8AAAAAd7vNvwAAAAB3u82/AAAAgEKhwL8AAAAAeTyuvwAAAABJJKK/AAAAAEAgcL8AAAAASCSiPwAAAIBGo8E/AAAAgEKhwD8AAAAAQCBwPwAAAIBCocC/AAAAAHe7zb8AAACAw+HQvwAAAAB3u82/AAAAAHe7zb8AAACAQqHAvwAAAIBCocC/AAAAwGq1yr8AAAAAeTyuvwAAAABJJKK/AAAAAEAgcD8AAACARqPBPwAAAABrtco/AAAAAHe7zT8AAAAAa7XKPwAAAIBGo8E/AAAAAEAgcL8AAACAQqHAvwAAAAB3u82/AAAAgMPh0L8AAAAAd7vNvwAAAIBCocC/AAAAgEKhwL8AAACARqPBvwAAAABAIHA/AAAAgEajwT8AAAAAd7vNPwAAAIDD4dA/AAAAAHe7zT8AAACARqPBPwAAAABIJKI/AAAAAEkkor8AAACAQqHAvwAAAMBqtcq/AAAAAHe7zb8AAADAarXKvwAAAAB3u82/AAAAgEKhwL8AAAAASSSivwAAAABAIHC/AAAAgEKhwD8AAAAAa7XKPwAAAAB3u80/AAAAAGu1yj8AAACARqPBPwAAAABAIHC/AAAAAHk8rr8AAAAASSSivwAAAIBCocC/AAAAgEKhwL8AAAAAeTyuvw==",
                    "dtype": "f8"
                  },
                  "y": {
                    "bdata": "AAAAgMPh0L8AAACAw+HQvwAAAIBGo8G/AAAAgEajwb8AAACAw+HQvwAAAMDX69W/AAAAwN1u178AAACAxWLRvwAAAIBCocC/AAAAAEAgcD8AAAAAQCBwPwAAAABAIHA/AAAAgEajwb8AAACAw+HQvwAAAMDdbte/AAAAwOVy2b8AAADA1+vVvwAAAMDdbte/AAAAgMVi0b8AAADAVqvFvwAAAABlMrm/AAAAAEAgcL8AAAAAQCBwPwAAAIBGo8E/AAAAgEajwT8AAACARqPBPwAAAABAIHA/AAAAgEajwb8AAACAw+HQvwAAAMDdbte/AAAAwNfr1b8AAADA1+vVvwAAAIDFYtG/AAAAgEKhwL8AAACAQqHAvwAAAIBMJrO/AAAAAEAgcL8AAAAATSazPwAAAABlMrk/AAAAgEKhwD8AAACAw+HQPwAAAIDD4dA/AAAAgMPh0D8AAACARqPBPwAAAIBGo8E/AAAAAEAgcD8AAACARqPBvwAAAABAIHA/AAAAAGUyub8AAAAAZTK5vwAAAABAIHC/AAAAAGUyuT8AAACAQqHAPwAAAIBWq8U/AAAAgMVi0T8AAADA3W7XPwAAAMDX69U/AAAAwN1u1z8AAADA1+vVPwAAAIDD4dA/AAAAgMPh0D8AAACAxWLRPwAAAIBCocA/AAAAAEAgcL8AAACATCazvwAAAABAIHC/AAAAAE0msz8AAAAAZTK5PwAAAIDFYtE/AAAAwNfr1T8AAADA3W7XPwAAAMDn89k/AAAAwN1u1z8AAADA1+vVPw==",
                    "dtype": "f8"
                  },
                  "z": {
                    "bdata": "AAAAgEKhwL8AAAAAZTK5vwAAAIBCocC/AAAAAGUyub8AAAAAQCBwvwAAAIBMJrO/AAAAAGUyub8AAAAAZTK5vwAAAAB1Or2/AAAAgEKhwL8AAAAAZTK5vwAAAABAIHA/AAAAAEAgcL8AAAAAZTK5PwAAAABAIHC/AAAAAEAgcL8AAACATCazvwAAAABAIHC/AAAAAEAgcL8AAAAAQCBwvwAAAABlMrm/AAAAgEKhwL8AAACAQqHAvwAAAIBCocC/AAAAAGUyub8AAAAAQCBwPwAAAABlMrk/AAAAAGUyuT8AAACAQqHAPwAAAABlMrk/AAAAAE0msz8AAAAATSazPwAAAABlMrk/AAAAAHU6vT8AAAAAQCBwvwAAAIBMJrO/AAAAAGUyub8AAACATCazvwAAAABlMrm/AAAAAHU6vb8AAACAQqHAvwAAAABlMrm/AAAAAEAgcD8AAAAAZTK5PwAAAIBCocA/AAAAgEKhwD8AAACAQqHAPwAAAIBCocA/AAAAAGUyuT8AAAAAQCBwvwAAAABAIHC/AAAAAEAgcL8AAAAAQCBwvwAAAABAIHC/AAAAAGUyub8AAAAAZTK5vwAAAIBMJrO/AAAAAEAgcL8AAAAATSazPwAAAABlMrk/AAAAgEKhwD8AAAAAZTK5PwAAAAB1Or0/AAAAgEKhwD8AAAAATSazPwAAAABlMrk/AAAAAE0msz8AAAAAZTK5PwAAAABAIHC/AAAAgEwms78AAAAAQCBwvwAAAABAIHC/AAAAAGUyuT8AAAAATSazPw==",
                    "dtype": "f8"
                  }
                }
              ],
              "layout": {
                "scene": {
                  "xaxis": {
                    "visible": false
                  },
                  "yaxis": {
                    "visible": false
                  },
                  "zaxis": {
                    "visible": false
                  }
                },
                "template": {
                  "data": {
                    "bar": [
                      {
                        "error_x": {
                          "color": "#2a3f5f"
                        },
                        "error_y": {
                          "color": "#2a3f5f"
                        },
                        "marker": {
                          "line": {
                            "color": "#E5ECF6",
                            "width": 0.5
                          },
                          "pattern": {
                            "fillmode": "overlay",
                            "size": 10,
                            "solidity": 0.2
                          }
                        },
                        "type": "bar"
                      }
                    ],
                    "barpolar": [
                      {
                        "marker": {
                          "line": {
                            "color": "#E5ECF6",
                            "width": 0.5
                          },
                          "pattern": {
                            "fillmode": "overlay",
                            "size": 10,
                            "solidity": 0.2
                          }
                        },
                        "type": "barpolar"
                      }
                    ],
                    "carpet": [
                      {
                        "aaxis": {
                          "endlinecolor": "#2a3f5f",
                          "gridcolor": "white",
                          "linecolor": "white",
                          "minorgridcolor": "white",
                          "startlinecolor": "#2a3f5f"
                        },
                        "baxis": {
                          "endlinecolor": "#2a3f5f",
                          "gridcolor": "white",
                          "linecolor": "white",
                          "minorgridcolor": "white",
                          "startlinecolor": "#2a3f5f"
                        },
                        "type": "carpet"
                      }
                    ],
                    "choropleth": [
                      {
                        "colorbar": {
                          "outlinewidth": 0,
                          "ticks": ""
                        },
                        "type": "choropleth"
                      }
                    ],
                    "contour": [
                      {
                        "colorbar": {
                          "outlinewidth": 0,
                          "ticks": ""
                        },
                        "colorscale": [
                          [
                            0,
                            "#0d0887"
                          ],
                          [
                            0.1111111111111111,
                            "#46039f"
                          ],
                          [
                            0.2222222222222222,
                            "#7201a8"
                          ],
                          [
                            0.3333333333333333,
                            "#9c179e"
                          ],
                          [
                            0.4444444444444444,
                            "#bd3786"
                          ],
                          [
                            0.5555555555555556,
                            "#d8576b"
                          ],
                          [
                            0.6666666666666666,
                            "#ed7953"
                          ],
                          [
                            0.7777777777777778,
                            "#fb9f3a"
                          ],
                          [
                            0.8888888888888888,
                            "#fdca26"
                          ],
                          [
                            1,
                            "#f0f921"
                          ]
                        ],
                        "type": "contour"
                      }
                    ],
                    "contourcarpet": [
                      {
                        "colorbar": {
                          "outlinewidth": 0,
                          "ticks": ""
                        },
                        "type": "contourcarpet"
                      }
                    ],
                    "heatmap": [
                      {
                        "colorbar": {
                          "outlinewidth": 0,
                          "ticks": ""
                        },
                        "colorscale": [
                          [
                            0,
                            "#0d0887"
                          ],
                          [
                            0.1111111111111111,
                            "#46039f"
                          ],
                          [
                            0.2222222222222222,
                            "#7201a8"
                          ],
                          [
                            0.3333333333333333,
                            "#9c179e"
                          ],
                          [
                            0.4444444444444444,
                            "#bd3786"
                          ],
                          [
                            0.5555555555555556,
                            "#d8576b"
                          ],
                          [
                            0.6666666666666666,
                            "#ed7953"
                          ],
                          [
                            0.7777777777777778,
                            "#fb9f3a"
                          ],
                          [
                            0.8888888888888888,
                            "#fdca26"
                          ],
                          [
                            1,
                            "#f0f921"
                          ]
                        ],
                        "type": "heatmap"
                      }
                    ],
                    "histogram": [
                      {
                        "marker": {
                          "pattern": {
                            "fillmode": "overlay",
                            "size": 10,
                            "solidity": 0.2
                          }
                        },
                        "type": "histogram"
                      }
                    ],
                    "histogram2d": [
                      {
                        "colorbar": {
                          "outlinewidth": 0,
                          "ticks": ""
                        },
                        "colorscale": [
                          [
                            0,
                            "#0d0887"
                          ],
                          [
                            0.1111111111111111,
                            "#46039f"
                          ],
                          [
                            0.2222222222222222,
                            "#7201a8"
                          ],
                          [
                            0.3333333333333333,
                            "#9c179e"
                          ],
                          [
                            0.4444444444444444,
                            "#bd3786"
                          ],
                          [
                            0.5555555555555556,
                            "#d8576b"
                          ],
                          [
                            0.6666666666666666,
                            "#ed7953"
                          ],
                          [
                            0.7777777777777778,
                            "#fb9f3a"
                          ],
                          [
                            0.8888888888888888,
                            "#fdca26"
                          ],
                          [
                            1,
                            "#f0f921"
                          ]
                        ],
                        "type": "histogram2d"
                      }
                    ],
                    "histogram2dcontour": [
                      {
                        "colorbar": {
                          "outlinewidth": 0,
                          "ticks": ""
                        },
                        "colorscale": [
                          [
                            0,
                            "#0d0887"
                          ],
                          [
                            0.1111111111111111,
                            "#46039f"
                          ],
                          [
                            0.2222222222222222,
                            "#7201a8"
                          ],
                          [
                            0.3333333333333333,
                            "#9c179e"
                          ],
                          [
                            0.4444444444444444,
                            "#bd3786"
                          ],
                          [
                            0.5555555555555556,
                            "#d8576b"
                          ],
                          [
                            0.6666666666666666,
                            "#ed7953"
                          ],
                          [
                            0.7777777777777778,
                            "#fb9f3a"
                          ],
                          [
                            0.8888888888888888,
                            "#fdca26"
                          ],
                          [
                            1,
                            "#f0f921"
                          ]
                        ],
                        "type": "histogram2dcontour"
                      }
                    ],
                    "mesh3d": [
                      {
                        "colorbar": {
                          "outlinewidth": 0,
                          "ticks": ""
                        },
                        "type": "mesh3d"
                      }
                    ],
                    "parcoords": [
                      {
                        "line": {
                          "colorbar": {
                            "outlinewidth": 0,
                            "ticks": ""
                          }
                        },
                        "type": "parcoords"
                      }
                    ],
                    "pie": [
                      {
                        "automargin": true,
                        "type": "pie"
                      }
                    ],
                    "scatter": [
                      {
                        "fillpattern": {
                          "fillmode": "overlay",
                          "size": 10,
                          "solidity": 0.2
                        },
                        "type": "scatter"
                      }
                    ],
                    "scatter3d": [
                      {
                        "line": {
                          "colorbar": {
                            "outlinewidth": 0,
                            "ticks": ""
                          }
                        },
                        "marker": {
                          "colorbar": {
                            "outlinewidth": 0,
                            "ticks": ""
                          }
                        },
                        "type": "scatter3d"
                      }
                    ],
                    "scattercarpet": [
                      {
                        "marker": {
                          "colorbar": {
                            "outlinewidth": 0,
                            "ticks": ""
                          }
                        },
                        "type": "scattercarpet"
                      }
                    ],
                    "scattergeo": [
                      {
                        "marker": {
                          "colorbar": {
                            "outlinewidth": 0,
                            "ticks": ""
                          }
                        },
                        "type": "scattergeo"
                      }
                    ],
                    "scattergl": [
                      {
                        "marker": {
                          "colorbar": {
                            "outlinewidth": 0,
                            "ticks": ""
                          }
                        },
                        "type": "scattergl"
                      }
                    ],
                    "scattermap": [
                      {
                        "marker": {
                          "colorbar": {
                            "outlinewidth": 0,
                            "ticks": ""
                          }
                        },
                        "type": "scattermap"
                      }
                    ],
                    "scattermapbox": [
                      {
                        "marker": {
                          "colorbar": {
                            "outlinewidth": 0,
                            "ticks": ""
                          }
                        },
                        "type": "scattermapbox"
                      }
                    ],
                    "scatterpolar": [
                      {
                        "marker": {
                          "colorbar": {
                            "outlinewidth": 0,
                            "ticks": ""
                          }
                        },
                        "type": "scatterpolar"
                      }
                    ],
                    "scatterpolargl": [
                      {
                        "marker": {
                          "colorbar": {
                            "outlinewidth": 0,
                            "ticks": ""
                          }
                        },
                        "type": "scatterpolargl"
                      }
                    ],
                    "scatterternary": [
                      {
                        "marker": {
                          "colorbar": {
                            "outlinewidth": 0,
                            "ticks": ""
                          }
                        },
                        "type": "scatterternary"
                      }
                    ],
                    "surface": [
                      {
                        "colorbar": {
                          "outlinewidth": 0,
                          "ticks": ""
                        },
                        "colorscale": [
                          [
                            0,
                            "#0d0887"
                          ],
                          [
                            0.1111111111111111,
                            "#46039f"
                          ],
                          [
                            0.2222222222222222,
                            "#7201a8"
                          ],
                          [
                            0.3333333333333333,
                            "#9c179e"
                          ],
                          [
                            0.4444444444444444,
                            "#bd3786"
                          ],
                          [
                            0.5555555555555556,
                            "#d8576b"
                          ],
                          [
                            0.6666666666666666,
                            "#ed7953"
                          ],
                          [
                            0.7777777777777778,
                            "#fb9f3a"
                          ],
                          [
                            0.8888888888888888,
                            "#fdca26"
                          ],
                          [
                            1,
                            "#f0f921"
                          ]
                        ],
                        "type": "surface"
                      }
                    ],
                    "table": [
                      {
                        "cells": {
                          "fill": {
                            "color": "#EBF0F8"
                          },
                          "line": {
                            "color": "white"
                          }
                        },
                        "header": {
                          "fill": {
                            "color": "#C8D4E3"
                          },
                          "line": {
                            "color": "white"
                          }
                        },
                        "type": "table"
                      }
                    ]
                  },
                  "layout": {
                    "annotationdefaults": {
                      "arrowcolor": "#2a3f5f",
                      "arrowhead": 0,
                      "arrowwidth": 1
                    },
                    "autotypenumbers": "strict",
                    "coloraxis": {
                      "colorbar": {
                        "outlinewidth": 0,
                        "ticks": ""
                      }
                    },
                    "colorscale": {
                      "diverging": [
                        [
                          0,
                          "#8e0152"
                        ],
                        [
                          0.1,
                          "#c51b7d"
                        ],
                        [
                          0.2,
                          "#de77ae"
                        ],
                        [
                          0.3,
                          "#f1b6da"
                        ],
                        [
                          0.4,
                          "#fde0ef"
                        ],
                        [
                          0.5,
                          "#f7f7f7"
                        ],
                        [
                          0.6,
                          "#e6f5d0"
                        ],
                        [
                          0.7,
                          "#b8e186"
                        ],
                        [
                          0.8,
                          "#7fbc41"
                        ],
                        [
                          0.9,
                          "#4d9221"
                        ],
                        [
                          1,
                          "#276419"
                        ]
                      ],
                      "sequential": [
                        [
                          0,
                          "#0d0887"
                        ],
                        [
                          0.1111111111111111,
                          "#46039f"
                        ],
                        [
                          0.2222222222222222,
                          "#7201a8"
                        ],
                        [
                          0.3333333333333333,
                          "#9c179e"
                        ],
                        [
                          0.4444444444444444,
                          "#bd3786"
                        ],
                        [
                          0.5555555555555556,
                          "#d8576b"
                        ],
                        [
                          0.6666666666666666,
                          "#ed7953"
                        ],
                        [
                          0.7777777777777778,
                          "#fb9f3a"
                        ],
                        [
                          0.8888888888888888,
                          "#fdca26"
                        ],
                        [
                          1,
                          "#f0f921"
                        ]
                      ],
                      "sequentialminus": [
                        [
                          0,
                          "#0d0887"
                        ],
                        [
                          0.1111111111111111,
                          "#46039f"
                        ],
                        [
                          0.2222222222222222,
                          "#7201a8"
                        ],
                        [
                          0.3333333333333333,
                          "#9c179e"
                        ],
                        [
                          0.4444444444444444,
                          "#bd3786"
                        ],
                        [
                          0.5555555555555556,
                          "#d8576b"
                        ],
                        [
                          0.6666666666666666,
                          "#ed7953"
                        ],
                        [
                          0.7777777777777778,
                          "#fb9f3a"
                        ],
                        [
                          0.8888888888888888,
                          "#fdca26"
                        ],
                        [
                          1,
                          "#f0f921"
                        ]
                      ]
                    },
                    "colorway": [
                      "#636efa",
                      "#EF553B",
                      "#00cc96",
                      "#ab63fa",
                      "#FFA15A",
                      "#19d3f3",
                      "#FF6692",
                      "#B6E880",
                      "#FF97FF",
                      "#FECB52"
                    ],
                    "font": {
                      "color": "#2a3f5f"
                    },
                    "geo": {
                      "bgcolor": "white",
                      "lakecolor": "white",
                      "landcolor": "#E5ECF6",
                      "showlakes": true,
                      "showland": true,
                      "subunitcolor": "white"
                    },
                    "hoverlabel": {
                      "align": "left"
                    },
                    "hovermode": "closest",
                    "mapbox": {
                      "style": "light"
                    },
                    "paper_bgcolor": "white",
                    "plot_bgcolor": "#E5ECF6",
                    "polar": {
                      "angularaxis": {
                        "gridcolor": "white",
                        "linecolor": "white",
                        "ticks": ""
                      },
                      "bgcolor": "#E5ECF6",
                      "radialaxis": {
                        "gridcolor": "white",
                        "linecolor": "white",
                        "ticks": ""
                      }
                    },
                    "scene": {
                      "xaxis": {
                        "backgroundcolor": "#E5ECF6",
                        "gridcolor": "white",
                        "gridwidth": 2,
                        "linecolor": "white",
                        "showbackground": true,
                        "ticks": "",
                        "zerolinecolor": "white"
                      },
                      "yaxis": {
                        "backgroundcolor": "#E5ECF6",
                        "gridcolor": "white",
                        "gridwidth": 2,
                        "linecolor": "white",
                        "showbackground": true,
                        "ticks": "",
                        "zerolinecolor": "white"
                      },
                      "zaxis": {
                        "backgroundcolor": "#E5ECF6",
                        "gridcolor": "white",
                        "gridwidth": 2,
                        "linecolor": "white",
                        "showbackground": true,
                        "ticks": "",
                        "zerolinecolor": "white"
                      }
                    },
                    "shapedefaults": {
                      "line": {
                        "color": "#2a3f5f"
                      }
                    },
                    "ternary": {
                      "aaxis": {
                        "gridcolor": "white",
                        "linecolor": "white",
                        "ticks": ""
                      },
                      "baxis": {
                        "gridcolor": "white",
                        "linecolor": "white",
                        "ticks": ""
                      },
                      "bgcolor": "#E5ECF6",
                      "caxis": {
                        "gridcolor": "white",
                        "linecolor": "white",
                        "ticks": ""
                      }
                    },
                    "title": {
                      "x": 0.05
                    },
                    "xaxis": {
                      "automargin": true,
                      "gridcolor": "white",
                      "linecolor": "white",
                      "ticks": "",
                      "title": {
                        "standoff": 15
                      },
                      "zerolinecolor": "white",
                      "zerolinewidth": 2
                    },
                    "yaxis": {
                      "automargin": true,
                      "gridcolor": "white",
                      "linecolor": "white",
                      "ticks": "",
                      "title": {
                        "standoff": 15
                      },
                      "zerolinecolor": "white",
                      "zerolinewidth": 2
                    }
                  }
                }
              }
            }
          },
          "metadata": {},
          "output_type": "display_data"
        }
      ],
      "source": [
        "# Plot mesh from: https://colab.research.google.com/drive/1CR_HDvJ2AnjJV3Bf5vwP70K0hx3RcdMb?usp=sharing#scrollTo=kXi90AcckMF5\n",
        "\n",
        "triangles = np.asarray(scene_mesh.faces)\n",
        "vertices = np.asarray(scene_mesh.vertices)\n",
        "colors = None\n",
        "\n",
        "mesh = o3d.geometry.TriangleMesh()\n",
        "mesh.vertices = o3d.utility.Vector3dVector(vertices)\n",
        "mesh.triangles = o3d.utility.Vector3iVector(triangles)\n",
        "\n",
        "if not mesh.has_vertex_normals(): mesh.compute_vertex_normals()\n",
        "if not mesh.has_triangle_normals(): mesh.compute_triangle_normals()\n",
        "\n",
        "if mesh.has_triangle_normals():\n",
        "    colors = (0.5, 0.5, 0.5) + np.asarray(mesh.triangle_normals) * 0.5\n",
        "    colors = tuple(map(tuple, colors))\n",
        "else:\n",
        "    colors = (1.0, 0.0, 0.0)\n",
        "\n",
        "import plotly.graph_objects as go\n",
        "\n",
        "fig = go.Figure(\n",
        "    data=[\n",
        "        go.Mesh3d(\n",
        "            x=vertices[:,0],\n",
        "            y=vertices[:,1],\n",
        "            z=vertices[:,2],\n",
        "            i=triangles[:,0],\n",
        "            j=triangles[:,1],\n",
        "            k=triangles[:,2],\n",
        "            facecolor=colors,\n",
        "            opacity=0.50)\n",
        "    ],\n",
        "    layout=dict(\n",
        "        scene=dict(\n",
        "            xaxis=dict(visible=False),\n",
        "            yaxis=dict(visible=False),\n",
        "            zaxis=dict(visible=False)\n",
        "        )\n",
        "    )\n",
        ")\n",
        "fig.show()"
      ]
    },
    {
      "cell_type": "code",
      "execution_count": 10,
      "metadata": {
        "colab": {
          "base_uri": "https://localhost:8080/",
          "height": 105
        },
        "id": "sSfelqVcYbXF",
        "outputId": "ad04b074-a6b2-464c-e8d7-981eec402744"
      },
      "outputs": [
        {
          "data": {
            "text/plain": [
              "'# https://github.com/mikedh/trimesh\\nv -0.12992126 -0.26377952 -0.12992126\\nv -0.23228347 -0.26377952 -0.09842521\\nv -0.13779527 -0.13779527 -0.12992126\\nv -0.23228347 -0.13779527 -0.09842521\\nv -0.26377952 -0.26377952 -0.00393701\\nv -0.20866141 -0.34251970 -0.07480314\\nv -0.12992126 -0.36614174 -0.09842521\\nv -0.03543308 -0.27165353 -0.09842521\\nv 0.00393701 -0.12992126 -0.11417323\\nv -0.12992126 0.00393701 -0.12992126\\nv -0.23228347 0.00393701 -0.09842521\\nv -0.26377952 0.00393701 0.00393701\\nv -0.26377952 -0.13779527 -0.00393701\\nv -0.23228347 -0.26377952 0.09842521\\nv -0.23228347 -0.36614174 -0.00393701\\nv -0.12992126 -0.39763778 -0.00393701\\nv -0.05905512 -0.34251970 -0.07480314\\nv -0.03543308 -0.36614174 -0.00393701\\nv -0.00393701 -0.27165353 -0.00393701\\nv 0.03543305 -0.16929135 -0.00393701\\nv 0.13779527 -0.09842521 -0.09842521\\nv 0.12992126 -0.00393701 -0.12992126\\nv 0.00393701 0.00393701 -0.12992126\\nv -0.12992126 0.13779527 -0.12992126\\nv -0.23228347 0.13779527 -0.09842521\\nv -0.26377952 0.13779527 0.00393701\\nv -0.23228347 0.00393701 0.09842521\\nv -0.23228347 -0.13779527 0.09842521\\nv -0.12992126 -0.26377952 0.12992126\\nv -0.12992126 -0.36614174 0.09842521\\nv -0.20866141 -0.34251970 0.07480317\\nv -0.05905512 -0.34251970 0.07480317\\nv -0.03543308 -0.27165353 0.09842521\\nv 0.00393701 -0.12992126 0.11417323\\nv 0.13779527 -0.12992126 -0.00393701\\nv 0.20866144 -0.07480314 -0.07480314\\nv 0.23228347 -0.00393701 -0.09842521\\nv 0.20866144 0.07480317 -0.07480314\\nv 0.13779527 0.09842521 -0.09842521\\nv -0.00393701 0.12992126 -0.11417323\\nv -0.12992126 0.26377952 -0.12992126\\nv -0.23228347 0.26377952 -0.09842521\\nv -0.26377952 0.26377952 0.00393701\\nv -0.23228347 0.13779527 0.09842521\\nv -0.12992126 0.13779527 0.12992126\\nv -0.12992126 0.00393701 0.12992126\\nv -0.13779527 -0.13779527 0.12992126\\nv 0.00393701 0.00393701 0.12992126\\nv 0.13779527 -0.09842521 0.09842521\\nv 0.23228347 -0.09842521 -0.00393701\\nv 0.26377952 -0.00393701 -0.00393701\\nv 0.23228347 0.09842521 -0.00393701\\nv 0.13779527 0.12992126 -0.00393701\\nv 0.03543305 0.16929132 -0.00393701\\nv -0.03543308 0.27165353 -0.09842521\\nv -0.12992126 0.36614174 -0.09842521\\nv -0.20866141 0.34251970 -0.07480314\\nv -0.23228347 0.36614174 -0.00393701\\nv -0.20866141 0.34251970 0.07480317\\nv -0.23228347 0.26377952 0.09842521\\nv -0.12992126 0.26377952 0.12992126\\nv -0.03543308 0.27165353 0.09842521\\nv -0.00393701 0.12992126 0.11417323\\nv 0.12992126 -0.00393701 0.12992126\\nv 0.20866144 -0.07480314 0.07480317\\nv 0.23228347 -0.00393701 0.09842521\\nv 0.20866144 0.07480317 0.07480317\\nv 0.13779527 0.09842521 0.09842521\\nv -0.00393701 0.27165353 -0.00393701\\nv -0.05905512 0.34251970 -0.07480314\\nv -0.03543308 0.36614174 -0.00393701\\nv -0.12992126 0.40551180 -0.00393701\\nv -0.12992126 0.36614174 0.09842521\\nv -0.05905512 0.34251970 0.07480317\\nf 1 2 3\\nf 3 2 4\\nf 4 2 5\\nf 5 2 6\\nf 6 2 1\\nf 6 1 7\\nf 7 1 8\\nf 8 1 9\\nf 9 1 3\\nf 9 3 10\\nf 10 3 4\\nf 10 4 11\\nf 11 4 12\\nf 12 4 13\\nf 13 4 5\\nf 13 5 14\\nf 14 5 15\\nf 15 5 6\\nf 15 6 7\\nf 15 7 16\\nf 16 7 17\\nf 17 7 8\\nf 17 8 18\\nf 18 8 19\\nf 19 8 9\\nf 19 9 20\\nf 20 9 21\\nf 21 9 22\\nf 22 9 23\\nf 23 9 10\\nf 23 10 24\\nf 24 10 11\\nf 24 11 25\\nf 25 11 26\\nf 26 11 12\\nf 26 12 27\\nf 27 12 28\\nf 28 12 13\\nf 28 13 14\\nf 28 14 29\\nf 29 14 30\\nf 30 14 31\\nf 31 14 15\\nf 31 15 16\\nf 31 16 30\\nf 30 16 18\\nf 18 16 17\\nf 30 18 32\\nf 32 18 19\\nf 32 19 33\\nf 33 19 20\\nf 33 20 34\\nf 34 20 35\\nf 35 20 21\\nf 35 21 36\\nf 36 21 37\\nf 37 21 22\\nf 37 22 38\\nf 38 22 39\\nf 39 22 23\\nf 39 23 40\\nf 40 23 24\\nf 40 24 41\\nf 41 24 25\\nf 41 25 42\\nf 42 25 43\\nf 43 25 26\\nf 43 26 44\\nf 44 26 27\\nf 44 27 45\\nf 45 27 46\\nf 46 27 28\\nf 46 28 47\\nf 47 28 29\\nf 47 29 33\\nf 33 29 32\\nf 32 29 30\\nf 47 33 34\\nf 47 34 48\\nf 48 34 49\\nf 49 34 35\\nf 49 35 50\\nf 50 35 36\\nf 50 36 37\\nf 50 37 51\\nf 51 37 38\\nf 51 38 52\\nf 52 38 39\\nf 52 39 53\\nf 53 39 40\\nf 53 40 54\\nf 54 40 55\\nf 55 40 41\\nf 55 41 56\\nf 56 41 42\\nf 56 42 57\\nf 57 42 58\\nf 58 42 43\\nf 58 43 59\\nf 59 43 60\\nf 60 43 44\\nf 60 44 45\\nf 60 45 61\\nf 61 45 62\\nf 62 45 63\\nf 63 45 46\\nf 63 46 48\\nf 48 46 47\\nf 63 48 64\\nf 64 48 49\\nf 64 49 65\\nf 65 49 50\\nf 65 50 51\\nf 65 51 66\\nf 66 51 52\\nf 66 52 67\\nf 67 52 53\\nf 67 53 68\\nf 68 53 54\\nf 68 54 63\\nf 63 54 69\\nf 69 54 55\\nf 69 55 70\\nf 70 55 56\\nf 70 56 71\\nf 71 56 72\\nf 72 56 57\\nf 72 57 58\\nf 72 58 73\\nf 73 58 59\\nf 73 59 60\\nf 73 60 61\\nf 73 61 74\\nf 74 61 62\\nf 74 62 71\\nf 71 62 69\\nf 69 62 63\\nf 71 69 70\\nf 74 71 72\\nf 74 72 73\\nf 68 63 64\\nf 68 64 66\\nf 66 64 65\\nf 68 66 67\\n\\n'"
            ]
          },
          "execution_count": 10,
          "metadata": {},
          "output_type": "execute_result"
        }
      ],
      "source": [
        "# Save mesh if necessary\n",
        "outputFilePath=\"./output/GENERATE_\"+os.path.split(MESH_PATH)[1]\n",
        "scene_mesh.export(outputFilePath)\n"
      ]
    },
    {
      "cell_type": "code",
      "execution_count": null,
      "metadata": {
        "id": "aoVn3MajeiDB"
      },
      "outputs": [],
      "source": []
    }
  ],
  "metadata": {
    "accelerator": "GPU",
    "colab": {
      "gpuType": "T4",
      "provenance": []
    },
    "kernelspec": {
      "display_name": "Python 3",
      "name": "python3"
    },
    "language_info": {
      "codemirror_mode": {
        "name": "ipython",
        "version": 3
      },
      "file_extension": ".py",
      "mimetype": "text/x-python",
      "name": "python",
      "nbconvert_exporter": "python",
      "pygments_lexer": "ipython3",
      "version": "3.11.13"
    }
  },
  "nbformat": 4,
  "nbformat_minor": 0
}
